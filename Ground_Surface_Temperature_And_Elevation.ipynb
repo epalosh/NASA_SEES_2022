{
  "cells": [
    {
      "cell_type": "markdown",
      "metadata": {
        "id": "view-in-github",
        "colab_type": "text"
      },
      "source": [
        "<a href=\"https://colab.research.google.com/github/epalosh/SEES-2022/blob/main/Ground_Surface_Temperature_And_Elevation.ipynb\" target=\"_parent\"><img src=\"https://colab.research.google.com/assets/colab-badge.svg\" alt=\"Open In Colab\"/></a>"
      ]
    },
    {
      "cell_type": "markdown",
      "source": [
        "# Land Surface Temperature Using GEE!\n",
        "\n",
        "*Notebook by: Ethan Palosh*\n",
        "\n",
        "Dataset: \"PRISM Daily Spatial Climate Dataset AN81d\" \n",
        "https://developers.google.com/earth-engine/datasets/catalog/OREGONSTATE_PRISM_AN81d#bands "
      ],
      "metadata": {
        "id": "H_WnM0FQUsNN"
      }
    },
    {
      "cell_type": "markdown",
      "metadata": {
        "id": "rJVq_20ijflH"
      },
      "source": [
        "Topics practiced:\n",
        "  - Reducers\n",
        "  - Loading and filtering image collections\n",
        "  - Loading, filtering, and editing vector data"
      ]
    },
    {
      "cell_type": "markdown",
      "metadata": {
        "id": "JPcQ9bcU60sr"
      },
      "source": [
        "## Setup"
      ]
    },
    {
      "cell_type": "markdown",
      "metadata": {
        "id": "bNMEXWv860ss"
      },
      "source": [
        "### Earth Engine setup"
      ]
    },
    {
      "cell_type": "code",
      "execution_count": 1,
      "metadata": {
        "colab": {
          "base_uri": "https://localhost:8080/"
        },
        "id": "5X5ClthV60ss",
        "outputId": "f3ae5fdb-8723-459e-afc5-4f2245a2390c"
      },
      "outputs": [
        {
          "output_type": "stream",
          "name": "stdout",
          "text": [
            "To authorize access needed by Earth Engine, open the following URL in a web browser and follow the instructions. If the web browser does not start automatically, please manually browse the URL below.\n",
            "\n",
            "    https://code.earthengine.google.com/client-auth?scopes=https%3A//www.googleapis.com/auth/earthengine%20https%3A//www.googleapis.com/auth/devstorage.full_control&request_id=v-M3nDaPwpWbQBZSPjgy3-HG3uKBXuboH33npwAVBFk&tc=AaylCc0H1BVXXK46SIlj_5kQKRctdjlSBMJTHoVomeI&cc=wl_PGvWIkcSM9PN-ix_sp-HF83NapGdaPgFnYzb9UmA\n",
            "\n",
            "The authorization workflow will generate a code, which you should paste in the box below.\n",
            "Enter verification code: 4/1AdQt8qg5Np-VxLlH7j-H_8USPlL2QU2CETHAY1V3l8l-MUQ2IiDCIT5rUOY\n",
            "\n",
            "Successfully saved authorization token.\n"
          ]
        }
      ],
      "source": [
        "import ee\n",
        "ee.Authenticate()\n",
        "ee.Initialize()"
      ]
    },
    {
      "cell_type": "markdown",
      "metadata": {
        "id": "72RBBAeB60ss"
      },
      "source": [
        "### GEE map setup (for interactive map display)"
      ]
    },
    {
      "cell_type": "code",
      "execution_count": 2,
      "metadata": {
        "colab": {
          "base_uri": "https://localhost:8080/",
          "height": 52
        },
        "id": "9q_EiZ73C5UY",
        "outputId": "0b2ffacd-19de-4564-f927-350e5ee5c0df"
      },
      "outputs": [
        {
          "output_type": "stream",
          "name": "stdout",
          "text": [
            "geemap package not installed. Installing ...\n",
            "geemap is now installed, imported and ready to use in Colab\n"
          ]
        }
      ],
      "source": [
        "# Installs geemap package\n",
        "import subprocess\n",
        "\n",
        "try:\n",
        "    import geemap.eefolium as geemap\n",
        "    print(\"geemap is imported and ready to use in Colab\")\n",
        "except ImportError:\n",
        "    print('geemap package not installed. Installing ...')\n",
        "    subprocess.check_call([\"python\", '-m', 'pip', 'install', 'geemap'])\n",
        "    import geemap.eefolium as geemap\n",
        "    print(\"geemap is now installed, imported and ready to use in Colab\") \n",
        "\n",
        "#geemap.update_package()"
      ]
    },
    {
      "cell_type": "code",
      "execution_count": 3,
      "metadata": {
        "id": "Sceft8dIMU2p"
      },
      "outputs": [],
      "source": [
        "import folium\n",
        "\n",
        "\n",
        "def add_ee_layer(self, ee_image_object, vis_params, name):\n",
        "  map_id_dict = ee.Image(ee_image_object).getMapId(vis_params)\n",
        "  folium.raster_layers.TileLayer(\n",
        "      tiles=map_id_dict['tile_fetcher'].url_format,\n",
        "      attr='Map Data &copy; <a href=\"https://earthengine.google.com/\">Google Earth Engine</a>',\n",
        "      name=name,\n",
        "      overlay=True,\n",
        "      control=True\n",
        "  ).add_to(self)\n",
        "\n",
        "folium.Map.add_ee_layer = add_ee_layer"
      ]
    },
    {
      "cell_type": "markdown",
      "source": [
        "# Code!"
      ],
      "metadata": {
        "id": "xYs0vPBxXp4r"
      }
    },
    {
      "cell_type": "markdown",
      "metadata": {
        "id": "mQ3t9OlNmFET"
      },
      "source": [
        "**Create Image collections!**\n",
        "\n",
        "First, I imported data, selected a band, and filtered by date.\n",
        "\n",
        "Then, I created another image collection of ecoregions.\n",
        "\n",
        "Finally, I reduced the dataset by \"mean\" to find the average of daily averages over the time period!"
      ]
    },
    {
      "cell_type": "code",
      "execution_count": 4,
      "metadata": {
        "id": "l1ikUCkoFHoY"
      },
      "outputs": [],
      "source": [
        "# load temp data through PRISM: 365 images per year\n",
        "precipCollection = ee.ImageCollection('OREGONSTATE/PRISM/AN81d') \\\n",
        "                    .select('tmean') \\\n",
        "                    .filterDate('2021-01-01', '2021-12-31')\n",
        "\n",
        "EcoRegions = ee.FeatureCollection('EPA/Ecoregions/2013/L3') \n",
        "   # .filter(ee.Filter.eq(\"STATEFP\", \"48\"))\n",
        "\n",
        "\n",
        "avgTemp = precipCollection.reduce(ee.Reducer.mean())"
      ]
    },
    {
      "cell_type": "markdown",
      "source": [
        "**Filter and define by areas of interest...**\n",
        "\n",
        "In this cell I filter by the states I'm looking to display county averages. I use the states that my group members are from: Washington, California, Georgia, Texas, and New Jersey.\n",
        "\n",
        "Then, I reduce the avgTemp image to display average temp within a county.\n",
        "\n",
        "Finally, I created an image that can be layered ontop of other maps that displays the ecoregions I pulled earlier."
      ],
      "metadata": {
        "id": "WG-DUCJ4Y9P8"
      }
    },
    {
      "cell_type": "code",
      "execution_count": 5,
      "metadata": {
        "id": "8OZCbbBVmDnn"
      },
      "outputs": [],
      "source": [
        "SEES_CD_States = ['06','13','34','48','53'] # state FIPS codes that we want\n",
        "\n",
        "# a new Feature Collection of only the states that we want to analyze\n",
        "counties = ee.FeatureCollection(\"TIGER/2018/Counties\") \\\n",
        "        .filter(ee.Filter.inList('STATEFP', SEES_CD_States))\n",
        "\n",
        "# get mean temp values by county polygon\n",
        "# Note the use of the reduceRegions and the mean Reducer.\n",
        "# 4638.3 is the resolution of the PRISM dataset\n",
        "\n",
        "countyTemp = avgTemp.reduceRegions(\n",
        "    **{\n",
        "        'collection': counties,\n",
        "        'reducer': ee.Reducer.mean(),\n",
        "        'scale': 4638.3,\n",
        "       }\n",
        "    )\n",
        "\n",
        "#paint ecoregions onto map!\n",
        "ECO = ee.Image().paint(EcoRegions, 0, 1)"
      ]
    },
    {
      "cell_type": "code",
      "execution_count": 6,
      "metadata": {
        "colab": {
          "base_uri": "https://localhost:8080/"
        },
        "id": "E7F-CHF5jy-1",
        "outputId": "5224a8c3-0dd4-421e-9218-c1461499dc4c"
      },
      "outputs": [
        {
          "output_type": "stream",
          "name": "stdout",
          "text": [
            "<class 'ee.featurecollection.FeatureCollection'>\n"
          ]
        }
      ],
      "source": [
        "tiger_co = ee.FeatureCollection(\"TIGER/2018/Counties\")\n",
        "print(type(tiger_co))"
      ]
    },
    {
      "cell_type": "markdown",
      "metadata": {
        "id": "uaSGuW-nhLXR"
      },
      "source": [
        "Calculates the highest county mean temperature and show value. (For use in defining bounds when mapping)"
      ]
    },
    {
      "cell_type": "code",
      "execution_count": 7,
      "metadata": {
        "colab": {
          "base_uri": "https://localhost:8080/"
        },
        "id": "IxVYRlCXf-qc",
        "outputId": "08d60966-2384-42b2-f4be-8ee66347d4ef"
      },
      "outputs": [
        {
          "output_type": "stream",
          "name": "stdout",
          "text": [
            "Max of mean county average temperature over a year = 24.157193714831102 degrees celsius\n"
          ]
        }
      ],
      "source": [
        "our_max_mean = countyTemp.aggregate_max('mean')\n",
        "print('Max of mean county average temperature over a year = {} degrees celsius'.format(our_max_mean.getInfo()))"
      ]
    },
    {
      "cell_type": "markdown",
      "metadata": {
        "id": "73KXUL-ThaOL"
      },
      "source": [
        "Calculates the lowest county mean temperature and show value."
      ]
    },
    {
      "cell_type": "code",
      "execution_count": 8,
      "metadata": {
        "colab": {
          "base_uri": "https://localhost:8080/"
        },
        "id": "nLqBDUolhjeR",
        "outputId": "958bbc8f-e6d3-4e3f-fd92-9dd77fe6973c"
      },
      "outputs": [
        {
          "output_type": "stream",
          "name": "stdout",
          "text": [
            "Min of mean county average temperature over a year = 6.547634910029122 degrees celsius\n"
          ]
        }
      ],
      "source": [
        "our_min_mean = countyTemp.aggregate_min('mean')\n",
        "print('Min of mean county average temperature over a year = {} degrees celsius'.format(our_min_mean.getInfo()))"
      ]
    },
    {
      "cell_type": "markdown",
      "metadata": {
        "id": "nCajB3d2qb07"
      },
      "source": [
        "##Show the resulting mean average temperature by county"
      ]
    },
    {
      "cell_type": "markdown",
      "source": [
        "In this code cell, I start by defning a color palette for the map.\n",
        "\n",
        "Then, I defined a painting variable called \"fills\" which will map the county temperatures by averaging the values in the county, and mapping it withing the boundries. (like little blocks of color)"
      ],
      "metadata": {
        "id": "HrUejuvsbyD_"
      }
    },
    {
      "cell_type": "code",
      "execution_count": 10,
      "metadata": {
        "id": "-uI2MTmTqckn"
      },
      "outputs": [],
      "source": [
        "palette = ['purple','blue','cyan','green','yellow','red']\n",
        "# Create an empty image into which to paint the features, cast to byte.\n",
        "empty = ee.Image().byte()\n",
        "fills = empty.paint(\n",
        "    **{\n",
        "        'featureCollection': countyTemp,\n",
        "        'color': 'mean',\n",
        "       }\n",
        "    )"
      ]
    },
    {
      "cell_type": "markdown",
      "source": [
        "**Finally, I map it!**\n",
        "\n",
        "First, I define the map variable and set the center and zoom factor.\n",
        "\n",
        "Then, I add each layer to the map. Access each layer by selecting the layer button on the top right of the map."
      ],
      "metadata": {
        "id": "xUsAwhw-uM-H"
      }
    },
    {
      "cell_type": "code",
      "source": [
        "Map = geemap.Map()\n",
        "Map.setCenter(-99.67, 38.41, 5)\n",
        "# Note using min and max from aggregate functions to set high and low visualization values.\n",
        "Map.addLayer(fills, {'palette': palette, 'min': 2, 'max': 24}, 'Country Averages')\n",
        "Map.addLayer(avgTemp, {'palette': palette, 'min': 2, 'max': 24}, 'national colored fills')\n",
        "Map.addLayer(ECO, {}, 'Eco Regions') #Add ecoregion boundries\n",
        "\n",
        "Map"
      ],
      "metadata": {
        "colab": {
          "base_uri": "https://localhost:8080/",
          "height": 1000
        },
        "id": "weS278CPuGMp",
        "outputId": "730d767d-c2f5-4eb4-ab5b-dda067113bc7"
      },
      "execution_count": 13,
      "outputs": [
        {
          "output_type": "execute_result",
          "data": {
            "text/plain": [
              "<geemap.eefolium.Map at 0x7f820ccadd90>"
            ],
            "text/html": [
              "<div style=\"width:100%;\"><div style=\"position:relative;width:100%;height:0;padding-bottom:60%;\"><span style=\"color:#565656\">Make this Notebook Trusted to load map: File -> Trust Notebook</span><iframe srcdoc=\"&lt;!DOCTYPE html&gt;\n",
              "&lt;head&gt;    \n",
              "    &lt;meta http-equiv=&quot;content-type&quot; content=&quot;text/html; charset=UTF-8&quot; /&gt;\n",
              "    \n",
              "        &lt;script&gt;\n",
              "            L_NO_TOUCH = false;\n",
              "            L_DISABLE_3D = false;\n",
              "        &lt;/script&gt;\n",
              "    \n",
              "    &lt;style&gt;html, body {width: 100%;height: 100%;margin: 0;padding: 0;}&lt;/style&gt;\n",
              "    &lt;style&gt;#map {position:absolute;top:0;bottom:0;right:0;left:0;}&lt;/style&gt;\n",
              "    &lt;script src=&quot;https://cdn.jsdelivr.net/npm/leaflet@1.6.0/dist/leaflet.js&quot;&gt;&lt;/script&gt;\n",
              "    &lt;script src=&quot;https://code.jquery.com/jquery-1.12.4.min.js&quot;&gt;&lt;/script&gt;\n",
              "    &lt;script src=&quot;https://maxcdn.bootstrapcdn.com/bootstrap/3.2.0/js/bootstrap.min.js&quot;&gt;&lt;/script&gt;\n",
              "    &lt;script src=&quot;https://cdnjs.cloudflare.com/ajax/libs/Leaflet.awesome-markers/2.0.2/leaflet.awesome-markers.js&quot;&gt;&lt;/script&gt;\n",
              "    &lt;link rel=&quot;stylesheet&quot; href=&quot;https://cdn.jsdelivr.net/npm/leaflet@1.6.0/dist/leaflet.css&quot;/&gt;\n",
              "    &lt;link rel=&quot;stylesheet&quot; href=&quot;https://maxcdn.bootstrapcdn.com/bootstrap/3.2.0/css/bootstrap.min.css&quot;/&gt;\n",
              "    &lt;link rel=&quot;stylesheet&quot; href=&quot;https://maxcdn.bootstrapcdn.com/bootstrap/3.2.0/css/bootstrap-theme.min.css&quot;/&gt;\n",
              "    &lt;link rel=&quot;stylesheet&quot; href=&quot;https://maxcdn.bootstrapcdn.com/font-awesome/4.6.3/css/font-awesome.min.css&quot;/&gt;\n",
              "    &lt;link rel=&quot;stylesheet&quot; href=&quot;https://cdnjs.cloudflare.com/ajax/libs/Leaflet.awesome-markers/2.0.2/leaflet.awesome-markers.css&quot;/&gt;\n",
              "    &lt;link rel=&quot;stylesheet&quot; href=&quot;https://cdn.jsdelivr.net/gh/python-visualization/folium/folium/templates/leaflet.awesome.rotate.min.css&quot;/&gt;\n",
              "    \n",
              "            &lt;meta name=&quot;viewport&quot; content=&quot;width=device-width,\n",
              "                initial-scale=1.0, maximum-scale=1.0, user-scalable=no&quot; /&gt;\n",
              "            &lt;style&gt;\n",
              "                #map_4f0bbcbb84cb710dfef20b8d1b631414 {\n",
              "                    position: relative;\n",
              "                    width: 100.0%;\n",
              "                    height: 100.0%;\n",
              "                    left: 0.0%;\n",
              "                    top: 0.0%;\n",
              "                }\n",
              "            &lt;/style&gt;\n",
              "        \n",
              "    &lt;script src=&quot;https://cdnjs.cloudflare.com/ajax/libs/leaflet.fullscreen/1.4.2/Control.FullScreen.min.js&quot;&gt;&lt;/script&gt;\n",
              "    &lt;link rel=&quot;stylesheet&quot; href=&quot;https://cdnjs.cloudflare.com/ajax/libs/leaflet.fullscreen/1.4.2/Control.FullScreen.min.css&quot;/&gt;\n",
              "&lt;/head&gt;\n",
              "&lt;body&gt;    \n",
              "    \n",
              "            &lt;div class=&quot;folium-map&quot; id=&quot;map_4f0bbcbb84cb710dfef20b8d1b631414&quot; &gt;&lt;/div&gt;\n",
              "        \n",
              "&lt;/body&gt;\n",
              "&lt;script&gt;    \n",
              "    \n",
              "            var map_4f0bbcbb84cb710dfef20b8d1b631414 = L.map(\n",
              "                &quot;map_4f0bbcbb84cb710dfef20b8d1b631414&quot;,\n",
              "                {\n",
              "                    center: [20.0, 0.0],\n",
              "                    crs: L.CRS.EPSG3857,\n",
              "                    zoom: 2,\n",
              "                    zoomControl: true,\n",
              "                    preferCanvas: false,\n",
              "                    eeInitialize: true,\n",
              "                    addGoogleMap: true,\n",
              "                    pluginLatlngpopup: true,\n",
              "                    pluginFullscreen: true,\n",
              "                    pluginDraw: false,\n",
              "                    DrawExport: true,\n",
              "                    pluginMinimap: false,\n",
              "                    pluginLayercontrol: false,\n",
              "                }\n",
              "            );\n",
              "\n",
              "            \n",
              "\n",
              "        \n",
              "    \n",
              "            var tile_layer_8411ef94e69ce9de3120c18f30af2312 = L.tileLayer(\n",
              "                &quot;https://{s}.tile.openstreetmap.org/{z}/{x}/{y}.png&quot;,\n",
              "                {&quot;attribution&quot;: &quot;Data by \\u0026copy; \\u003ca href=\\&quot;http://openstreetmap.org\\&quot;\\u003eOpenStreetMap\\u003c/a\\u003e, under \\u003ca href=\\&quot;http://www.openstreetmap.org/copyright\\&quot;\\u003eODbL\\u003c/a\\u003e.&quot;, &quot;detectRetina&quot;: false, &quot;maxNativeZoom&quot;: 18, &quot;maxZoom&quot;: 18, &quot;minZoom&quot;: 0, &quot;noWrap&quot;: false, &quot;opacity&quot;: 1, &quot;subdomains&quot;: &quot;abc&quot;, &quot;tms&quot;: false}\n",
              "            ).addTo(map_4f0bbcbb84cb710dfef20b8d1b631414);\n",
              "        \n",
              "    \n",
              "            var tile_layer_91bad6ea7e2169d6c12c54d6551cc9d1 = L.tileLayer(\n",
              "                &quot;https://mt1.google.com/vt/lyrs=m\\u0026x={x}\\u0026y={y}\\u0026z={z}&quot;,\n",
              "                {&quot;attribution&quot;: &quot;Google&quot;, &quot;detectRetina&quot;: false, &quot;maxNativeZoom&quot;: 18, &quot;maxZoom&quot;: 18, &quot;minZoom&quot;: 0, &quot;noWrap&quot;: false, &quot;opacity&quot;: 1, &quot;subdomains&quot;: &quot;abc&quot;, &quot;tms&quot;: false}\n",
              "            ).addTo(map_4f0bbcbb84cb710dfef20b8d1b631414);\n",
              "        \n",
              "    \n",
              "                var lat_lng_popup_1a6a809131f94c87ee102391914b25f6 = L.popup();\n",
              "                function latLngPop(e) {\n",
              "                    lat_lng_popup_1a6a809131f94c87ee102391914b25f6\n",
              "                        .setLatLng(e.latlng)\n",
              "                        .setContent(&quot;Latitude: &quot; + e.latlng.lat.toFixed(4) +\n",
              "                                    &quot;&lt;br&gt;Longitude: &quot; + e.latlng.lng.toFixed(4))\n",
              "                        .openOn(map_4f0bbcbb84cb710dfef20b8d1b631414);\n",
              "                    }\n",
              "                map_4f0bbcbb84cb710dfef20b8d1b631414.on(&#x27;click&#x27;, latLngPop);\n",
              "            \n",
              "    \n",
              "            L.control.fullscreen(\n",
              "                {&quot;forceSeparateButton&quot;: false, &quot;position&quot;: &quot;topleft&quot;, &quot;title&quot;: &quot;Full Screen&quot;, &quot;titleCancel&quot;: &quot;Exit Full Screen&quot;}\n",
              "            ).addTo(map_4f0bbcbb84cb710dfef20b8d1b631414);\n",
              "        \n",
              "    \n",
              "            map_4f0bbcbb84cb710dfef20b8d1b631414.fitBounds(\n",
              "                [[20, 0], [20, 0]],\n",
              "                {&quot;maxZoom&quot;: 2}\n",
              "            );\n",
              "        \n",
              "    \n",
              "            map_4f0bbcbb84cb710dfef20b8d1b631414.fitBounds(\n",
              "                [[38.41, -99.67], [38.41, -99.67]],\n",
              "                {&quot;maxZoom&quot;: 5}\n",
              "            );\n",
              "        \n",
              "    \n",
              "            var tile_layer_646f0987b8601bcd1c2d6caacface3e8 = L.tileLayer(\n",
              "                &quot;https://earthengine.googleapis.com/v1alpha/projects/earthengine-legacy/maps/3ad6f1b6bda00545a3c795c895d5842b-d35dc6953ea2d07d7d8301bfd820bba0/tiles/{z}/{x}/{y}&quot;,\n",
              "                {&quot;attribution&quot;: &quot;Google Earth Engine&quot;, &quot;detectRetina&quot;: false, &quot;maxNativeZoom&quot;: 18, &quot;maxZoom&quot;: 18, &quot;minZoom&quot;: 0, &quot;noWrap&quot;: false, &quot;opacity&quot;: 1.0, &quot;subdomains&quot;: &quot;abc&quot;, &quot;tms&quot;: false}\n",
              "            ).addTo(map_4f0bbcbb84cb710dfef20b8d1b631414);\n",
              "        \n",
              "    \n",
              "            var tile_layer_42f74d9dc1b607dc70f6c31cdba2cd43 = L.tileLayer(\n",
              "                &quot;https://earthengine.googleapis.com/v1alpha/projects/earthengine-legacy/maps/8383aa5102f0083a3e128a1e1e2a94cd-f299f180a0630705d522790db7eaf3ea/tiles/{z}/{x}/{y}&quot;,\n",
              "                {&quot;attribution&quot;: &quot;Google Earth Engine&quot;, &quot;detectRetina&quot;: false, &quot;maxNativeZoom&quot;: 18, &quot;maxZoom&quot;: 18, &quot;minZoom&quot;: 0, &quot;noWrap&quot;: false, &quot;opacity&quot;: 1.0, &quot;subdomains&quot;: &quot;abc&quot;, &quot;tms&quot;: false}\n",
              "            ).addTo(map_4f0bbcbb84cb710dfef20b8d1b631414);\n",
              "        \n",
              "    \n",
              "            var tile_layer_b471c708b3218b58fe622e28de8d5af5 = L.tileLayer(\n",
              "                &quot;https://earthengine.googleapis.com/v1alpha/projects/earthengine-legacy/maps/c2fd6b84b8f5d36c696eb71c81059cc1-74177f75e701d7cc00120fddc5f199bd/tiles/{z}/{x}/{y}&quot;,\n",
              "                {&quot;attribution&quot;: &quot;Google Earth Engine&quot;, &quot;detectRetina&quot;: false, &quot;maxNativeZoom&quot;: 18, &quot;maxZoom&quot;: 18, &quot;minZoom&quot;: 0, &quot;noWrap&quot;: false, &quot;opacity&quot;: 1.0, &quot;subdomains&quot;: &quot;abc&quot;, &quot;tms&quot;: false}\n",
              "            ).addTo(map_4f0bbcbb84cb710dfef20b8d1b631414);\n",
              "        \n",
              "    \n",
              "            var layer_control_9cfc23a8bbaa21c0ba3e71198f2b9174 = {\n",
              "                base_layers : {\n",
              "                    &quot;openstreetmap&quot; : tile_layer_8411ef94e69ce9de3120c18f30af2312,\n",
              "                },\n",
              "                overlays :  {\n",
              "                    &quot;Google Maps&quot; : tile_layer_91bad6ea7e2169d6c12c54d6551cc9d1,\n",
              "                    &quot;Country Averages&quot; : tile_layer_646f0987b8601bcd1c2d6caacface3e8,\n",
              "                    &quot;national colored fills&quot; : tile_layer_42f74d9dc1b607dc70f6c31cdba2cd43,\n",
              "                    &quot;Eco Regions&quot; : tile_layer_b471c708b3218b58fe622e28de8d5af5,\n",
              "                },\n",
              "            };\n",
              "            L.control.layers(\n",
              "                layer_control_9cfc23a8bbaa21c0ba3e71198f2b9174.base_layers,\n",
              "                layer_control_9cfc23a8bbaa21c0ba3e71198f2b9174.overlays,\n",
              "                {&quot;autoZIndex&quot;: true, &quot;collapsed&quot;: true, &quot;position&quot;: &quot;topright&quot;}\n",
              "            ).addTo(map_4f0bbcbb84cb710dfef20b8d1b631414);\n",
              "        \n",
              "&lt;/script&gt;\" style=\"position:absolute;width:100%;height:100%;left:0;top:0;border:none !important;\" allowfullscreen webkitallowfullscreen mozallowfullscreen></iframe></div></div>"
            ]
          },
          "metadata": {},
          "execution_count": 13
        }
      ]
    },
    {
      "cell_type": "markdown",
      "source": [
        "# Elevation data!\n",
        "\n",
        "For fun, I decided to map elevation data as well, on a greyscale. The darker areas represent higher elevations.\n",
        "\n",
        "This map is unique because it utilizes a \"color ramp\" with defined values. If needed, I can define additional values (and associated colors) to represent data more precisely in certain ranges while preserving the range.\n",
        "\n",
        "I could define colors at 100, 200, 300, 400, and 3000.\n",
        "\n",
        "In this example though, I just linearly mapped a greyscale."
      ],
      "metadata": {
        "id": "E6_9y7K8wRxo"
      }
    },
    {
      "cell_type": "code",
      "execution_count": 23,
      "metadata": {
        "colab": {
          "base_uri": "https://localhost:8080/",
          "height": 1000
        },
        "id": "62tVFBQr-m_G",
        "outputId": "c6d85ef2-7cdf-43cc-9f0d-499d6c8accf7"
      },
      "outputs": [
        {
          "output_type": "display_data",
          "data": {
            "text/plain": [
              "<folium.folium.Map at 0x7f820cb28d90>"
            ],
            "text/html": [
              "<div style=\"width:100%;\"><div style=\"position:relative;width:100%;height:0;padding-bottom:60%;\"><span style=\"color:#565656\">Make this Notebook Trusted to load map: File -> Trust Notebook</span><iframe srcdoc=\"&lt;!DOCTYPE html&gt;\n",
              "&lt;head&gt;    \n",
              "    &lt;meta http-equiv=&quot;content-type&quot; content=&quot;text/html; charset=UTF-8&quot; /&gt;\n",
              "    \n",
              "        &lt;script&gt;\n",
              "            L_NO_TOUCH = false;\n",
              "            L_DISABLE_3D = false;\n",
              "        &lt;/script&gt;\n",
              "    \n",
              "    &lt;style&gt;html, body {width: 100%;height: 100%;margin: 0;padding: 0;}&lt;/style&gt;\n",
              "    &lt;style&gt;#map {position:absolute;top:0;bottom:0;right:0;left:0;}&lt;/style&gt;\n",
              "    &lt;script src=&quot;https://cdn.jsdelivr.net/npm/leaflet@1.6.0/dist/leaflet.js&quot;&gt;&lt;/script&gt;\n",
              "    &lt;script src=&quot;https://code.jquery.com/jquery-1.12.4.min.js&quot;&gt;&lt;/script&gt;\n",
              "    &lt;script src=&quot;https://maxcdn.bootstrapcdn.com/bootstrap/3.2.0/js/bootstrap.min.js&quot;&gt;&lt;/script&gt;\n",
              "    &lt;script src=&quot;https://cdnjs.cloudflare.com/ajax/libs/Leaflet.awesome-markers/2.0.2/leaflet.awesome-markers.js&quot;&gt;&lt;/script&gt;\n",
              "    &lt;link rel=&quot;stylesheet&quot; href=&quot;https://cdn.jsdelivr.net/npm/leaflet@1.6.0/dist/leaflet.css&quot;/&gt;\n",
              "    &lt;link rel=&quot;stylesheet&quot; href=&quot;https://maxcdn.bootstrapcdn.com/bootstrap/3.2.0/css/bootstrap.min.css&quot;/&gt;\n",
              "    &lt;link rel=&quot;stylesheet&quot; href=&quot;https://maxcdn.bootstrapcdn.com/bootstrap/3.2.0/css/bootstrap-theme.min.css&quot;/&gt;\n",
              "    &lt;link rel=&quot;stylesheet&quot; href=&quot;https://maxcdn.bootstrapcdn.com/font-awesome/4.6.3/css/font-awesome.min.css&quot;/&gt;\n",
              "    &lt;link rel=&quot;stylesheet&quot; href=&quot;https://cdnjs.cloudflare.com/ajax/libs/Leaflet.awesome-markers/2.0.2/leaflet.awesome-markers.css&quot;/&gt;\n",
              "    &lt;link rel=&quot;stylesheet&quot; href=&quot;https://cdn.jsdelivr.net/gh/python-visualization/folium/folium/templates/leaflet.awesome.rotate.min.css&quot;/&gt;\n",
              "    \n",
              "            &lt;meta name=&quot;viewport&quot; content=&quot;width=device-width,\n",
              "                initial-scale=1.0, maximum-scale=1.0, user-scalable=no&quot; /&gt;\n",
              "            &lt;style&gt;\n",
              "                #map_ba84396c2f752b6220872e746c3adc12 {\n",
              "                    position: relative;\n",
              "                    width: 100.0%;\n",
              "                    height: 100.0%;\n",
              "                    left: 0.0%;\n",
              "                    top: 0.0%;\n",
              "                }\n",
              "            &lt;/style&gt;\n",
              "        \n",
              "&lt;/head&gt;\n",
              "&lt;body&gt;    \n",
              "    \n",
              "            &lt;div class=&quot;folium-map&quot; id=&quot;map_ba84396c2f752b6220872e746c3adc12&quot; &gt;&lt;/div&gt;\n",
              "        \n",
              "&lt;/body&gt;\n",
              "&lt;script&gt;    \n",
              "    \n",
              "            var map_ba84396c2f752b6220872e746c3adc12 = L.map(\n",
              "                &quot;map_ba84396c2f752b6220872e746c3adc12&quot;,\n",
              "                {\n",
              "                    center: [40.413, -99.229],\n",
              "                    crs: L.CRS.EPSG3857,\n",
              "                    zoom: 5,\n",
              "                    zoomControl: true,\n",
              "                    preferCanvas: false,\n",
              "                }\n",
              "            );\n",
              "\n",
              "            \n",
              "\n",
              "        \n",
              "    \n",
              "            var tile_layer_febb56fae60d08f8bc860f5ba032dbce = L.tileLayer(\n",
              "                &quot;https://{s}.tile.openstreetmap.org/{z}/{x}/{y}.png&quot;,\n",
              "                {&quot;attribution&quot;: &quot;Data by \\u0026copy; \\u003ca href=\\&quot;http://openstreetmap.org\\&quot;\\u003eOpenStreetMap\\u003c/a\\u003e, under \\u003ca href=\\&quot;http://www.openstreetmap.org/copyright\\&quot;\\u003eODbL\\u003c/a\\u003e.&quot;, &quot;detectRetina&quot;: false, &quot;maxNativeZoom&quot;: 18, &quot;maxZoom&quot;: 18, &quot;minZoom&quot;: 0, &quot;noWrap&quot;: false, &quot;opacity&quot;: 1, &quot;subdomains&quot;: &quot;abc&quot;, &quot;tms&quot;: false}\n",
              "            ).addTo(map_ba84396c2f752b6220872e746c3adc12);\n",
              "        \n",
              "    \n",
              "            var tile_layer_0ddab03024aa575408c5b1dee6062127 = L.tileLayer(\n",
              "                &quot;https://earthengine.googleapis.com/v1alpha/projects/earthengine-legacy/maps/528a8c55089a2298ebc391f210f64424-7200967e6bf8521a6b8be57e889a316f/tiles/{z}/{x}/{y}&quot;,\n",
              "                {&quot;attribution&quot;: &quot;Map Data \\u0026copy; \\u003ca href=\\&quot;https://earthengine.google.com/\\&quot;\\u003eGoogle Earth Engine\\u003c/a\\u003e&quot;, &quot;detectRetina&quot;: false, &quot;maxNativeZoom&quot;: 18, &quot;maxZoom&quot;: 18, &quot;minZoom&quot;: 0, &quot;noWrap&quot;: false, &quot;opacity&quot;: 1, &quot;subdomains&quot;: &quot;abc&quot;, &quot;tms&quot;: false}\n",
              "            ).addTo(map_ba84396c2f752b6220872e746c3adc12);\n",
              "        \n",
              "    \n",
              "            var layer_control_8602664094fc29141c4ec11060333ed4 = {\n",
              "                base_layers : {\n",
              "                    &quot;openstreetmap&quot; : tile_layer_febb56fae60d08f8bc860f5ba032dbce,\n",
              "                },\n",
              "                overlays :  {\n",
              "                    &quot;SLD ramp&quot; : tile_layer_0ddab03024aa575408c5b1dee6062127,\n",
              "                },\n",
              "            };\n",
              "            L.control.layers(\n",
              "                layer_control_8602664094fc29141c4ec11060333ed4.base_layers,\n",
              "                layer_control_8602664094fc29141c4ec11060333ed4.overlays,\n",
              "                {&quot;autoZIndex&quot;: true, &quot;collapsed&quot;: true, &quot;position&quot;: &quot;topright&quot;}\n",
              "            ).addTo(map_ba84396c2f752b6220872e746c3adc12);\n",
              "        \n",
              "&lt;/script&gt;\" style=\"position:absolute;width:100%;height:100%;left:0;top:0;border:none !important;\" allowfullscreen webkitallowfullscreen mozallowfullscreen></iframe></div></div>"
            ]
          },
          "metadata": {}
        }
      ],
      "source": [
        "# Load SRTM Digital Elevation Model data.\n",
        "image = ee.Image('CGIAR/SRTM90_V4')\n",
        "\n",
        "# Define an SLD style of discrete intervals to apply to the image.\n",
        "sld_ramp = \"\"\"\n",
        "    <RasterSymbolizer>\n",
        "      <ColorMap type=\"ramp\" extended=\"false\" >\n",
        "        <ColorMapEntry color=\"#ffffff\" quantity=\"100\" label=\"0\"/>\n",
        "        <ColorMapEntry color=\"#000000\" quantity=\"3500\" label=\"1-3500\" />\n",
        "      </ColorMap>\n",
        "    </RasterSymbolizer>\"\"\"\n",
        "\n",
        "# Define a map centered on the United States.\n",
        "map_sld_interval = folium.Map(location=[40.413, -99.229], zoom_start=5)\n",
        "\n",
        "# Add the image layers to the map and display it.\n",
        "# map_sld_interval.add_ee_layer(\n",
        "#     image.sldStyle(sld_intervals), None, 'SLD intervals')\n",
        "map_sld_interval.add_ee_layer(image.sldStyle(sld_ramp), None, 'SLD ramp')\n",
        "display(map_sld_interval.add_child(folium.LayerControl()))"
      ]
    },
    {
      "cell_type": "markdown",
      "metadata": {
        "id": "kSrI0NQKvgW7"
      },
      "source": [
        "##Vector to Raster Conversion\n",
        "\n",
        "*Not written by me. Used to convert map into different format!* \n",
        "\n",
        "*Credit: Teresa Howard*\n",
        "\n",
        "\n",
        "Why convert the county polygon vectors to a raster? <br>\n",
        "**Vocabulary to remember:**\n",
        "\n",
        "*   vector = point, line, polygon = *ee* Feature\n",
        "*   raster = gridded data = *ee* Image\n",
        "<br>\n",
        "<br>\n",
        "*ee* offers more visualization options for Images than for Features\n",
        "\n",
        "\n",
        "\n"
      ]
    },
    {
      "cell_type": "code",
      "execution_count": 25,
      "metadata": {
        "colab": {
          "base_uri": "https://localhost:8080/",
          "height": 1000
        },
        "id": "PRBzpX-Avm8N",
        "outputId": "d143da7d-e0be-43d5-cfad-7989fcf9734b"
      },
      "outputs": [
        {
          "output_type": "execute_result",
          "data": {
            "text/plain": [
              "<geemap.eefolium.Map at 0x7f820cae7ed0>"
            ],
            "text/html": [
              "<div style=\"width:100%;\"><div style=\"position:relative;width:100%;height:0;padding-bottom:60%;\"><span style=\"color:#565656\">Make this Notebook Trusted to load map: File -> Trust Notebook</span><iframe srcdoc=\"&lt;!DOCTYPE html&gt;\n",
              "&lt;head&gt;    \n",
              "    &lt;meta http-equiv=&quot;content-type&quot; content=&quot;text/html; charset=UTF-8&quot; /&gt;\n",
              "    \n",
              "        &lt;script&gt;\n",
              "            L_NO_TOUCH = false;\n",
              "            L_DISABLE_3D = false;\n",
              "        &lt;/script&gt;\n",
              "    \n",
              "    &lt;style&gt;html, body {width: 100%;height: 100%;margin: 0;padding: 0;}&lt;/style&gt;\n",
              "    &lt;style&gt;#map {position:absolute;top:0;bottom:0;right:0;left:0;}&lt;/style&gt;\n",
              "    &lt;script src=&quot;https://cdn.jsdelivr.net/npm/leaflet@1.6.0/dist/leaflet.js&quot;&gt;&lt;/script&gt;\n",
              "    &lt;script src=&quot;https://code.jquery.com/jquery-1.12.4.min.js&quot;&gt;&lt;/script&gt;\n",
              "    &lt;script src=&quot;https://maxcdn.bootstrapcdn.com/bootstrap/3.2.0/js/bootstrap.min.js&quot;&gt;&lt;/script&gt;\n",
              "    &lt;script src=&quot;https://cdnjs.cloudflare.com/ajax/libs/Leaflet.awesome-markers/2.0.2/leaflet.awesome-markers.js&quot;&gt;&lt;/script&gt;\n",
              "    &lt;link rel=&quot;stylesheet&quot; href=&quot;https://cdn.jsdelivr.net/npm/leaflet@1.6.0/dist/leaflet.css&quot;/&gt;\n",
              "    &lt;link rel=&quot;stylesheet&quot; href=&quot;https://maxcdn.bootstrapcdn.com/bootstrap/3.2.0/css/bootstrap.min.css&quot;/&gt;\n",
              "    &lt;link rel=&quot;stylesheet&quot; href=&quot;https://maxcdn.bootstrapcdn.com/bootstrap/3.2.0/css/bootstrap-theme.min.css&quot;/&gt;\n",
              "    &lt;link rel=&quot;stylesheet&quot; href=&quot;https://maxcdn.bootstrapcdn.com/font-awesome/4.6.3/css/font-awesome.min.css&quot;/&gt;\n",
              "    &lt;link rel=&quot;stylesheet&quot; href=&quot;https://cdnjs.cloudflare.com/ajax/libs/Leaflet.awesome-markers/2.0.2/leaflet.awesome-markers.css&quot;/&gt;\n",
              "    &lt;link rel=&quot;stylesheet&quot; href=&quot;https://cdn.jsdelivr.net/gh/python-visualization/folium/folium/templates/leaflet.awesome.rotate.min.css&quot;/&gt;\n",
              "    \n",
              "            &lt;meta name=&quot;viewport&quot; content=&quot;width=device-width,\n",
              "                initial-scale=1.0, maximum-scale=1.0, user-scalable=no&quot; /&gt;\n",
              "            &lt;style&gt;\n",
              "                #map_751117c9599ca0aebeb9580afa2b5599 {\n",
              "                    position: relative;\n",
              "                    width: 100.0%;\n",
              "                    height: 100.0%;\n",
              "                    left: 0.0%;\n",
              "                    top: 0.0%;\n",
              "                }\n",
              "            &lt;/style&gt;\n",
              "        \n",
              "    &lt;script src=&quot;https://cdnjs.cloudflare.com/ajax/libs/leaflet.fullscreen/1.4.2/Control.FullScreen.min.js&quot;&gt;&lt;/script&gt;\n",
              "    &lt;link rel=&quot;stylesheet&quot; href=&quot;https://cdnjs.cloudflare.com/ajax/libs/leaflet.fullscreen/1.4.2/Control.FullScreen.min.css&quot;/&gt;\n",
              "&lt;/head&gt;\n",
              "&lt;body&gt;    \n",
              "    \n",
              "            &lt;div class=&quot;folium-map&quot; id=&quot;map_751117c9599ca0aebeb9580afa2b5599&quot; &gt;&lt;/div&gt;\n",
              "        \n",
              "&lt;/body&gt;\n",
              "&lt;script&gt;    \n",
              "    \n",
              "            var map_751117c9599ca0aebeb9580afa2b5599 = L.map(\n",
              "                &quot;map_751117c9599ca0aebeb9580afa2b5599&quot;,\n",
              "                {\n",
              "                    center: [20.0, 0.0],\n",
              "                    crs: L.CRS.EPSG3857,\n",
              "                    zoom: 2,\n",
              "                    zoomControl: true,\n",
              "                    preferCanvas: false,\n",
              "                    eeInitialize: true,\n",
              "                    addGoogleMap: true,\n",
              "                    pluginLatlngpopup: true,\n",
              "                    pluginFullscreen: true,\n",
              "                    pluginDraw: false,\n",
              "                    DrawExport: true,\n",
              "                    pluginMinimap: false,\n",
              "                    pluginLayercontrol: false,\n",
              "                }\n",
              "            );\n",
              "\n",
              "            \n",
              "\n",
              "        \n",
              "    \n",
              "            var tile_layer_11dc26b28bd4bae6e8df9d8083d4f53a = L.tileLayer(\n",
              "                &quot;https://{s}.tile.openstreetmap.org/{z}/{x}/{y}.png&quot;,\n",
              "                {&quot;attribution&quot;: &quot;Data by \\u0026copy; \\u003ca href=\\&quot;http://openstreetmap.org\\&quot;\\u003eOpenStreetMap\\u003c/a\\u003e, under \\u003ca href=\\&quot;http://www.openstreetmap.org/copyright\\&quot;\\u003eODbL\\u003c/a\\u003e.&quot;, &quot;detectRetina&quot;: false, &quot;maxNativeZoom&quot;: 18, &quot;maxZoom&quot;: 18, &quot;minZoom&quot;: 0, &quot;noWrap&quot;: false, &quot;opacity&quot;: 1, &quot;subdomains&quot;: &quot;abc&quot;, &quot;tms&quot;: false}\n",
              "            ).addTo(map_751117c9599ca0aebeb9580afa2b5599);\n",
              "        \n",
              "    \n",
              "            var tile_layer_91bad6ea7e2169d6c12c54d6551cc9d1 = L.tileLayer(\n",
              "                &quot;https://mt1.google.com/vt/lyrs=m\\u0026x={x}\\u0026y={y}\\u0026z={z}&quot;,\n",
              "                {&quot;attribution&quot;: &quot;Google&quot;, &quot;detectRetina&quot;: false, &quot;maxNativeZoom&quot;: 18, &quot;maxZoom&quot;: 18, &quot;minZoom&quot;: 0, &quot;noWrap&quot;: false, &quot;opacity&quot;: 1, &quot;subdomains&quot;: &quot;abc&quot;, &quot;tms&quot;: false}\n",
              "            ).addTo(map_751117c9599ca0aebeb9580afa2b5599);\n",
              "        \n",
              "    \n",
              "                var lat_lng_popup_4010d8b9733f0b17db0d3f33d1469e9c = L.popup();\n",
              "                function latLngPop(e) {\n",
              "                    lat_lng_popup_4010d8b9733f0b17db0d3f33d1469e9c\n",
              "                        .setLatLng(e.latlng)\n",
              "                        .setContent(&quot;Latitude: &quot; + e.latlng.lat.toFixed(4) +\n",
              "                                    &quot;&lt;br&gt;Longitude: &quot; + e.latlng.lng.toFixed(4))\n",
              "                        .openOn(map_751117c9599ca0aebeb9580afa2b5599);\n",
              "                    }\n",
              "                map_751117c9599ca0aebeb9580afa2b5599.on(&#x27;click&#x27;, latLngPop);\n",
              "            \n",
              "    \n",
              "            L.control.fullscreen(\n",
              "                {&quot;forceSeparateButton&quot;: false, &quot;position&quot;: &quot;topleft&quot;, &quot;title&quot;: &quot;Full Screen&quot;, &quot;titleCancel&quot;: &quot;Exit Full Screen&quot;}\n",
              "            ).addTo(map_751117c9599ca0aebeb9580afa2b5599);\n",
              "        \n",
              "    \n",
              "            map_751117c9599ca0aebeb9580afa2b5599.fitBounds(\n",
              "                [[20, 0], [20, 0]],\n",
              "                {&quot;maxZoom&quot;: 2}\n",
              "            );\n",
              "        \n",
              "    \n",
              "            map_751117c9599ca0aebeb9580afa2b5599.fitBounds(\n",
              "                [[38.41, -99.67], [38.41, -99.67]],\n",
              "                {&quot;maxZoom&quot;: 5}\n",
              "            );\n",
              "        \n",
              "    \n",
              "            var tile_layer_0bc4315dcee50dcea35cfb6c11383e43 = L.tileLayer(\n",
              "                &quot;https://earthengine.googleapis.com/v1alpha/projects/earthengine-legacy/maps/349eb9b7549dceaa46b724cc0c1ce166-1aa236bd33301eb47b96118d279f4f88/tiles/{z}/{x}/{y}&quot;,\n",
              "                {&quot;attribution&quot;: &quot;Google Earth Engine&quot;, &quot;detectRetina&quot;: false, &quot;maxNativeZoom&quot;: 18, &quot;maxZoom&quot;: 18, &quot;minZoom&quot;: 0, &quot;noWrap&quot;: false, &quot;opacity&quot;: 1.0, &quot;subdomains&quot;: &quot;abc&quot;, &quot;tms&quot;: false}\n",
              "            ).addTo(map_751117c9599ca0aebeb9580afa2b5599);\n",
              "        \n",
              "    \n",
              "            var tile_layer_ff9ae67944db1063685dbfa7c6eb1207 = L.tileLayer(\n",
              "                &quot;https://earthengine.googleapis.com/v1alpha/projects/earthengine-legacy/maps/c1bfe1ab9aa2bcb8129decc38047fb4a-e1144c4f286ae854468b3a5b7efcb2ad/tiles/{z}/{x}/{y}&quot;,\n",
              "                {&quot;attribution&quot;: &quot;Google Earth Engine&quot;, &quot;detectRetina&quot;: false, &quot;maxNativeZoom&quot;: 18, &quot;maxZoom&quot;: 18, &quot;minZoom&quot;: 0, &quot;noWrap&quot;: false, &quot;opacity&quot;: 1.0, &quot;subdomains&quot;: &quot;abc&quot;, &quot;tms&quot;: false}\n",
              "            ).addTo(map_751117c9599ca0aebeb9580afa2b5599);\n",
              "        \n",
              "    \n",
              "            var layer_control_727fc0cf962925561a49c1d4d833295f = {\n",
              "                base_layers : {\n",
              "                    &quot;openstreetmap&quot; : tile_layer_11dc26b28bd4bae6e8df9d8083d4f53a,\n",
              "                },\n",
              "                overlays :  {\n",
              "                    &quot;Google Maps&quot; : tile_layer_91bad6ea7e2169d6c12c54d6551cc9d1,\n",
              "                    &quot;County means&quot; : tile_layer_0bc4315dcee50dcea35cfb6c11383e43,\n",
              "                    &quot;PRISM Temp&quot; : tile_layer_ff9ae67944db1063685dbfa7c6eb1207,\n",
              "                },\n",
              "            };\n",
              "            L.control.layers(\n",
              "                layer_control_727fc0cf962925561a49c1d4d833295f.base_layers,\n",
              "                layer_control_727fc0cf962925561a49c1d4d833295f.overlays,\n",
              "                {&quot;autoZIndex&quot;: true, &quot;collapsed&quot;: true, &quot;position&quot;: &quot;topright&quot;}\n",
              "            ).addTo(map_751117c9599ca0aebeb9580afa2b5599);\n",
              "        \n",
              "&lt;/script&gt;\" style=\"position:absolute;width:100%;height:100%;left:0;top:0;border:none !important;\" allowfullscreen webkitallowfullscreen mozallowfullscreen></iframe></div></div>"
            ]
          },
          "metadata": {},
          "execution_count": 25
        }
      ],
      "source": [
        "#Make an image out of the mean temperature attribute.\n",
        "meanTempImg = countyTemp.reduceToImage(properties=['mean'], reducer=ee.Reducer.first())\n",
        "\n",
        "# Make a stylized palette color map\n",
        "Map = geemap.Map()\n",
        "Map.setCenter(-99.67, 38.41, 5)\n",
        "Map.addLayer(meanTempImg, {'palette': palette, 'max': 24}, 'County means')\n",
        "Map.addLayer(avgTemp, {'min': 1, 'max': 24, 'palette': palette}, 'PRISM Temp')\n",
        "\n",
        "Map"
      ]
    },
    {
      "cell_type": "code",
      "execution_count": 25,
      "metadata": {
        "id": "cD-gtssfU-iM"
      },
      "outputs": [],
      "source": [
        ""
      ]
    }
  ],
  "metadata": {
    "colab": {
      "collapsed_sections": [
        "JPcQ9bcU60sr",
        "bNMEXWv860ss"
      ],
      "name": "Copy of [3.1] Ethan Palosh: Surface Temperature!.ipynb",
      "provenance": [],
      "include_colab_link": true
    },
    "kernelspec": {
      "display_name": "Python 3",
      "name": "python3"
    },
    "language_info": {
      "name": "python"
    }
  },
  "nbformat": 4,
  "nbformat_minor": 0
}