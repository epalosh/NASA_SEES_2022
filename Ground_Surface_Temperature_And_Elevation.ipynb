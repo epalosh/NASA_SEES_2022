{
  "nbformat": 4,
  "nbformat_minor": 0,
  "metadata": {
    "colab": {
      "name": "[3.1] Ethan Palosh: Surface Temperature!.ipynb",
      "provenance": [],
      "collapsed_sections": [
        "JPcQ9bcU60sr"
      ],
      "include_colab_link": true
    },
    "kernelspec": {
      "name": "python3",
      "display_name": "Python 3"
    },
    "language_info": {
      "name": "python"
    }
  },
  "cells": [
    {
      "cell_type": "markdown",
      "metadata": {
        "id": "view-in-github",
        "colab_type": "text"
      },
      "source": [
        "<a href=\"https://colab.research.google.com/github/epalosh/NASA_SEES_2022/blob/main/Ground_Surface_Temperature_And_Elevation.ipynb\" target=\"_parent\"><img src=\"https://colab.research.google.com/assets/colab-badge.svg\" alt=\"Open In Colab\"/></a>"
      ]
    },
    {
      "cell_type": "markdown",
      "source": [
        "Topics addressed:\n",
        "  - reducers\n",
        "  - loading and filtering image collections\n",
        "  - loading, filtering, and editing vector data"
      ],
      "metadata": {
        "id": "rJVq_20ijflH"
      }
    },
    {
      "cell_type": "markdown",
      "metadata": {
        "id": "JPcQ9bcU60sr"
      },
      "source": [
        "## Setup"
      ]
    },
    {
      "cell_type": "markdown",
      "metadata": {
        "id": "bNMEXWv860ss"
      },
      "source": [
        "### Earth Engine setup"
      ]
    },
    {
      "cell_type": "code",
      "execution_count": null,
      "metadata": {
        "id": "5X5ClthV60ss",
        "colab": {
          "base_uri": "https://localhost:8080/"
        },
        "outputId": "4a3b12b5-72db-40ee-cb8d-e4f980c931ea"
      },
      "outputs": [
        {
          "output_type": "stream",
          "name": "stdout",
          "text": [
            "To authorize access needed by Earth Engine, open the following URL in a web browser and follow the instructions. If the web browser does not start automatically, please manually browse the URL below.\n",
            "\n",
            "    https://code.earthengine.google.com/client-auth?scopes=https%3A//www.googleapis.com/auth/earthengine%20https%3A//www.googleapis.com/auth/devstorage.full_control&request_id=7N8ffAiyO5hX84gxzGjrcZDX2cyPCKcXLWR8SmkKYzw&tc=tzQy335ml-LCMmM_I1BxUd3xEHw9Jbq_Veys_8yhz3Y&cc=HmeoHW7UtLEzHZNFmHT337-SMu6nKm_mVy2AdyIwwUE\n",
            "\n",
            "The authorization workflow will generate a code, which you should paste in the box below.\n",
            "Enter verification code: 4/1AdQt8qiKXgBGwzWe3Q-4VQr8ja7DInbZNs8R_WnRgcOIWx0gyHdxXbU77rk\n",
            "\n",
            "Successfully saved authorization token.\n"
          ]
        }
      ],
      "source": [
        "import ee\n",
        "ee.Authenticate()\n",
        "ee.Initialize()"
      ]
    },
    {
      "cell_type": "markdown",
      "metadata": {
        "id": "72RBBAeB60ss"
      },
      "source": [
        "### geemap setup (for interactive map display)"
      ]
    },
    {
      "cell_type": "code",
      "execution_count": null,
      "metadata": {
        "id": "9q_EiZ73C5UY",
        "colab": {
          "base_uri": "https://localhost:8080/",
          "height": 53
        },
        "outputId": "492ec77c-7503-426d-8b66-3035544ca5df"
      },
      "outputs": [
        {
          "output_type": "stream",
          "name": "stdout",
          "text": [
            "geemap package not installed. Installing ...\n",
            "geemap is now installed, imported and ready to use in Colab\n"
          ]
        }
      ],
      "source": [
        "# Installs geemap package\n",
        "import subprocess\n",
        "\n",
        "try:\n",
        "    import geemap.eefolium as geemap\n",
        "    print(\"geemap is imported and ready to use in Colab\")\n",
        "except ImportError:\n",
        "    print('geemap package not installed. Installing ...')\n",
        "    subprocess.check_call([\"python\", '-m', 'pip', 'install', 'geemap'])\n",
        "    import geemap.eefolium as geemap\n",
        "    print(\"geemap is now installed, imported and ready to use in Colab\") \n",
        "\n",
        "#geemap.update_package()"
      ]
    },
    {
      "cell_type": "code",
      "source": [
        "import folium\n",
        "\n",
        "\n",
        "def add_ee_layer(self, ee_image_object, vis_params, name):\n",
        "  map_id_dict = ee.Image(ee_image_object).getMapId(vis_params)\n",
        "  folium.raster_layers.TileLayer(\n",
        "      tiles=map_id_dict['tile_fetcher'].url_format,\n",
        "      attr='Map Data &copy; <a href=\"https://earthengine.google.com/\">Google Earth Engine</a>',\n",
        "      name=name,\n",
        "      overlay=True,\n",
        "      control=True\n",
        "  ).add_to(self)\n",
        "\n",
        "folium.Map.add_ee_layer = add_ee_layer"
      ],
      "metadata": {
        "id": "Sceft8dIMU2p"
      },
      "execution_count": null,
      "outputs": []
    },
    {
      "cell_type": "markdown",
      "source": [
        "## Image stats by regions: A spatial reducer\n",
        "###One way to calculated mean average temperature by county\n",
        "In this code cell, we load a select set of counties from the TIGER file.<br>\n",
        "Notice the trick used to select a subset of US counties in states that we choose to map."
      ],
      "metadata": {
        "id": "mQ3t9OlNmFET"
      }
    },
    {
      "cell_type": "code",
      "source": [
        "# load temp data through PRISM: 365 images per year\n",
        "precipCollection = ee.ImageCollection('OREGONSTATE/PRISM/AN81d') \\\n",
        "                    .select('tmean') \\\n",
        "                    .filterDate('2021-01-01', '2021-12-31')\n",
        "\n",
        "EcoRegions = ee.FeatureCollection('EPA/Ecoregions/2013/L3') \n",
        "   # .filter(ee.Filter.eq(\"STATEFP\", \"48\"))\n",
        "\n",
        "\n",
        "avgTemp = precipCollection.reduce(ee.Reducer.mean())\n"
      ],
      "metadata": {
        "id": "l1ikUCkoFHoY"
      },
      "execution_count": null,
      "outputs": []
    },
    {
      "cell_type": "code",
      "source": [
        "SEES_CD_States = ['06','13','34','48','53'] # state FIPS codes that we want\n",
        "# use the ee.Filter.inList('table property', list_variable) command to filter\n",
        "# a new Feature Collection of only the states that we want to analyze\n",
        "counties = ee.FeatureCollection(\"TIGER/2018/Counties\") \\\n",
        "        .filter(ee.Filter.inList('STATEFP', SEES_CD_States))\n",
        "\n",
        "# get mean temp values by county polygon\n",
        "# Note the use of the reduceRegions and the mean Reducer.\n",
        "# You can test other reduction methods like max, min, or median\n",
        "# 4638.3 is the resolution of the PRISM dataset\n",
        "\n",
        "countyTemp = avgTemp.reduceRegions(\n",
        "    **{\n",
        "        'collection': counties,\n",
        "        'reducer': ee.Reducer.mean(),\n",
        "        'scale': 4638.3,\n",
        "       }\n",
        "    )\n",
        "\n",
        "ECO = ee.Image().paint(EcoRegions, 0, 1)"
      ],
      "metadata": {
        "id": "8OZCbbBVmDnn"
      },
      "execution_count": null,
      "outputs": []
    },
    {
      "cell_type": "code",
      "source": [
        "tiger_co = ee.FeatureCollection(\"TIGER/2018/Counties\")\n",
        "print(type(tiger_co))"
      ],
      "metadata": {
        "id": "E7F-CHF5jy-1",
        "colab": {
          "base_uri": "https://localhost:8080/"
        },
        "outputId": "74068c26-6119-4029-ae9e-570cf15ea6b7"
      },
      "execution_count": null,
      "outputs": [
        {
          "output_type": "stream",
          "name": "stdout",
          "text": [
            "<class 'ee.featurecollection.FeatureCollection'>\n"
          ]
        }
      ]
    },
    {
      "cell_type": "markdown",
      "source": [
        "Calculate the highest county mean temperature and show value."
      ],
      "metadata": {
        "id": "uaSGuW-nhLXR"
      }
    },
    {
      "cell_type": "code",
      "source": [
        "our_max_mean = countyTemp.aggregate_max('mean')\n",
        "print('Max of mean county average temperature over a year = {} degrees celsius'.format(our_max_mean.getInfo()))"
      ],
      "metadata": {
        "colab": {
          "base_uri": "https://localhost:8080/"
        },
        "id": "IxVYRlCXf-qc",
        "outputId": "f367f849-c0dc-45c9-cfda-cbad77f115de"
      },
      "execution_count": null,
      "outputs": [
        {
          "output_type": "stream",
          "name": "stdout",
          "text": [
            "Max of mean county average temperature over a year = 24.157193714831102 degrees celsius\n"
          ]
        }
      ]
    },
    {
      "cell_type": "markdown",
      "source": [
        "Calculate the lowest county mean temperature and show value."
      ],
      "metadata": {
        "id": "73KXUL-ThaOL"
      }
    },
    {
      "cell_type": "code",
      "source": [
        "our_min_mean = countyTemp.aggregate_min('mean')\n",
        "print('Min of mean county average temperature over a year = {} degrees celsius'.format(our_min_mean.getInfo()))"
      ],
      "metadata": {
        "colab": {
          "base_uri": "https://localhost:8080/"
        },
        "id": "nLqBDUolhjeR",
        "outputId": "2edd016d-beab-4cbb-bfcc-bd15ef91dde9"
      },
      "execution_count": null,
      "outputs": [
        {
          "output_type": "stream",
          "name": "stdout",
          "text": [
            "Min of mean county average temperature over a year = 6.547634910029122 degrees celsius\n"
          ]
        }
      ]
    },
    {
      "cell_type": "markdown",
      "source": [
        "##Show the resulting mean average temperature by county"
      ],
      "metadata": {
        "id": "nCajB3d2qb07"
      }
    },
    {
      "cell_type": "code",
      "source": [
        "palette = ['purple','blue','cyan','green','yellow','red']\n",
        "# Create an empty image into which to paint the features, cast to byte.\n",
        "empty = ee.Image().byte()\n",
        "fills = empty.paint(\n",
        "    **{\n",
        "        'featureCollection': countyTemp,\n",
        "        'color': 'mean',\n",
        "       }\n",
        "    )\n",
        "Map = geemap.Map()\n",
        "Map.setCenter(-99.67, 38.41, 5)\n",
        "# Note using min and max from aggregate functions to set high and low visualization values.\n",
        "Map.addLayer(avgTemp, {'min': 6.3, 'max': 24, 'palette': palette}, 'precip1')\n",
        "Map.addLayer(fills, {'palette': palette, 'min': 2, 'max': 24}, 'colored fills')\n",
        "Map.addLayer(avgTemp, {'palette': palette, 'min': 2, 'max': 24}, 'national colored fills')\n",
        "Map.addLayer(ECO, {}, 'Counties In Texas') #Add ecoregion boundries\n",
        "# you will need to code up the visualization of the counties.\n",
        "# Map.addLayer(counties,{},'counties')\n",
        "Map"
      ],
      "metadata": {
        "id": "-uI2MTmTqckn",
        "colab": {
          "base_uri": "https://localhost:8080/",
          "height": 241
        },
        "outputId": "2768a2a5-f9b5-4309-bfdd-974251d765e0"
      },
      "execution_count": null,
      "outputs": [
        {
          "output_type": "error",
          "ename": "NameError",
          "evalue": "ignored",
          "traceback": [
            "\u001b[0;31m---------------------------------------------------------------------------\u001b[0m",
            "\u001b[0;31mNameError\u001b[0m                                 Traceback (most recent call last)",
            "\u001b[0;32m<ipython-input-9-512fd845920c>\u001b[0m in \u001b[0;36m<module>\u001b[0;34m()\u001b[0m\n\u001b[1;32m     11\u001b[0m \u001b[0mMap\u001b[0m\u001b[0;34m.\u001b[0m\u001b[0msetCenter\u001b[0m\u001b[0;34m(\u001b[0m\u001b[0;34m-\u001b[0m\u001b[0;36m99.67\u001b[0m\u001b[0;34m,\u001b[0m \u001b[0;36m38.41\u001b[0m\u001b[0;34m,\u001b[0m \u001b[0;36m5\u001b[0m\u001b[0;34m)\u001b[0m\u001b[0;34m\u001b[0m\u001b[0;34m\u001b[0m\u001b[0m\n\u001b[1;32m     12\u001b[0m \u001b[0;31m# Note using min and max from aggregate functions to set high and low visualization values.\u001b[0m\u001b[0;34m\u001b[0m\u001b[0;34m\u001b[0m\u001b[0;34m\u001b[0m\u001b[0m\n\u001b[0;32m---> 13\u001b[0;31m \u001b[0mMap\u001b[0m\u001b[0;34m.\u001b[0m\u001b[0maddLayer\u001b[0m\u001b[0;34m(\u001b[0m\u001b[0mavgTemp\u001b[0m\u001b[0;34m,\u001b[0m \u001b[0;34m{\u001b[0m\u001b[0;34m'min'\u001b[0m\u001b[0;34m:\u001b[0m \u001b[0;36m6.3\u001b[0m\u001b[0;34m,\u001b[0m \u001b[0;34m'max'\u001b[0m\u001b[0;34m:\u001b[0m \u001b[0;36m24\u001b[0m\u001b[0;34m,\u001b[0m \u001b[0;34m'palette'\u001b[0m\u001b[0;34m:\u001b[0m \u001b[0mprecipPal\u001b[0m\u001b[0;34m}\u001b[0m\u001b[0;34m,\u001b[0m \u001b[0;34m'precip1'\u001b[0m\u001b[0;34m)\u001b[0m\u001b[0;34m\u001b[0m\u001b[0;34m\u001b[0m\u001b[0m\n\u001b[0m\u001b[1;32m     14\u001b[0m \u001b[0mMap\u001b[0m\u001b[0;34m.\u001b[0m\u001b[0maddLayer\u001b[0m\u001b[0;34m(\u001b[0m\u001b[0mfills\u001b[0m\u001b[0;34m,\u001b[0m \u001b[0;34m{\u001b[0m\u001b[0;34m'palette'\u001b[0m\u001b[0;34m:\u001b[0m \u001b[0mpalette\u001b[0m\u001b[0;34m,\u001b[0m \u001b[0;34m'min'\u001b[0m\u001b[0;34m:\u001b[0m \u001b[0;36m2\u001b[0m\u001b[0;34m,\u001b[0m \u001b[0;34m'max'\u001b[0m\u001b[0;34m:\u001b[0m \u001b[0;36m24\u001b[0m\u001b[0;34m}\u001b[0m\u001b[0;34m,\u001b[0m \u001b[0;34m'colored fills'\u001b[0m\u001b[0;34m)\u001b[0m\u001b[0;34m\u001b[0m\u001b[0;34m\u001b[0m\u001b[0m\n\u001b[1;32m     15\u001b[0m \u001b[0mMap\u001b[0m\u001b[0;34m.\u001b[0m\u001b[0maddLayer\u001b[0m\u001b[0;34m(\u001b[0m\u001b[0mavgTemp\u001b[0m\u001b[0;34m,\u001b[0m \u001b[0;34m{\u001b[0m\u001b[0;34m'palette'\u001b[0m\u001b[0;34m:\u001b[0m \u001b[0mpalette\u001b[0m\u001b[0;34m,\u001b[0m \u001b[0;34m'min'\u001b[0m\u001b[0;34m:\u001b[0m \u001b[0;36m2\u001b[0m\u001b[0;34m,\u001b[0m \u001b[0;34m'max'\u001b[0m\u001b[0;34m:\u001b[0m \u001b[0;36m24\u001b[0m\u001b[0;34m}\u001b[0m\u001b[0;34m,\u001b[0m \u001b[0;34m'national colored fills'\u001b[0m\u001b[0;34m)\u001b[0m\u001b[0;34m\u001b[0m\u001b[0;34m\u001b[0m\u001b[0m\n",
            "\u001b[0;31mNameError\u001b[0m: name 'precipPal' is not defined"
          ]
        }
      ]
    },
    {
      "cell_type": "markdown",
      "source": [
        "##Vector to Raster Conversion\n",
        "Why convert the county polygon vectors to a raster? <br>\n",
        "**Vocabulary to remember:**\n",
        "\n",
        "*   vector = point, line, polygon = *ee* Feature\n",
        "*   raster = gridded data = *ee* Image\n",
        "<br>\n",
        "<br>\n",
        "*ee* offers more visualization options for Images than for Features\n",
        "\n",
        "\n",
        "\n"
      ],
      "metadata": {
        "id": "kSrI0NQKvgW7"
      }
    },
    {
      "cell_type": "code",
      "source": [
        "#Make an image out of the mean temperature attribute.\n",
        "#print(type(countyPrecip))\n",
        "meanTempImg = countyTemp.reduceToImage(properties=['mean'], reducer=ee.Reducer.first())\n",
        "\n",
        "# Make a stylized palette color map\n",
        "Map = geemap.Map()\n",
        "Map.setCenter(-99.67, 38.41, 5)\n",
        "Map.addLayer(avgTemp, {'min': 1, 'max': 24, 'palette': precipPal}, 'PRISM Temp')\n",
        "Map.addLayer(meanTempImg, {'palette': palette, 'max': 24}, 'County means')\n",
        "\n",
        "Map\n"
      ],
      "metadata": {
        "id": "PRBzpX-Avm8N"
      },
      "execution_count": null,
      "outputs": []
    },
    {
      "cell_type": "code",
      "source": [
        "# Load SRTM Digital Elevation Model data.\n",
        "image = ee.Image('CGIAR/SRTM90_V4')\n",
        "\n",
        "# Define an SLD style of discrete intervals to apply to the image.\n",
        "sld_intervals = \"\"\"\n",
        "    <RasterSymbolizer>\n",
        "      <ColorMap type=\"intervals\" extended=\"false\" >\n",
        "        <ColorMapEntry color=\"#0000ff\" quantity=\"0\" label=\"0\"/>\n",
        "        <ColorMapEntry color=\"#00ff00\" quantity=\"1800\" label=\"1-100\" />\n",
        "        <ColorMapEntry color=\"#007f30\" quantity=\"3600\" label=\"110-200\" />\n",
        "        <ColorMapEntry color=\"#30b855\" quantity=\"5400\" label=\"210-300\" />\n",
        "        <ColorMapEntry color=\"#ff0000\" quantity=\"7200\" label=\"310-400\" />\n",
        "        <ColorMapEntry color=\"#ffff00\" quantity=\"9000\" label=\"410-1000\" />\n",
        "      </ColorMap>\n",
        "    </RasterSymbolizer>\"\"\"\n",
        "\n",
        "# Define an sld style color ramp to apply to the image.\n",
        "sld_ramp = \"\"\"\n",
        "    <RasterSymbolizer>\n",
        "      <ColorMap type=\"ramp\" extended=\"false\" >\n",
        "        <ColorMapEntry color=\"#0000ff\" quantity=\"0\" label=\"0\"/>\n",
        "        <ColorMapEntry color=\"#00ff00\" quantity=\"1800\" label=\"100\" />\n",
        "        <ColorMapEntry color=\"#007f30\" quantity=\"3600\" label=\"200\" />\n",
        "        <ColorMapEntry color=\"#30b855\" quantity=\"5400\" label=\"300\" />\n",
        "        <ColorMapEntry color=\"#ff0000\" quantity=\"7200\" label=\"400\" />\n",
        "        <ColorMapEntry color=\"#ffff00\" quantity=\"9000\" label=\"500\" />\n",
        "      </ColorMap>\n",
        "    </RasterSymbolizer>\"\"\"\n",
        "\n",
        "# Define a map centered on the United States.\n",
        "map_sld_interval = folium.Map(location=[40.413, -99.229], zoom_start=5)\n",
        "\n",
        "# Add the image layers to the map and display it.\n",
        "map_sld_interval.add_ee_layer(\n",
        "    image.sldStyle(sld_intervals), None, 'SLD intervals')\n",
        "map_sld_interval.add_ee_layer(image.sldStyle(sld_ramp), None, 'SLD ramp')\n",
        "display(map_sld_interval.add_child(folium.LayerControl()))"
      ],
      "metadata": {
        "id": "62tVFBQr-m_G"
      },
      "execution_count": null,
      "outputs": []
    }
  ]
}