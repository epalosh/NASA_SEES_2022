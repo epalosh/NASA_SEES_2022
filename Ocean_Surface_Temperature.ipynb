{
  "nbformat": 4,
  "nbformat_minor": 0,
  "metadata": {
    "colab": {
      "name": "[5+ Final] Ethan Palosh - Ocean Surface Temp.ipynb",
      "provenance": [],
      "collapsed_sections": [
        "rGoifzEKXB1s",
        "JoDwQLz_X3e_",
        "g45V6vzheGnb"
      ],
      "include_colab_link": true
    },
    "kernelspec": {
      "name": "python3",
      "display_name": "Python 3"
    },
    "language_info": {
      "name": "python"
    },
    "widgets": {
      "application/vnd.jupyter.widget-state+json": {
        "fd0bb77d684349a9a9296ade1397ff8c": {
          "model_module": "jupyter-leaflet",
          "model_name": "LeafletMapModel",
          "model_module_version": "^0.17.0",
          "state": {
            "_dom_classes": [],
            "_model_module": "jupyter-leaflet",
            "_model_module_version": "^0.17.0",
            "_model_name": "LeafletMapModel",
            "_view_count": null,
            "_view_module": "jupyter-leaflet",
            "_view_module_version": "^0.17.0",
            "_view_name": "LeafletMapView",
            "bottom": 754,
            "bounce_at_zoom_limits": true,
            "box_zoom": true,
            "center": [
              20,
              0
            ],
            "close_popup_on_click": true,
            "controls": [
              "IPY_MODEL_dcde9b5922af4cfda1dc46dcad17e0d9",
              "IPY_MODEL_8ca34d9986c84ec795c9057809f7212a",
              "IPY_MODEL_45de9f00775f471198718a0e569b1791",
              "IPY_MODEL_bd6e4f84d80846d6bd7c55b1286d65cc",
              "IPY_MODEL_d43ffb569cb14b06b7691007db0573f1",
              "IPY_MODEL_37caa2cfc47447ae88cb7eaf47f0a462",
              "IPY_MODEL_d199ddb8a99944808a6e3150fef617ae",
              "IPY_MODEL_bd1139889c48451a828ce5bf6ea504a5",
              "IPY_MODEL_12b58973744c41b19d7e14f94737f47e"
            ],
            "crs": {
              "name": "EPSG3857",
              "custom": false
            },
            "default_style": "IPY_MODEL_9b089c7d9a3b46d0a31f57305c8d92ae",
            "double_click_zoom": true,
            "dragging": true,
            "dragging_style": "IPY_MODEL_2d9ee64d35594f778f5170df9f67c115",
            "east": 247.85156250000003,
            "fullscreen": false,
            "inertia": true,
            "inertia_deceleration": 3000,
            "inertia_max_speed": 1500,
            "interpolation": "bilinear",
            "keyboard": true,
            "keyboard_pan_offset": 80,
            "keyboard_zoom_offset": 1,
            "layers": [
              "IPY_MODEL_1537950245c74eb0a873e5a47c8873ef",
              "IPY_MODEL_ba6348e219a745e3961248d8e5d111d1",
              "IPY_MODEL_b9f16500424c4ca5a63ba521763e81e9"
            ],
            "layout": "IPY_MODEL_84f8e35c3e7344b9ac39f5565ccb2cd6",
            "left": -193,
            "max_zoom": 24,
            "min_zoom": null,
            "modisdate": "2022-07-26",
            "north": 77.31251993823143,
            "options": [
              "bounce_at_zoom_limits",
              "box_zoom",
              "center",
              "close_popup_on_click",
              "double_click_zoom",
              "dragging",
              "fullscreen",
              "inertia",
              "inertia_deceleration",
              "inertia_max_speed",
              "interpolation",
              "keyboard",
              "keyboard_pan_offset",
              "keyboard_zoom_offset",
              "max_zoom",
              "min_zoom",
              "prefer_canvas",
              "scroll_wheel_zoom",
              "tap",
              "tap_tolerance",
              "touch_zoom",
              "world_copy_jump",
              "zoom",
              "zoom_animation_threshold",
              "zoom_delta",
              "zoom_snap"
            ],
            "panes": {},
            "prefer_canvas": false,
            "right": 1217,
            "scroll_wheel_zoom": true,
            "south": -64.47279382008165,
            "style": "IPY_MODEL_24eaf9d4fedf41ffa605c491a9762779",
            "tap": true,
            "tap_tolerance": 15,
            "top": 154,
            "touch_zoom": true,
            "west": -247.85156250000003,
            "window_url": "https://qh67qv83pxm-496ff2e9c6d22116-0-colab.googleusercontent.com/outputframe.html?vrz=colab-20220722-060046-RC01_462670465",
            "world_copy_jump": false,
            "zoom": 2,
            "zoom_animation_threshold": 4,
            "zoom_delta": 1,
            "zoom_snap": 1
          }
        },
        "dcde9b5922af4cfda1dc46dcad17e0d9": {
          "model_module": "jupyter-leaflet",
          "model_name": "LeafletWidgetControlModel",
          "model_module_version": "^0.17.0",
          "state": {
            "_model_module": "jupyter-leaflet",
            "_model_module_version": "^0.17.0",
            "_model_name": "LeafletWidgetControlModel",
            "_view_count": null,
            "_view_module": "jupyter-leaflet",
            "_view_module_version": "^0.17.0",
            "_view_name": "LeafletWidgetControlView",
            "max_height": null,
            "max_width": null,
            "min_height": null,
            "min_width": null,
            "options": [
              "position",
              "transparent_bg"
            ],
            "position": "topleft",
            "transparent_bg": false,
            "widget": "IPY_MODEL_16d8011b1e5a474d8b909462bc2c739f"
          }
        },
        "8ca34d9986c84ec795c9057809f7212a": {
          "model_module": "jupyter-leaflet",
          "model_name": "LeafletZoomControlModel",
          "model_module_version": "^0.17.0",
          "state": {
            "_model_module": "jupyter-leaflet",
            "_model_module_version": "^0.17.0",
            "_model_name": "LeafletZoomControlModel",
            "_view_count": null,
            "_view_module": "jupyter-leaflet",
            "_view_module_version": "^0.17.0",
            "_view_name": "LeafletZoomControlView",
            "options": [
              "position",
              "zoom_in_text",
              "zoom_in_title",
              "zoom_out_text",
              "zoom_out_title"
            ],
            "position": "topleft",
            "zoom_in_text": "+",
            "zoom_in_title": "Zoom in",
            "zoom_out_text": "-",
            "zoom_out_title": "Zoom out"
          }
        },
        "45de9f00775f471198718a0e569b1791": {
          "model_module": "jupyter-leaflet",
          "model_name": "LeafletScaleControlModel",
          "model_module_version": "^0.17.0",
          "state": {
            "_model_module": "jupyter-leaflet",
            "_model_module_version": "^0.17.0",
            "_model_name": "LeafletScaleControlModel",
            "_view_count": null,
            "_view_module": "jupyter-leaflet",
            "_view_module_version": "^0.17.0",
            "_view_name": "LeafletScaleControlView",
            "imperial": true,
            "max_width": 100,
            "metric": true,
            "options": [
              "imperial",
              "max_width",
              "metric",
              "position",
              "update_when_idle"
            ],
            "position": "bottomleft",
            "update_when_idle": false
          }
        },
        "bd6e4f84d80846d6bd7c55b1286d65cc": {
          "model_module": "jupyter-leaflet",
          "model_name": "LeafletFullScreenControlModel",
          "model_module_version": "^0.17.0",
          "state": {
            "_model_module": "jupyter-leaflet",
            "_model_module_version": "^0.17.0",
            "_model_name": "LeafletFullScreenControlModel",
            "_view_count": null,
            "_view_module": "jupyter-leaflet",
            "_view_module_version": "^0.17.0",
            "_view_name": "LeafletFullScreenControlView",
            "options": [
              "position"
            ],
            "position": "topleft"
          }
        },
        "d43ffb569cb14b06b7691007db0573f1": {
          "model_module": "jupyter-leaflet",
          "model_name": "LeafletMeasureControlModel",
          "model_module_version": "^0.17.0",
          "state": {
            "_custom_units": {},
            "_model_module": "jupyter-leaflet",
            "_model_module_version": "^0.17.0",
            "_model_name": "LeafletMeasureControlModel",
            "_view_count": null,
            "_view_module": "jupyter-leaflet",
            "_view_module_version": "^0.17.0",
            "_view_name": "LeafletMeasureControlView",
            "active_color": "orange",
            "capture_z_index": 10000,
            "completed_color": "#C8F2BE",
            "options": [
              "active_color",
              "capture_z_index",
              "completed_color",
              "popup_options",
              "position",
              "primary_area_unit",
              "primary_length_unit",
              "secondary_area_unit",
              "secondary_length_unit"
            ],
            "popup_options": {
              "className": "leaflet-measure-resultpopup",
              "autoPanPadding": [
                10,
                10
              ]
            },
            "position": "bottomleft",
            "primary_area_unit": "acres",
            "primary_length_unit": "kilometers",
            "secondary_area_unit": null,
            "secondary_length_unit": null
          }
        },
        "37caa2cfc47447ae88cb7eaf47f0a462": {
          "model_module": "jupyter-leaflet",
          "model_name": "LeafletAttributionControlModel",
          "model_module_version": "^0.17.0",
          "state": {
            "_model_module": "jupyter-leaflet",
            "_model_module_version": "^0.17.0",
            "_model_name": "LeafletAttributionControlModel",
            "_view_count": null,
            "_view_module": "jupyter-leaflet",
            "_view_module_version": "^0.17.0",
            "_view_name": "LeafletAttributionControlView",
            "options": [
              "position",
              "prefix"
            ],
            "position": "bottomright",
            "prefix": "ipyleaflet"
          }
        },
        "d199ddb8a99944808a6e3150fef617ae": {
          "model_module": "jupyter-leaflet",
          "model_name": "LeafletDrawControlModel",
          "model_module_version": "^0.17.0",
          "state": {
            "_model_module": "jupyter-leaflet",
            "_model_module_version": "^0.17.0",
            "_model_name": "LeafletDrawControlModel",
            "_view_count": null,
            "_view_module": "jupyter-leaflet",
            "_view_module_version": "^0.17.0",
            "_view_name": "LeafletDrawControlView",
            "circle": {
              "shapeOptions": {
                "color": "#3388ff"
              }
            },
            "circlemarker": {},
            "data": [],
            "edit": true,
            "marker": {
              "shapeOptions": {
                "color": "#3388ff"
              }
            },
            "options": [
              "position"
            ],
            "polygon": {
              "shapeOptions": {}
            },
            "polyline": {
              "shapeOptions": {}
            },
            "position": "topleft",
            "rectangle": {
              "shapeOptions": {
                "color": "#3388ff"
              }
            },
            "remove": true
          }
        },
        "bd1139889c48451a828ce5bf6ea504a5": {
          "model_module": "jupyter-leaflet",
          "model_name": "LeafletWidgetControlModel",
          "model_module_version": "^0.17.0",
          "state": {
            "_model_module": "jupyter-leaflet",
            "_model_module_version": "^0.17.0",
            "_model_name": "LeafletWidgetControlModel",
            "_view_count": null,
            "_view_module": "jupyter-leaflet",
            "_view_module_version": "^0.17.0",
            "_view_name": "LeafletWidgetControlView",
            "max_height": null,
            "max_width": null,
            "min_height": null,
            "min_width": null,
            "options": [
              "position",
              "transparent_bg"
            ],
            "position": "topright",
            "transparent_bg": false,
            "widget": "IPY_MODEL_f0ebf7589e174021b4b07ed2c6cbd6fc"
          }
        },
        "12b58973744c41b19d7e14f94737f47e": {
          "model_module": "jupyter-leaflet",
          "model_name": "LeafletWidgetControlModel",
          "model_module_version": "^0.17.0",
          "state": {
            "_model_module": "jupyter-leaflet",
            "_model_module_version": "^0.17.0",
            "_model_name": "LeafletWidgetControlModel",
            "_view_count": null,
            "_view_module": "jupyter-leaflet",
            "_view_module_version": "^0.17.0",
            "_view_name": "LeafletWidgetControlView",
            "max_height": null,
            "max_width": null,
            "min_height": null,
            "min_width": null,
            "options": [
              "position",
              "transparent_bg"
            ],
            "position": "bottomright",
            "transparent_bg": false,
            "widget": "IPY_MODEL_64b6dc593d62436991b20d5a23796f2e"
          }
        },
        "9b089c7d9a3b46d0a31f57305c8d92ae": {
          "model_module": "jupyter-leaflet",
          "model_name": "LeafletMapStyleModel",
          "model_module_version": "^0.17.0",
          "state": {
            "_model_module": "jupyter-leaflet",
            "_model_module_version": "^0.17.0",
            "_model_name": "LeafletMapStyleModel",
            "_view_count": null,
            "_view_module": "@jupyter-widgets/base",
            "_view_module_version": "1.2.0",
            "_view_name": "StyleView",
            "cursor": "grab"
          }
        },
        "2d9ee64d35594f778f5170df9f67c115": {
          "model_module": "jupyter-leaflet",
          "model_name": "LeafletMapStyleModel",
          "model_module_version": "^0.17.0",
          "state": {
            "_model_module": "jupyter-leaflet",
            "_model_module_version": "^0.17.0",
            "_model_name": "LeafletMapStyleModel",
            "_view_count": null,
            "_view_module": "@jupyter-widgets/base",
            "_view_module_version": "1.2.0",
            "_view_name": "StyleView",
            "cursor": "move"
          }
        },
        "1537950245c74eb0a873e5a47c8873ef": {
          "model_module": "jupyter-leaflet",
          "model_name": "LeafletTileLayerModel",
          "model_module_version": "^0.17.0",
          "state": {
            "_model_module": "jupyter-leaflet",
            "_model_module_version": "^0.17.0",
            "_model_name": "LeafletTileLayerModel",
            "_view_count": null,
            "_view_module": "jupyter-leaflet",
            "_view_module_version": "^0.17.0",
            "_view_name": "LeafletTileLayerView",
            "attribution": "&copy; <a href=\"https://www.openstreetmap.org/copyright\">OpenStreetMap</a> contributors",
            "base": true,
            "bottom": true,
            "bounds": null,
            "detect_retina": false,
            "loading": false,
            "max_native_zoom": null,
            "max_zoom": 19,
            "min_native_zoom": null,
            "min_zoom": 1,
            "name": "OpenStreetMap.Mapnik",
            "no_wrap": false,
            "opacity": 1,
            "options": [
              "attribution",
              "bounds",
              "detect_retina",
              "max_native_zoom",
              "max_zoom",
              "min_native_zoom",
              "min_zoom",
              "no_wrap",
              "tile_size",
              "tms"
            ],
            "pane": "",
            "popup": null,
            "popup_max_height": null,
            "popup_max_width": 300,
            "popup_min_width": 50,
            "show_loading": false,
            "tile_size": 256,
            "tms": false,
            "url": "https://a.tile.openstreetmap.org/{z}/{x}/{y}.png",
            "visible": true
          }
        },
        "ba6348e219a745e3961248d8e5d111d1": {
          "model_module": "jupyter-leaflet",
          "model_name": "LeafletTileLayerModel",
          "model_module_version": "^0.17.0",
          "state": {
            "_model_module": "jupyter-leaflet",
            "_model_module_version": "^0.17.0",
            "_model_name": "LeafletTileLayerModel",
            "_view_count": null,
            "_view_module": "jupyter-leaflet",
            "_view_module_version": "^0.17.0",
            "_view_name": "LeafletTileLayerView",
            "attribution": "Google",
            "base": false,
            "bottom": true,
            "bounds": null,
            "detect_retina": false,
            "loading": false,
            "max_native_zoom": null,
            "max_zoom": 22,
            "min_native_zoom": null,
            "min_zoom": 0,
            "name": "Google Maps",
            "no_wrap": false,
            "opacity": 1,
            "options": [
              "attribution",
              "bounds",
              "detect_retina",
              "max_native_zoom",
              "max_zoom",
              "min_native_zoom",
              "min_zoom",
              "no_wrap",
              "tile_size",
              "tms"
            ],
            "pane": "",
            "popup": null,
            "popup_max_height": null,
            "popup_max_width": 300,
            "popup_min_width": 50,
            "show_loading": false,
            "tile_size": 256,
            "tms": false,
            "url": "https://mt1.google.com/vt/lyrs=m&x={x}&y={y}&z={z}",
            "visible": true
          }
        },
        "b9f16500424c4ca5a63ba521763e81e9": {
          "model_module": "jupyter-leaflet",
          "model_name": "LeafletTileLayerModel",
          "model_module_version": "^0.17.0",
          "state": {
            "_model_module": "jupyter-leaflet",
            "_model_module_version": "^0.17.0",
            "_model_name": "LeafletTileLayerModel",
            "_view_count": null,
            "_view_module": "jupyter-leaflet",
            "_view_module_version": "^0.17.0",
            "_view_name": "LeafletTileLayerView",
            "attribution": "Google Earth Engine",
            "base": false,
            "bottom": true,
            "bounds": null,
            "detect_retina": false,
            "loading": false,
            "max_native_zoom": null,
            "max_zoom": 24,
            "min_native_zoom": null,
            "min_zoom": 0,
            "name": "Ocean Temperature",
            "no_wrap": false,
            "opacity": 1,
            "options": [
              "attribution",
              "bounds",
              "detect_retina",
              "max_native_zoom",
              "max_zoom",
              "min_native_zoom",
              "min_zoom",
              "no_wrap",
              "tile_size",
              "tms"
            ],
            "pane": "",
            "popup": null,
            "popup_max_height": null,
            "popup_max_width": 300,
            "popup_min_width": 50,
            "show_loading": false,
            "tile_size": 256,
            "tms": false,
            "url": "https://earthengine.googleapis.com/v1alpha/projects/earthengine-legacy/maps/7a346882a65a322bbfd0a194d68dc1d6-ea2f6ba711da80554634a39c27988366/tiles/{z}/{x}/{y}",
            "visible": true
          }
        },
        "84f8e35c3e7344b9ac39f5565ccb2cd6": {
          "model_module": "@jupyter-widgets/base",
          "model_name": "LayoutModel",
          "model_module_version": "1.2.0",
          "state": {
            "_model_module": "@jupyter-widgets/base",
            "_model_module_version": "1.2.0",
            "_model_name": "LayoutModel",
            "_view_count": null,
            "_view_module": "@jupyter-widgets/base",
            "_view_module_version": "1.2.0",
            "_view_name": "LayoutView",
            "align_content": null,
            "align_items": null,
            "align_self": null,
            "border": null,
            "bottom": null,
            "display": null,
            "flex": null,
            "flex_flow": null,
            "grid_area": null,
            "grid_auto_columns": null,
            "grid_auto_flow": null,
            "grid_auto_rows": null,
            "grid_column": null,
            "grid_gap": null,
            "grid_row": null,
            "grid_template_areas": null,
            "grid_template_columns": null,
            "grid_template_rows": null,
            "height": "600px",
            "justify_content": null,
            "justify_items": null,
            "left": null,
            "margin": null,
            "max_height": null,
            "max_width": null,
            "min_height": null,
            "min_width": null,
            "object_fit": null,
            "object_position": null,
            "order": null,
            "overflow": null,
            "overflow_x": null,
            "overflow_y": null,
            "padding": null,
            "right": null,
            "top": null,
            "visibility": null,
            "width": null
          }
        },
        "24eaf9d4fedf41ffa605c491a9762779": {
          "model_module": "jupyter-leaflet",
          "model_name": "LeafletMapStyleModel",
          "model_module_version": "^0.17.0",
          "state": {
            "_model_module": "jupyter-leaflet",
            "_model_module_version": "^0.17.0",
            "_model_name": "LeafletMapStyleModel",
            "_view_count": null,
            "_view_module": "@jupyter-widgets/base",
            "_view_module_version": "1.2.0",
            "_view_name": "StyleView",
            "cursor": "grab"
          }
        },
        "16d8011b1e5a474d8b909462bc2c739f": {
          "model_module": "@jupyter-widgets/controls",
          "model_name": "HBoxModel",
          "model_module_version": "1.5.0",
          "state": {
            "_dom_classes": [],
            "_model_module": "@jupyter-widgets/controls",
            "_model_module_version": "1.5.0",
            "_model_name": "HBoxModel",
            "_view_count": null,
            "_view_module": "@jupyter-widgets/controls",
            "_view_module_version": "1.5.0",
            "_view_name": "HBoxView",
            "box_style": "",
            "children": [
              "IPY_MODEL_846238123c8a4fac94bcaad3c019bc35"
            ],
            "layout": "IPY_MODEL_ccc07c478f444a019f91418c48f8d169"
          }
        },
        "f0ebf7589e174021b4b07ed2c6cbd6fc": {
          "model_module": "@jupyter-widgets/controls",
          "model_name": "VBoxModel",
          "model_module_version": "1.5.0",
          "state": {
            "_dom_classes": [],
            "_model_module": "@jupyter-widgets/controls",
            "_model_module_version": "1.5.0",
            "_model_name": "VBoxModel",
            "_view_count": null,
            "_view_module": "@jupyter-widgets/controls",
            "_view_module_version": "1.5.0",
            "_view_name": "VBoxView",
            "box_style": "",
            "children": [
              "IPY_MODEL_3dbcef86c7a04668bfebf07f808e3d56"
            ],
            "layout": "IPY_MODEL_43a545f064274bdcaa9da0ad9e3729af"
          }
        },
        "64b6dc593d62436991b20d5a23796f2e": {
          "model_module": "@jupyter-widgets/output",
          "model_name": "OutputModel",
          "model_module_version": "1.0.0",
          "state": {
            "_dom_classes": [],
            "_model_module": "@jupyter-widgets/output",
            "_model_module_version": "1.0.0",
            "_model_name": "OutputModel",
            "_view_count": null,
            "_view_module": "@jupyter-widgets/output",
            "_view_module_version": "1.0.0",
            "_view_name": "OutputView",
            "layout": "IPY_MODEL_3a503d3655a94d55b630bf8891b2e98c",
            "msg_id": "",
            "outputs": [
              {
                "output_type": "display_data",
                "data": {
                  "text/plain": "<Figure size 432x28.8 with 1 Axes>",
                  "image/png": "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\n"
                },
                "metadata": {
                  "needs_background": "light"
                }
              }
            ]
          }
        },
        "846238123c8a4fac94bcaad3c019bc35": {
          "model_module": "@jupyter-widgets/controls",
          "model_name": "ToggleButtonModel",
          "model_module_version": "1.5.0",
          "state": {
            "_dom_classes": [],
            "_model_module": "@jupyter-widgets/controls",
            "_model_module_version": "1.5.0",
            "_model_name": "ToggleButtonModel",
            "_view_count": null,
            "_view_module": "@jupyter-widgets/controls",
            "_view_module_version": "1.5.0",
            "_view_name": "ToggleButtonView",
            "button_style": "",
            "description": "",
            "description_tooltip": null,
            "disabled": false,
            "icon": "globe",
            "layout": "IPY_MODEL_6dfeb3f259744b20b8348dcc7048d006",
            "style": "IPY_MODEL_2ab6fd656a7b47f3899504bdc2b41571",
            "tooltip": "Search location/data",
            "value": false
          }
        },
        "ccc07c478f444a019f91418c48f8d169": {
          "model_module": "@jupyter-widgets/base",
          "model_name": "LayoutModel",
          "model_module_version": "1.2.0",
          "state": {
            "_model_module": "@jupyter-widgets/base",
            "_model_module_version": "1.2.0",
            "_model_name": "LayoutModel",
            "_view_count": null,
            "_view_module": "@jupyter-widgets/base",
            "_view_module_version": "1.2.0",
            "_view_name": "LayoutView",
            "align_content": null,
            "align_items": null,
            "align_self": null,
            "border": null,
            "bottom": null,
            "display": null,
            "flex": null,
            "flex_flow": null,
            "grid_area": null,
            "grid_auto_columns": null,
            "grid_auto_flow": null,
            "grid_auto_rows": null,
            "grid_column": null,
            "grid_gap": null,
            "grid_row": null,
            "grid_template_areas": null,
            "grid_template_columns": null,
            "grid_template_rows": null,
            "height": null,
            "justify_content": null,
            "justify_items": null,
            "left": null,
            "margin": null,
            "max_height": null,
            "max_width": null,
            "min_height": null,
            "min_width": null,
            "object_fit": null,
            "object_position": null,
            "order": null,
            "overflow": null,
            "overflow_x": null,
            "overflow_y": null,
            "padding": null,
            "right": null,
            "top": null,
            "visibility": null,
            "width": null
          }
        },
        "3dbcef86c7a04668bfebf07f808e3d56": {
          "model_module": "@jupyter-widgets/controls",
          "model_name": "ToggleButtonModel",
          "model_module_version": "1.5.0",
          "state": {
            "_dom_classes": [],
            "_model_module": "@jupyter-widgets/controls",
            "_model_module_version": "1.5.0",
            "_model_name": "ToggleButtonModel",
            "_view_count": null,
            "_view_module": "@jupyter-widgets/controls",
            "_view_module_version": "1.5.0",
            "_view_name": "ToggleButtonView",
            "button_style": "",
            "description": "",
            "description_tooltip": null,
            "disabled": false,
            "icon": "wrench",
            "layout": "IPY_MODEL_e5df32edd0b5437e9670579c2e67572f",
            "style": "IPY_MODEL_dccf47b0a6d641e097505513e5a732c7",
            "tooltip": "Toolbar",
            "value": false
          }
        },
        "43a545f064274bdcaa9da0ad9e3729af": {
          "model_module": "@jupyter-widgets/base",
          "model_name": "LayoutModel",
          "model_module_version": "1.2.0",
          "state": {
            "_model_module": "@jupyter-widgets/base",
            "_model_module_version": "1.2.0",
            "_model_name": "LayoutModel",
            "_view_count": null,
            "_view_module": "@jupyter-widgets/base",
            "_view_module_version": "1.2.0",
            "_view_name": "LayoutView",
            "align_content": null,
            "align_items": null,
            "align_self": null,
            "border": null,
            "bottom": null,
            "display": null,
            "flex": null,
            "flex_flow": null,
            "grid_area": null,
            "grid_auto_columns": null,
            "grid_auto_flow": null,
            "grid_auto_rows": null,
            "grid_column": null,
            "grid_gap": null,
            "grid_row": null,
            "grid_template_areas": null,
            "grid_template_columns": null,
            "grid_template_rows": null,
            "height": null,
            "justify_content": null,
            "justify_items": null,
            "left": null,
            "margin": null,
            "max_height": null,
            "max_width": null,
            "min_height": null,
            "min_width": null,
            "object_fit": null,
            "object_position": null,
            "order": null,
            "overflow": null,
            "overflow_x": null,
            "overflow_y": null,
            "padding": null,
            "right": null,
            "top": null,
            "visibility": null,
            "width": null
          }
        },
        "3a503d3655a94d55b630bf8891b2e98c": {
          "model_module": "@jupyter-widgets/base",
          "model_name": "LayoutModel",
          "model_module_version": "1.2.0",
          "state": {
            "_model_module": "@jupyter-widgets/base",
            "_model_module_version": "1.2.0",
            "_model_name": "LayoutModel",
            "_view_count": null,
            "_view_module": "@jupyter-widgets/base",
            "_view_module_version": "1.2.0",
            "_view_name": "LayoutView",
            "align_content": null,
            "align_items": null,
            "align_self": null,
            "border": null,
            "bottom": null,
            "display": null,
            "flex": null,
            "flex_flow": null,
            "grid_area": null,
            "grid_auto_columns": null,
            "grid_auto_flow": null,
            "grid_auto_rows": null,
            "grid_column": null,
            "grid_gap": null,
            "grid_row": null,
            "grid_template_areas": null,
            "grid_template_columns": null,
            "grid_template_rows": null,
            "height": null,
            "justify_content": null,
            "justify_items": null,
            "left": null,
            "margin": null,
            "max_height": null,
            "max_width": null,
            "min_height": null,
            "min_width": null,
            "object_fit": null,
            "object_position": null,
            "order": null,
            "overflow": null,
            "overflow_x": null,
            "overflow_y": null,
            "padding": null,
            "right": null,
            "top": null,
            "visibility": null,
            "width": null
          }
        },
        "6dfeb3f259744b20b8348dcc7048d006": {
          "model_module": "@jupyter-widgets/base",
          "model_name": "LayoutModel",
          "model_module_version": "1.2.0",
          "state": {
            "_model_module": "@jupyter-widgets/base",
            "_model_module_version": "1.2.0",
            "_model_name": "LayoutModel",
            "_view_count": null,
            "_view_module": "@jupyter-widgets/base",
            "_view_module_version": "1.2.0",
            "_view_name": "LayoutView",
            "align_content": null,
            "align_items": null,
            "align_self": null,
            "border": null,
            "bottom": null,
            "display": null,
            "flex": null,
            "flex_flow": null,
            "grid_area": null,
            "grid_auto_columns": null,
            "grid_auto_flow": null,
            "grid_auto_rows": null,
            "grid_column": null,
            "grid_gap": null,
            "grid_row": null,
            "grid_template_areas": null,
            "grid_template_columns": null,
            "grid_template_rows": null,
            "height": "28px",
            "justify_content": null,
            "justify_items": null,
            "left": null,
            "margin": null,
            "max_height": null,
            "max_width": null,
            "min_height": null,
            "min_width": null,
            "object_fit": null,
            "object_position": null,
            "order": null,
            "overflow": null,
            "overflow_x": null,
            "overflow_y": null,
            "padding": "0px 0px 0px 4px",
            "right": null,
            "top": null,
            "visibility": null,
            "width": "28px"
          }
        },
        "2ab6fd656a7b47f3899504bdc2b41571": {
          "model_module": "@jupyter-widgets/controls",
          "model_name": "DescriptionStyleModel",
          "model_module_version": "1.5.0",
          "state": {
            "_model_module": "@jupyter-widgets/controls",
            "_model_module_version": "1.5.0",
            "_model_name": "DescriptionStyleModel",
            "_view_count": null,
            "_view_module": "@jupyter-widgets/base",
            "_view_module_version": "1.2.0",
            "_view_name": "StyleView",
            "description_width": ""
          }
        },
        "e5df32edd0b5437e9670579c2e67572f": {
          "model_module": "@jupyter-widgets/base",
          "model_name": "LayoutModel",
          "model_module_version": "1.2.0",
          "state": {
            "_model_module": "@jupyter-widgets/base",
            "_model_module_version": "1.2.0",
            "_model_name": "LayoutModel",
            "_view_count": null,
            "_view_module": "@jupyter-widgets/base",
            "_view_module_version": "1.2.0",
            "_view_name": "LayoutView",
            "align_content": null,
            "align_items": null,
            "align_self": null,
            "border": null,
            "bottom": null,
            "display": null,
            "flex": null,
            "flex_flow": null,
            "grid_area": null,
            "grid_auto_columns": null,
            "grid_auto_flow": null,
            "grid_auto_rows": null,
            "grid_column": null,
            "grid_gap": null,
            "grid_row": null,
            "grid_template_areas": null,
            "grid_template_columns": null,
            "grid_template_rows": null,
            "height": "28px",
            "justify_content": null,
            "justify_items": null,
            "left": null,
            "margin": null,
            "max_height": null,
            "max_width": null,
            "min_height": null,
            "min_width": null,
            "object_fit": null,
            "object_position": null,
            "order": null,
            "overflow": null,
            "overflow_x": null,
            "overflow_y": null,
            "padding": "0px 0px 0px 4px",
            "right": null,
            "top": null,
            "visibility": null,
            "width": "28px"
          }
        },
        "dccf47b0a6d641e097505513e5a732c7": {
          "model_module": "@jupyter-widgets/controls",
          "model_name": "DescriptionStyleModel",
          "model_module_version": "1.5.0",
          "state": {
            "_model_module": "@jupyter-widgets/controls",
            "_model_module_version": "1.5.0",
            "_model_name": "DescriptionStyleModel",
            "_view_count": null,
            "_view_module": "@jupyter-widgets/base",
            "_view_module_version": "1.2.0",
            "_view_name": "StyleView",
            "description_width": ""
          }
        },
        "35ce75b6c5034c4b99de46580c6df7c7": {
          "model_module": "jupyter-leaflet",
          "model_name": "LeafletMapModel",
          "model_module_version": "^0.17.0",
          "state": {
            "_dom_classes": [],
            "_model_module": "jupyter-leaflet",
            "_model_module_version": "^0.17.0",
            "_model_name": "LeafletMapModel",
            "_view_count": null,
            "_view_module": "jupyter-leaflet",
            "_view_module_version": "^0.17.0",
            "_view_name": "LeafletMapView",
            "bottom": 1398.2000122070312,
            "bounce_at_zoom_limits": true,
            "box_zoom": true,
            "center": [
              -12.931758218575556,
              -501.50530283975723
            ],
            "close_popup_on_click": true,
            "controls": [
              "IPY_MODEL_0e9028c1e7e941bbba7f45d62e8d4048",
              "IPY_MODEL_8535bc4eb30f499dbbc152fd05306f29",
              "IPY_MODEL_ccedc6c4ad3943248350e10a4cdba591",
              "IPY_MODEL_b17155b773944469bb1ccf17e2b58543",
              "IPY_MODEL_74dfbb166bf441558f68322c1a19fecf",
              "IPY_MODEL_b415aa2c7f9b4d9babdf9e22d2e7c17b",
              "IPY_MODEL_fde9021c8fd543f1bf067c24194c05fd",
              "IPY_MODEL_b931c3141a0a4cc1aaaad97cc969dcec",
              "IPY_MODEL_76b6650bedfc4f9aa0e251804c9c601c"
            ],
            "crs": {
              "name": "EPSG3857",
              "custom": false
            },
            "default_style": "IPY_MODEL_b6854911325e4207959a52f63d1f806a",
            "double_click_zoom": true,
            "dragging": true,
            "dragging_style": "IPY_MODEL_0a6ad9898eb349bea68bb5746db8bc02",
            "east": -180,
            "fullscreen": false,
            "inertia": true,
            "inertia_deceleration": 3000,
            "inertia_max_speed": 1500,
            "interpolation": "bilinear",
            "keyboard": true,
            "keyboard_pan_offset": 80,
            "keyboard_zoom_offset": 1,
            "layers": [
              "IPY_MODEL_a5b0b552f28a4fc48a5fe52fdd8cf49c",
              "IPY_MODEL_ba6348e219a745e3961248d8e5d111d1",
              "IPY_MODEL_237955c3001f4435baf2c1b9f67357d6"
            ],
            "layout": "IPY_MODEL_576893555a7e430583d879fcd9070927",
            "left": -2534.0079450439516,
            "max_zoom": 24,
            "min_zoom": null,
            "modisdate": "2022-07-26",
            "north": 36.85149229076094,
            "options": [
              "bounce_at_zoom_limits",
              "box_zoom",
              "center",
              "close_popup_on_click",
              "double_click_zoom",
              "dragging",
              "fullscreen",
              "inertia",
              "inertia_deceleration",
              "inertia_max_speed",
              "interpolation",
              "keyboard",
              "keyboard_pan_offset",
              "keyboard_zoom_offset",
              "max_zoom",
              "min_zoom",
              "prefer_canvas",
              "scroll_wheel_zoom",
              "tap",
              "tap_tolerance",
              "touch_zoom",
              "world_copy_jump",
              "zoom",
              "zoom_animation_threshold",
              "zoom_delta",
              "zoom_snap"
            ],
            "panes": {},
            "prefer_canvas": false,
            "right": 0,
            "scroll_wheel_zoom": true,
            "south": -54.795619573009176,
            "style": "IPY_MODEL_b6854911325e4207959a52f63d1f806a",
            "tap": true,
            "tap_tolerance": 15,
            "top": 798.2000122070312,
            "touch_zoom": true,
            "west": -625.4310840897572,
            "window_url": "https://qh67qv83pxm-496ff2e9c6d22116-0-colab.googleusercontent.com/outputframe.html?vrz=colab-20220722-060046-RC01_462670465",
            "world_copy_jump": false,
            "zoom": 3,
            "zoom_animation_threshold": 4,
            "zoom_delta": 1,
            "zoom_snap": 1
          }
        },
        "0e9028c1e7e941bbba7f45d62e8d4048": {
          "model_module": "jupyter-leaflet",
          "model_name": "LeafletWidgetControlModel",
          "model_module_version": "^0.17.0",
          "state": {
            "_model_module": "jupyter-leaflet",
            "_model_module_version": "^0.17.0",
            "_model_name": "LeafletWidgetControlModel",
            "_view_count": null,
            "_view_module": "jupyter-leaflet",
            "_view_module_version": "^0.17.0",
            "_view_name": "LeafletWidgetControlView",
            "max_height": null,
            "max_width": null,
            "min_height": null,
            "min_width": null,
            "options": [
              "position",
              "transparent_bg"
            ],
            "position": "topleft",
            "transparent_bg": false,
            "widget": "IPY_MODEL_44f22f1e4d1244ba8aff4db42e226317"
          }
        },
        "8535bc4eb30f499dbbc152fd05306f29": {
          "model_module": "jupyter-leaflet",
          "model_name": "LeafletZoomControlModel",
          "model_module_version": "^0.17.0",
          "state": {
            "_model_module": "jupyter-leaflet",
            "_model_module_version": "^0.17.0",
            "_model_name": "LeafletZoomControlModel",
            "_view_count": null,
            "_view_module": "jupyter-leaflet",
            "_view_module_version": "^0.17.0",
            "_view_name": "LeafletZoomControlView",
            "options": [
              "position",
              "zoom_in_text",
              "zoom_in_title",
              "zoom_out_text",
              "zoom_out_title"
            ],
            "position": "topleft",
            "zoom_in_text": "+",
            "zoom_in_title": "Zoom in",
            "zoom_out_text": "-",
            "zoom_out_title": "Zoom out"
          }
        },
        "ccedc6c4ad3943248350e10a4cdba591": {
          "model_module": "jupyter-leaflet",
          "model_name": "LeafletScaleControlModel",
          "model_module_version": "^0.17.0",
          "state": {
            "_model_module": "jupyter-leaflet",
            "_model_module_version": "^0.17.0",
            "_model_name": "LeafletScaleControlModel",
            "_view_count": null,
            "_view_module": "jupyter-leaflet",
            "_view_module_version": "^0.17.0",
            "_view_name": "LeafletScaleControlView",
            "imperial": true,
            "max_width": 100,
            "metric": true,
            "options": [
              "imperial",
              "max_width",
              "metric",
              "position",
              "update_when_idle"
            ],
            "position": "bottomleft",
            "update_when_idle": false
          }
        },
        "b17155b773944469bb1ccf17e2b58543": {
          "model_module": "jupyter-leaflet",
          "model_name": "LeafletFullScreenControlModel",
          "model_module_version": "^0.17.0",
          "state": {
            "_model_module": "jupyter-leaflet",
            "_model_module_version": "^0.17.0",
            "_model_name": "LeafletFullScreenControlModel",
            "_view_count": null,
            "_view_module": "jupyter-leaflet",
            "_view_module_version": "^0.17.0",
            "_view_name": "LeafletFullScreenControlView",
            "options": [
              "position"
            ],
            "position": "topleft"
          }
        },
        "74dfbb166bf441558f68322c1a19fecf": {
          "model_module": "jupyter-leaflet",
          "model_name": "LeafletMeasureControlModel",
          "model_module_version": "^0.17.0",
          "state": {
            "_custom_units": {},
            "_model_module": "jupyter-leaflet",
            "_model_module_version": "^0.17.0",
            "_model_name": "LeafletMeasureControlModel",
            "_view_count": null,
            "_view_module": "jupyter-leaflet",
            "_view_module_version": "^0.17.0",
            "_view_name": "LeafletMeasureControlView",
            "active_color": "orange",
            "capture_z_index": 10000,
            "completed_color": "#C8F2BE",
            "options": [
              "active_color",
              "capture_z_index",
              "completed_color",
              "popup_options",
              "position",
              "primary_area_unit",
              "primary_length_unit",
              "secondary_area_unit",
              "secondary_length_unit"
            ],
            "popup_options": {
              "className": "leaflet-measure-resultpopup",
              "autoPanPadding": [
                10,
                10
              ]
            },
            "position": "bottomleft",
            "primary_area_unit": "acres",
            "primary_length_unit": "kilometers",
            "secondary_area_unit": null,
            "secondary_length_unit": null
          }
        },
        "b415aa2c7f9b4d9babdf9e22d2e7c17b": {
          "model_module": "jupyter-leaflet",
          "model_name": "LeafletAttributionControlModel",
          "model_module_version": "^0.17.0",
          "state": {
            "_model_module": "jupyter-leaflet",
            "_model_module_version": "^0.17.0",
            "_model_name": "LeafletAttributionControlModel",
            "_view_count": null,
            "_view_module": "jupyter-leaflet",
            "_view_module_version": "^0.17.0",
            "_view_name": "LeafletAttributionControlView",
            "options": [
              "position",
              "prefix"
            ],
            "position": "bottomright",
            "prefix": "ipyleaflet"
          }
        },
        "fde9021c8fd543f1bf067c24194c05fd": {
          "model_module": "jupyter-leaflet",
          "model_name": "LeafletDrawControlModel",
          "model_module_version": "^0.17.0",
          "state": {
            "_model_module": "jupyter-leaflet",
            "_model_module_version": "^0.17.0",
            "_model_name": "LeafletDrawControlModel",
            "_view_count": null,
            "_view_module": "jupyter-leaflet",
            "_view_module_version": "^0.17.0",
            "_view_name": "LeafletDrawControlView",
            "circle": {
              "shapeOptions": {
                "color": "#3388ff"
              }
            },
            "circlemarker": {},
            "data": [],
            "edit": true,
            "marker": {
              "shapeOptions": {
                "color": "#3388ff"
              }
            },
            "options": [
              "position"
            ],
            "polygon": {
              "shapeOptions": {}
            },
            "polyline": {
              "shapeOptions": {}
            },
            "position": "topleft",
            "rectangle": {
              "shapeOptions": {
                "color": "#3388ff"
              }
            },
            "remove": true
          }
        },
        "b931c3141a0a4cc1aaaad97cc969dcec": {
          "model_module": "jupyter-leaflet",
          "model_name": "LeafletWidgetControlModel",
          "model_module_version": "^0.17.0",
          "state": {
            "_model_module": "jupyter-leaflet",
            "_model_module_version": "^0.17.0",
            "_model_name": "LeafletWidgetControlModel",
            "_view_count": null,
            "_view_module": "jupyter-leaflet",
            "_view_module_version": "^0.17.0",
            "_view_name": "LeafletWidgetControlView",
            "max_height": null,
            "max_width": null,
            "min_height": null,
            "min_width": null,
            "options": [
              "position",
              "transparent_bg"
            ],
            "position": "topright",
            "transparent_bg": false,
            "widget": "IPY_MODEL_8e7d6c15312c4d6d8bb430fde38b7041"
          }
        },
        "76b6650bedfc4f9aa0e251804c9c601c": {
          "model_module": "jupyter-leaflet",
          "model_name": "LeafletWidgetControlModel",
          "model_module_version": "^0.17.0",
          "state": {
            "_model_module": "jupyter-leaflet",
            "_model_module_version": "^0.17.0",
            "_model_name": "LeafletWidgetControlModel",
            "_view_count": null,
            "_view_module": "jupyter-leaflet",
            "_view_module_version": "^0.17.0",
            "_view_name": "LeafletWidgetControlView",
            "max_height": null,
            "max_width": null,
            "min_height": null,
            "min_width": null,
            "options": [
              "position",
              "transparent_bg"
            ],
            "position": "bottomright",
            "transparent_bg": false,
            "widget": "IPY_MODEL_3a65c6df17de4bd29593deb261357e5b"
          }
        },
        "b6854911325e4207959a52f63d1f806a": {
          "model_module": "jupyter-leaflet",
          "model_name": "LeafletMapStyleModel",
          "model_module_version": "^0.17.0",
          "state": {
            "_model_module": "jupyter-leaflet",
            "_model_module_version": "^0.17.0",
            "_model_name": "LeafletMapStyleModel",
            "_view_count": null,
            "_view_module": "@jupyter-widgets/base",
            "_view_module_version": "1.2.0",
            "_view_name": "StyleView",
            "cursor": "grab"
          }
        },
        "0a6ad9898eb349bea68bb5746db8bc02": {
          "model_module": "jupyter-leaflet",
          "model_name": "LeafletMapStyleModel",
          "model_module_version": "^0.17.0",
          "state": {
            "_model_module": "jupyter-leaflet",
            "_model_module_version": "^0.17.0",
            "_model_name": "LeafletMapStyleModel",
            "_view_count": null,
            "_view_module": "@jupyter-widgets/base",
            "_view_module_version": "1.2.0",
            "_view_name": "StyleView",
            "cursor": "move"
          }
        },
        "a5b0b552f28a4fc48a5fe52fdd8cf49c": {
          "model_module": "jupyter-leaflet",
          "model_name": "LeafletTileLayerModel",
          "model_module_version": "^0.17.0",
          "state": {
            "_model_module": "jupyter-leaflet",
            "_model_module_version": "^0.17.0",
            "_model_name": "LeafletTileLayerModel",
            "_view_count": null,
            "_view_module": "jupyter-leaflet",
            "_view_module_version": "^0.17.0",
            "_view_name": "LeafletTileLayerView",
            "attribution": "&copy; <a href=\"https://www.openstreetmap.org/copyright\">OpenStreetMap</a> contributors",
            "base": true,
            "bottom": true,
            "bounds": null,
            "detect_retina": false,
            "loading": false,
            "max_native_zoom": null,
            "max_zoom": 19,
            "min_native_zoom": null,
            "min_zoom": 1,
            "name": "OpenStreetMap.Mapnik",
            "no_wrap": false,
            "opacity": 1,
            "options": [
              "attribution",
              "bounds",
              "detect_retina",
              "max_native_zoom",
              "max_zoom",
              "min_native_zoom",
              "min_zoom",
              "no_wrap",
              "tile_size",
              "tms"
            ],
            "pane": "",
            "popup": null,
            "popup_max_height": null,
            "popup_max_width": 300,
            "popup_min_width": 50,
            "show_loading": false,
            "tile_size": 256,
            "tms": false,
            "url": "https://a.tile.openstreetmap.org/{z}/{x}/{y}.png",
            "visible": true
          }
        },
        "237955c3001f4435baf2c1b9f67357d6": {
          "model_module": "jupyter-leaflet",
          "model_name": "LeafletTileLayerModel",
          "model_module_version": "^0.17.0",
          "state": {
            "_model_module": "jupyter-leaflet",
            "_model_module_version": "^0.17.0",
            "_model_name": "LeafletTileLayerModel",
            "_view_count": null,
            "_view_module": "jupyter-leaflet",
            "_view_module_version": "^0.17.0",
            "_view_name": "LeafletTileLayerView",
            "attribution": "Google Earth Engine",
            "base": false,
            "bottom": true,
            "bounds": null,
            "detect_retina": false,
            "loading": false,
            "max_native_zoom": null,
            "max_zoom": 24,
            "min_native_zoom": null,
            "min_zoom": 0,
            "name": "Ocean Temperature",
            "no_wrap": false,
            "opacity": 1,
            "options": [
              "attribution",
              "bounds",
              "detect_retina",
              "max_native_zoom",
              "max_zoom",
              "min_native_zoom",
              "min_zoom",
              "no_wrap",
              "tile_size",
              "tms"
            ],
            "pane": "",
            "popup": null,
            "popup_max_height": null,
            "popup_max_width": 300,
            "popup_min_width": 50,
            "show_loading": false,
            "tile_size": 256,
            "tms": false,
            "url": "https://earthengine.googleapis.com/v1alpha/projects/earthengine-legacy/maps/5c0e69e7e26c374817f23584f464adc5-c74d9e41a593d5688575fd6fc776d817/tiles/{z}/{x}/{y}",
            "visible": true
          }
        },
        "576893555a7e430583d879fcd9070927": {
          "model_module": "@jupyter-widgets/base",
          "model_name": "LayoutModel",
          "model_module_version": "1.2.0",
          "state": {
            "_model_module": "@jupyter-widgets/base",
            "_model_module_version": "1.2.0",
            "_model_name": "LayoutModel",
            "_view_count": null,
            "_view_module": "@jupyter-widgets/base",
            "_view_module_version": "1.2.0",
            "_view_name": "LayoutView",
            "align_content": null,
            "align_items": null,
            "align_self": null,
            "border": null,
            "bottom": null,
            "display": null,
            "flex": null,
            "flex_flow": null,
            "grid_area": null,
            "grid_auto_columns": null,
            "grid_auto_flow": null,
            "grid_auto_rows": null,
            "grid_column": null,
            "grid_gap": null,
            "grid_row": null,
            "grid_template_areas": null,
            "grid_template_columns": null,
            "grid_template_rows": null,
            "height": "600px",
            "justify_content": null,
            "justify_items": null,
            "left": null,
            "margin": null,
            "max_height": null,
            "max_width": null,
            "min_height": null,
            "min_width": null,
            "object_fit": null,
            "object_position": null,
            "order": null,
            "overflow": null,
            "overflow_x": null,
            "overflow_y": null,
            "padding": null,
            "right": null,
            "top": null,
            "visibility": null,
            "width": null
          }
        },
        "9d12d0b711a449c29b7263e997a82e50": {
          "model_module": "jupyter-leaflet",
          "model_name": "LeafletMapStyleModel",
          "model_module_version": "^0.17.0",
          "state": {
            "_model_module": "jupyter-leaflet",
            "_model_module_version": "^0.17.0",
            "_model_name": "LeafletMapStyleModel",
            "_view_count": null,
            "_view_module": "@jupyter-widgets/base",
            "_view_module_version": "1.2.0",
            "_view_name": "StyleView",
            "cursor": "grab"
          }
        },
        "44f22f1e4d1244ba8aff4db42e226317": {
          "model_module": "@jupyter-widgets/controls",
          "model_name": "HBoxModel",
          "model_module_version": "1.5.0",
          "state": {
            "_dom_classes": [],
            "_model_module": "@jupyter-widgets/controls",
            "_model_module_version": "1.5.0",
            "_model_name": "HBoxModel",
            "_view_count": null,
            "_view_module": "@jupyter-widgets/controls",
            "_view_module_version": "1.5.0",
            "_view_name": "HBoxView",
            "box_style": "",
            "children": [
              "IPY_MODEL_e1118320b9144d8c9dca8b79ac61d2fc"
            ],
            "layout": "IPY_MODEL_ce03c0e34ab34ed48513e237a774e83b"
          }
        },
        "8e7d6c15312c4d6d8bb430fde38b7041": {
          "model_module": "@jupyter-widgets/controls",
          "model_name": "VBoxModel",
          "model_module_version": "1.5.0",
          "state": {
            "_dom_classes": [],
            "_model_module": "@jupyter-widgets/controls",
            "_model_module_version": "1.5.0",
            "_model_name": "VBoxModel",
            "_view_count": null,
            "_view_module": "@jupyter-widgets/controls",
            "_view_module_version": "1.5.0",
            "_view_name": "VBoxView",
            "box_style": "",
            "children": [
              "IPY_MODEL_69863eb2c2f541e883d5df93f757e9b2"
            ],
            "layout": "IPY_MODEL_796c11eb50694a8787064b10070adc10"
          }
        },
        "3a65c6df17de4bd29593deb261357e5b": {
          "model_module": "@jupyter-widgets/output",
          "model_name": "OutputModel",
          "model_module_version": "1.0.0",
          "state": {
            "_dom_classes": [],
            "_model_module": "@jupyter-widgets/output",
            "_model_module_version": "1.0.0",
            "_model_name": "OutputModel",
            "_view_count": null,
            "_view_module": "@jupyter-widgets/output",
            "_view_module_version": "1.0.0",
            "_view_name": "OutputView",
            "layout": "IPY_MODEL_55b3463067554eb5bb7e0a709e200761",
            "msg_id": "",
            "outputs": [
              {
                "output_type": "display_data",
                "data": {
                  "text/plain": "<Figure size 432x28.8 with 1 Axes>",
                  "image/png": "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\n"
                },
                "metadata": {
                  "needs_background": "light"
                }
              }
            ]
          }
        },
        "e1118320b9144d8c9dca8b79ac61d2fc": {
          "model_module": "@jupyter-widgets/controls",
          "model_name": "ToggleButtonModel",
          "model_module_version": "1.5.0",
          "state": {
            "_dom_classes": [],
            "_model_module": "@jupyter-widgets/controls",
            "_model_module_version": "1.5.0",
            "_model_name": "ToggleButtonModel",
            "_view_count": null,
            "_view_module": "@jupyter-widgets/controls",
            "_view_module_version": "1.5.0",
            "_view_name": "ToggleButtonView",
            "button_style": "",
            "description": "",
            "description_tooltip": null,
            "disabled": false,
            "icon": "globe",
            "layout": "IPY_MODEL_8f51b755cac44a60b9cf30cad89e5ead",
            "style": "IPY_MODEL_39d85d2af1c34b91881d5f1230f06a8b",
            "tooltip": "Search location/data",
            "value": false
          }
        },
        "ce03c0e34ab34ed48513e237a774e83b": {
          "model_module": "@jupyter-widgets/base",
          "model_name": "LayoutModel",
          "model_module_version": "1.2.0",
          "state": {
            "_model_module": "@jupyter-widgets/base",
            "_model_module_version": "1.2.0",
            "_model_name": "LayoutModel",
            "_view_count": null,
            "_view_module": "@jupyter-widgets/base",
            "_view_module_version": "1.2.0",
            "_view_name": "LayoutView",
            "align_content": null,
            "align_items": null,
            "align_self": null,
            "border": null,
            "bottom": null,
            "display": null,
            "flex": null,
            "flex_flow": null,
            "grid_area": null,
            "grid_auto_columns": null,
            "grid_auto_flow": null,
            "grid_auto_rows": null,
            "grid_column": null,
            "grid_gap": null,
            "grid_row": null,
            "grid_template_areas": null,
            "grid_template_columns": null,
            "grid_template_rows": null,
            "height": null,
            "justify_content": null,
            "justify_items": null,
            "left": null,
            "margin": null,
            "max_height": null,
            "max_width": null,
            "min_height": null,
            "min_width": null,
            "object_fit": null,
            "object_position": null,
            "order": null,
            "overflow": null,
            "overflow_x": null,
            "overflow_y": null,
            "padding": null,
            "right": null,
            "top": null,
            "visibility": null,
            "width": null
          }
        },
        "69863eb2c2f541e883d5df93f757e9b2": {
          "model_module": "@jupyter-widgets/controls",
          "model_name": "ToggleButtonModel",
          "model_module_version": "1.5.0",
          "state": {
            "_dom_classes": [],
            "_model_module": "@jupyter-widgets/controls",
            "_model_module_version": "1.5.0",
            "_model_name": "ToggleButtonModel",
            "_view_count": null,
            "_view_module": "@jupyter-widgets/controls",
            "_view_module_version": "1.5.0",
            "_view_name": "ToggleButtonView",
            "button_style": "",
            "description": "",
            "description_tooltip": null,
            "disabled": false,
            "icon": "wrench",
            "layout": "IPY_MODEL_f9546d71a7974955bff4d601b311f740",
            "style": "IPY_MODEL_d5dca48c2e3f483f9b67e87cf458985d",
            "tooltip": "Toolbar",
            "value": false
          }
        },
        "796c11eb50694a8787064b10070adc10": {
          "model_module": "@jupyter-widgets/base",
          "model_name": "LayoutModel",
          "model_module_version": "1.2.0",
          "state": {
            "_model_module": "@jupyter-widgets/base",
            "_model_module_version": "1.2.0",
            "_model_name": "LayoutModel",
            "_view_count": null,
            "_view_module": "@jupyter-widgets/base",
            "_view_module_version": "1.2.0",
            "_view_name": "LayoutView",
            "align_content": null,
            "align_items": null,
            "align_self": null,
            "border": null,
            "bottom": null,
            "display": null,
            "flex": null,
            "flex_flow": null,
            "grid_area": null,
            "grid_auto_columns": null,
            "grid_auto_flow": null,
            "grid_auto_rows": null,
            "grid_column": null,
            "grid_gap": null,
            "grid_row": null,
            "grid_template_areas": null,
            "grid_template_columns": null,
            "grid_template_rows": null,
            "height": null,
            "justify_content": null,
            "justify_items": null,
            "left": null,
            "margin": null,
            "max_height": null,
            "max_width": null,
            "min_height": null,
            "min_width": null,
            "object_fit": null,
            "object_position": null,
            "order": null,
            "overflow": null,
            "overflow_x": null,
            "overflow_y": null,
            "padding": null,
            "right": null,
            "top": null,
            "visibility": null,
            "width": null
          }
        },
        "55b3463067554eb5bb7e0a709e200761": {
          "model_module": "@jupyter-widgets/base",
          "model_name": "LayoutModel",
          "model_module_version": "1.2.0",
          "state": {
            "_model_module": "@jupyter-widgets/base",
            "_model_module_version": "1.2.0",
            "_model_name": "LayoutModel",
            "_view_count": null,
            "_view_module": "@jupyter-widgets/base",
            "_view_module_version": "1.2.0",
            "_view_name": "LayoutView",
            "align_content": null,
            "align_items": null,
            "align_self": null,
            "border": null,
            "bottom": null,
            "display": null,
            "flex": null,
            "flex_flow": null,
            "grid_area": null,
            "grid_auto_columns": null,
            "grid_auto_flow": null,
            "grid_auto_rows": null,
            "grid_column": null,
            "grid_gap": null,
            "grid_row": null,
            "grid_template_areas": null,
            "grid_template_columns": null,
            "grid_template_rows": null,
            "height": null,
            "justify_content": null,
            "justify_items": null,
            "left": null,
            "margin": null,
            "max_height": null,
            "max_width": null,
            "min_height": null,
            "min_width": null,
            "object_fit": null,
            "object_position": null,
            "order": null,
            "overflow": null,
            "overflow_x": null,
            "overflow_y": null,
            "padding": null,
            "right": null,
            "top": null,
            "visibility": null,
            "width": null
          }
        },
        "8f51b755cac44a60b9cf30cad89e5ead": {
          "model_module": "@jupyter-widgets/base",
          "model_name": "LayoutModel",
          "model_module_version": "1.2.0",
          "state": {
            "_model_module": "@jupyter-widgets/base",
            "_model_module_version": "1.2.0",
            "_model_name": "LayoutModel",
            "_view_count": null,
            "_view_module": "@jupyter-widgets/base",
            "_view_module_version": "1.2.0",
            "_view_name": "LayoutView",
            "align_content": null,
            "align_items": null,
            "align_self": null,
            "border": null,
            "bottom": null,
            "display": null,
            "flex": null,
            "flex_flow": null,
            "grid_area": null,
            "grid_auto_columns": null,
            "grid_auto_flow": null,
            "grid_auto_rows": null,
            "grid_column": null,
            "grid_gap": null,
            "grid_row": null,
            "grid_template_areas": null,
            "grid_template_columns": null,
            "grid_template_rows": null,
            "height": "28px",
            "justify_content": null,
            "justify_items": null,
            "left": null,
            "margin": null,
            "max_height": null,
            "max_width": null,
            "min_height": null,
            "min_width": null,
            "object_fit": null,
            "object_position": null,
            "order": null,
            "overflow": null,
            "overflow_x": null,
            "overflow_y": null,
            "padding": "0px 0px 0px 4px",
            "right": null,
            "top": null,
            "visibility": null,
            "width": "28px"
          }
        },
        "39d85d2af1c34b91881d5f1230f06a8b": {
          "model_module": "@jupyter-widgets/controls",
          "model_name": "DescriptionStyleModel",
          "model_module_version": "1.5.0",
          "state": {
            "_model_module": "@jupyter-widgets/controls",
            "_model_module_version": "1.5.0",
            "_model_name": "DescriptionStyleModel",
            "_view_count": null,
            "_view_module": "@jupyter-widgets/base",
            "_view_module_version": "1.2.0",
            "_view_name": "StyleView",
            "description_width": ""
          }
        },
        "f9546d71a7974955bff4d601b311f740": {
          "model_module": "@jupyter-widgets/base",
          "model_name": "LayoutModel",
          "model_module_version": "1.2.0",
          "state": {
            "_model_module": "@jupyter-widgets/base",
            "_model_module_version": "1.2.0",
            "_model_name": "LayoutModel",
            "_view_count": null,
            "_view_module": "@jupyter-widgets/base",
            "_view_module_version": "1.2.0",
            "_view_name": "LayoutView",
            "align_content": null,
            "align_items": null,
            "align_self": null,
            "border": null,
            "bottom": null,
            "display": null,
            "flex": null,
            "flex_flow": null,
            "grid_area": null,
            "grid_auto_columns": null,
            "grid_auto_flow": null,
            "grid_auto_rows": null,
            "grid_column": null,
            "grid_gap": null,
            "grid_row": null,
            "grid_template_areas": null,
            "grid_template_columns": null,
            "grid_template_rows": null,
            "height": "28px",
            "justify_content": null,
            "justify_items": null,
            "left": null,
            "margin": null,
            "max_height": null,
            "max_width": null,
            "min_height": null,
            "min_width": null,
            "object_fit": null,
            "object_position": null,
            "order": null,
            "overflow": null,
            "overflow_x": null,
            "overflow_y": null,
            "padding": "0px 0px 0px 4px",
            "right": null,
            "top": null,
            "visibility": null,
            "width": "28px"
          }
        },
        "d5dca48c2e3f483f9b67e87cf458985d": {
          "model_module": "@jupyter-widgets/controls",
          "model_name": "DescriptionStyleModel",
          "model_module_version": "1.5.0",
          "state": {
            "_model_module": "@jupyter-widgets/controls",
            "_model_module_version": "1.5.0",
            "_model_name": "DescriptionStyleModel",
            "_view_count": null,
            "_view_module": "@jupyter-widgets/base",
            "_view_module_version": "1.2.0",
            "_view_name": "StyleView",
            "description_width": ""
          }
        }
      }
    }
  },
  "cells": [
    {
      "cell_type": "markdown",
      "metadata": {
        "id": "view-in-github",
        "colab_type": "text"
      },
      "source": [
        "<a href=\"https://colab.research.google.com/github/epalosh/SEES-2022/blob/main/Ocean_Surface_Temperature.ipynb\" target=\"_parent\"><img src=\"https://colab.research.google.com/assets/colab-badge.svg\" alt=\"Open In Colab\"/></a>"
      ]
    },
    {
      "cell_type": "markdown",
      "source": [
        "# Ocean Surface Temperatures Using GEE!\n",
        "\n",
        "*Notebook by: Ethan Palosh*\n",
        "\n",
        "Dataset: \"NOAA AVHRR Pathfinder Version 5.3 Collated Global 4km Sea Surface Temperature\" \n",
        "https://developers.google.com/earth-engine/datasets/catalog/NOAA_CDR_SST_PATHFINDER_V53?hl=en#bands "
      ],
      "metadata": {
        "id": "_JrU-OFyTWHV"
      }
    },
    {
      "cell_type": "markdown",
      "metadata": {
        "id": "bNMEXWv860ss"
      },
      "source": [
        "# Earth Engine Setup"
      ]
    },
    {
      "cell_type": "code",
      "source": [
        "!pip install geemap &> /dev/null\n",
        "!pip install mss &> /dev/null"
      ],
      "metadata": {
        "id": "1d9ID8m-g4R-"
      },
      "execution_count": 78,
      "outputs": []
    },
    {
      "cell_type": "markdown",
      "source": [
        "To import GEE:\n",
        "\n",
        "\n",
        "1.   Run the following code cell\n",
        "2.   Click link and copy verification\n",
        "3.   Paste in text box and hit \"enter\"\n",
        "\n",
        "\n",
        "\n"
      ],
      "metadata": {
        "id": "iUwjyPiTjoRz"
      }
    },
    {
      "cell_type": "code",
      "execution_count": 2,
      "metadata": {
        "colab": {
          "base_uri": "https://localhost:8080/"
        },
        "id": "5X5ClthV60ss",
        "outputId": "2116e33a-cea1-4656-fca3-91374589a2fb"
      },
      "outputs": [
        {
          "output_type": "stream",
          "name": "stdout",
          "text": [
            "To authorize access needed by Earth Engine, open the following URL in a web browser and follow the instructions. If the web browser does not start automatically, please manually browse the URL below.\n",
            "\n",
            "    https://code.earthengine.google.com/client-auth?scopes=https%3A//www.googleapis.com/auth/earthengine%20https%3A//www.googleapis.com/auth/devstorage.full_control&request_id=CqtW5pqna5S5xUKpWBcp7Ao8xWXcZeDPBc830UeDhWc&tc=-piqjE4UbxM1fF__yq1MVoqSUt3GnCly1ZwMHzJMuOk&cc=MyQ6X6msZr5JAHoMOYuZycAp3eJgDMMDN9MWL-Po68Q\n",
            "\n",
            "The authorization workflow will generate a code, which you should paste in the box below.\n",
            "Enter verification code: 4/1AdQt8qj0fxWLDFnZ6uQR-8T4SjIx2ubItCjBOkZCwbRfeL1EGptpFoZWu2Y\n",
            "\n",
            "Successfully saved authorization token.\n"
          ]
        }
      ],
      "source": [
        "import ee\n",
        "ee.Authenticate()\n",
        "ee.Initialize()"
      ]
    },
    {
      "cell_type": "code",
      "source": [
        "import os\n",
        "\n",
        "download_dir = os.path.join(os.path.expanduser('~'), 'Downloads')\n",
        "if not os.path.exists(download_dir):\n",
        "    os.makedirs(download_dir)\n",
        "html_file = os.path.join(download_dir, 'my_map.html')"
      ],
      "metadata": {
        "id": "7tKXHO9cXyNU"
      },
      "execution_count": null,
      "outputs": []
    },
    {
      "cell_type": "markdown",
      "metadata": {
        "id": "72RBBAeB60ss"
      },
      "source": [
        "### GEE Map setup (for interactive map display)"
      ]
    },
    {
      "cell_type": "code",
      "execution_count": 77,
      "metadata": {
        "colab": {
          "base_uri": "https://localhost:8080/"
        },
        "id": "9q_EiZ73C5UY",
        "outputId": "b59f00a3-bef6-4eb9-be1c-483f9e13f401"
      },
      "outputs": [
        {
          "output_type": "stream",
          "name": "stdout",
          "text": [
            "geemap is imported and ready to use in Colab\n"
          ]
        }
      ],
      "source": [
        "# Installs geemap package\n",
        "import geemap.timelapse as timelapse\n",
        "import subprocess\n",
        "\n",
        "try:\n",
        "    import geemap as geemap\n",
        "    print(\"geemap is imported and ready to use in Colab\")\n",
        "except ImportError:\n",
        "    print('geemap package not installed. Installing ...')\n",
        "    subprocess.check_call([\"python\", '-m', 'pip', 'install', 'geemap'])\n",
        "    import geemap as geemap\n",
        "    print(\"geemap is now installed, imported and ready to use in Colab\") \n",
        "\n",
        "#geemap.update_package()"
      ]
    },
    {
      "cell_type": "markdown",
      "source": [
        "**Folium import:**\n",
        "Commented out for this notebook!"
      ],
      "metadata": {
        "id": "rGoifzEKXB1s"
      }
    },
    {
      "cell_type": "code",
      "execution_count": 5,
      "metadata": {
        "id": "Sceft8dIMU2p"
      },
      "outputs": [],
      "source": [
        "# import folium\n",
        "\n",
        "\n",
        "# def add_ee_layer(self, ee_image_object, vis_params, name):\n",
        "#   map_id_dict = ee.Image(ee_image_object).getMapId(vis_params)\n",
        "#   folium.raster_layers.TileLayer(\n",
        "#       tiles=map_id_dict['tile_fetcher'].url_format,\n",
        "#       attr='Map Data &copy; <a href=\"https://earthengine.google.com/\">Google Earth Engine</a>',\n",
        "#       name=name,\n",
        "#       overlay=True,\n",
        "#       control=True\n",
        "#   ).add_to(self)\n",
        "\n",
        "# folium.Map.add_ee_layer = add_ee_layer"
      ]
    },
    {
      "cell_type": "markdown",
      "source": [
        "#Static Maps: Difference From Average (El Nino, La Nina)"
      ],
      "metadata": {
        "id": "JoDwQLz_X3e_"
      }
    },
    {
      "cell_type": "markdown",
      "source": [
        "**Next, pull data from the database you plan to analyze using a date range.** \n",
        "\n",
        "Here, I get a target range for an El Nino season. (2015-2016) On the next line, I pull a 10 year range of data before the anomaly to compare it to.\n",
        "\n",
        "The variables are named accordingly, each storing an \"image collection.\""
      ],
      "metadata": {
        "id": "q84zYlbFYIu2"
      }
    },
    {
      "cell_type": "code",
      "execution_count": 62,
      "metadata": {
        "id": "ZsXOQo0qQtsY"
      },
      "outputs": [],
      "source": [
        "# Creates the image collection\n",
        "noaaEN = ee.ImageCollection(\"NOAA/CDR/SST_PATHFINDER/V53\").filterDate(\"2015-06-01\", \"2016-06-01\")\n",
        "tenYrAvgEN = ee.ImageCollection(\"NOAA/CDR/SST_PATHFINDER/V53\").filterDate(\"2004-01-01\", \"2014-01-01\") "
      ]
    },
    {
      "cell_type": "markdown",
      "source": [
        "If you plan to bound the data, you can define these bounds and clip images with it later:"
      ],
      "metadata": {
        "id": "e_cPXIayZs3U"
      }
    },
    {
      "cell_type": "code",
      "source": [
        "# Select the bounds of the area to be clipped\n",
        "# bounds = ee.Geometry.Point([43.4210, -47.7686]).buffer(40)"
      ],
      "metadata": {
        "id": "ISYku5B6Zh0k"
      },
      "execution_count": 63,
      "outputs": []
    },
    {
      "cell_type": "markdown",
      "source": [
        "**Next, apply a reducer to the image collections to produce a single image:**\n",
        "\n",
        "*   \"mean\" takes an average of surface temperature over the 10 years\n",
        "*   \"EN\" (short for El Nino) averages the anomaly years to a single image\n",
        "*   \"diff\" produces an image product of the difference between both of the images\n",
        "\n",
        "\n",
        "\n",
        "\n"
      ],
      "metadata": {
        "id": "QZ8fyaNUappV"
      }
    },
    {
      "cell_type": "code",
      "source": [
        "# Selects the image from the image collection\n",
        "mean = tenYrAvgEN.mean()#.clip(bounds)\n",
        "EN = noaaEN.mean()\n",
        "diffEN = mean.subtract(EN)"
      ],
      "metadata": {
        "id": "WVQXOavxaoxx"
      },
      "execution_count": 64,
      "outputs": []
    },
    {
      "cell_type": "markdown",
      "source": [
        "**Next, I define a palette and two dictionaries of parameters to be used for mapping.**\n",
        "\n",
        "*keyParams was created to display the correct unit scale on the map. (The raw data is at a scale factor of 0.01)*"
      ],
      "metadata": {
        "id": "JiHY_edtcjFt"
      }
    },
    {
      "cell_type": "code",
      "source": [
        "palette = [\"#00BCE3\", \"blue\", \"#00008B\", \"green\", \"yellow\", \"orange\", \"red\"]\n",
        "\n",
        "# Choosing the band (Daily Sea Surface Temperature), max/min, and palette\n",
        "mapParams = {\n",
        "    \"bands\": [\"sea_surface_temperature\"],\n",
        "    \"min\": -700, #scale factor of .01\n",
        "    \"max\": 700,\n",
        "    \"palette\": palette\n",
        "}\n",
        "\n",
        "keyParams = {\n",
        "    \"min\": -7,\n",
        "    \"max\": 7,\n",
        "    \"palette\": palette\n",
        "}"
      ],
      "metadata": {
        "id": "G00gyQ3qWyOx"
      },
      "execution_count": 65,
      "outputs": []
    },
    {
      "cell_type": "markdown",
      "source": [
        "**Finally, map it!**"
      ],
      "metadata": {
        "id": "i9m7zpFEdk1z"
      }
    },
    {
      "cell_type": "code",
      "source": [
        "# Display the map\n",
        "Map = geemap.Map()\n",
        "Map.addLayer(diffEN, mapParams, \"Ocean Temperature\")\n",
        "# Map.centerObject(bounds, 7)\n",
        "Map.add_colorbar(vis_params=keyParams, label='Difference From 10 Year Average Surface Temperature (°C)', position='bottomright')\n",
        "\n",
        "Map"
      ],
      "metadata": {
        "colab": {
          "base_uri": "https://localhost:8080/",
          "height": 621,
          "referenced_widgets": [
            "fd0bb77d684349a9a9296ade1397ff8c",
            "dcde9b5922af4cfda1dc46dcad17e0d9",
            "8ca34d9986c84ec795c9057809f7212a",
            "45de9f00775f471198718a0e569b1791",
            "bd6e4f84d80846d6bd7c55b1286d65cc",
            "d43ffb569cb14b06b7691007db0573f1",
            "37caa2cfc47447ae88cb7eaf47f0a462",
            "d199ddb8a99944808a6e3150fef617ae",
            "bd1139889c48451a828ce5bf6ea504a5",
            "12b58973744c41b19d7e14f94737f47e",
            "9b089c7d9a3b46d0a31f57305c8d92ae",
            "2d9ee64d35594f778f5170df9f67c115",
            "1537950245c74eb0a873e5a47c8873ef",
            "ba6348e219a745e3961248d8e5d111d1",
            "b9f16500424c4ca5a63ba521763e81e9",
            "84f8e35c3e7344b9ac39f5565ccb2cd6",
            "24eaf9d4fedf41ffa605c491a9762779",
            "16d8011b1e5a474d8b909462bc2c739f",
            "f0ebf7589e174021b4b07ed2c6cbd6fc",
            "64b6dc593d62436991b20d5a23796f2e",
            "846238123c8a4fac94bcaad3c019bc35",
            "ccc07c478f444a019f91418c48f8d169",
            "3dbcef86c7a04668bfebf07f808e3d56",
            "43a545f064274bdcaa9da0ad9e3729af",
            "3a503d3655a94d55b630bf8891b2e98c",
            "6dfeb3f259744b20b8348dcc7048d006",
            "2ab6fd656a7b47f3899504bdc2b41571",
            "e5df32edd0b5437e9670579c2e67572f",
            "dccf47b0a6d641e097505513e5a732c7"
          ]
        },
        "id": "fGpjDDuLdnxI",
        "outputId": "f65c5be4-74b5-4e47-f7c5-cc139421ff69"
      },
      "execution_count": 66,
      "outputs": [
        {
          "output_type": "display_data",
          "data": {
            "text/plain": [
              "Map(center=[20, 0], controls=(WidgetControl(options=['position', 'transparent_bg'], widget=HBox(children=(Togg…"
            ],
            "application/vnd.jupyter.widget-view+json": {
              "version_major": 2,
              "version_minor": 0,
              "model_id": "fd0bb77d684349a9a9296ade1397ff8c"
            }
          },
          "metadata": {
            "application/vnd.jupyter.widget-view+json": {
              "colab": {
                "custom_widget_manager": {
                  "url": "https://ssl.gstatic.com/colaboratory-static/widgets/colab-cdn-widget-manager/d2e234f7cc04bf79/manager.min.js"
                }
              }
            }
          }
        }
      ]
    },
    {
      "cell_type": "markdown",
      "source": [
        "**Next, we can map a similar map that investigates a La Nina event.**\n",
        "\n",
        "Start by creating image collections, defining date ranges, and reducing the collections to single images."
      ],
      "metadata": {
        "id": "wIZCJ9GKfykl"
      }
    },
    {
      "cell_type": "code",
      "source": [
        "# Creates the image collection\n",
        "noaaLN = ee.ImageCollection(\"NOAA/CDR/SST_PATHFINDER/V53\").filterDate(\"1998-06-01\", \"1999-06-01\")\n",
        "tenYrAvgLN = ee.ImageCollection(\"NOAA/CDR/SST_PATHFINDER/V53\").filterDate(\"1987-01-01\", \"1997-01-01\") \n",
        "\n",
        "# Selects the image from the image collection\n",
        "mean = tenYrAvgLN.mean()#.clip(bounds)\n",
        "LN = noaaLN.mean()\n",
        "diffLN = mean.subtract(LN)"
      ],
      "metadata": {
        "id": "To2Y3EkOgJwi"
      },
      "execution_count": 74,
      "outputs": []
    },
    {
      "cell_type": "markdown",
      "source": [
        "**Then map it using parameters we already defined!**"
      ],
      "metadata": {
        "id": "1x5iArIog4QB"
      }
    },
    {
      "cell_type": "code",
      "source": [
        "# Display the map\n",
        "Map = geemap.Map()\n",
        "Map.addLayer(diffLN, mapParams, \"Ocean Temperature\")\n",
        "# Map.centerObject(bounds, 7)\n",
        "Map.add_colorbar(vis_params=keyParams, label='Difference From 10 Year Average Surface Temperature (°C)', position='bottomright')\n",
        "\n",
        "Map"
      ],
      "metadata": {
        "colab": {
          "base_uri": "https://localhost:8080/",
          "height": 0,
          "referenced_widgets": [
            "35ce75b6c5034c4b99de46580c6df7c7",
            "0e9028c1e7e941bbba7f45d62e8d4048",
            "8535bc4eb30f499dbbc152fd05306f29",
            "ccedc6c4ad3943248350e10a4cdba591",
            "b17155b773944469bb1ccf17e2b58543",
            "74dfbb166bf441558f68322c1a19fecf",
            "b415aa2c7f9b4d9babdf9e22d2e7c17b",
            "fde9021c8fd543f1bf067c24194c05fd",
            "b931c3141a0a4cc1aaaad97cc969dcec",
            "76b6650bedfc4f9aa0e251804c9c601c",
            "b6854911325e4207959a52f63d1f806a",
            "0a6ad9898eb349bea68bb5746db8bc02",
            "a5b0b552f28a4fc48a5fe52fdd8cf49c",
            "ba6348e219a745e3961248d8e5d111d1",
            "237955c3001f4435baf2c1b9f67357d6",
            "576893555a7e430583d879fcd9070927",
            "9d12d0b711a449c29b7263e997a82e50",
            "44f22f1e4d1244ba8aff4db42e226317",
            "8e7d6c15312c4d6d8bb430fde38b7041",
            "3a65c6df17de4bd29593deb261357e5b",
            "e1118320b9144d8c9dca8b79ac61d2fc",
            "ce03c0e34ab34ed48513e237a774e83b",
            "69863eb2c2f541e883d5df93f757e9b2",
            "796c11eb50694a8787064b10070adc10",
            "55b3463067554eb5bb7e0a709e200761",
            "8f51b755cac44a60b9cf30cad89e5ead",
            "39d85d2af1c34b91881d5f1230f06a8b",
            "f9546d71a7974955bff4d601b311f740",
            "d5dca48c2e3f483f9b67e87cf458985d"
          ]
        },
        "id": "BT0hzXa0g-Xa",
        "outputId": "6a18cfef-27dc-4934-e136-bf8c6df10277"
      },
      "execution_count": 75,
      "outputs": [
        {
          "output_type": "display_data",
          "data": {
            "text/plain": [
              "Map(center=[20, 0], controls=(WidgetControl(options=['position', 'transparent_bg'], widget=HBox(children=(Togg…"
            ],
            "application/vnd.jupyter.widget-view+json": {
              "version_major": 2,
              "version_minor": 0,
              "model_id": "35ce75b6c5034c4b99de46580c6df7c7"
            }
          },
          "metadata": {
            "application/vnd.jupyter.widget-view+json": {
              "colab": {
                "custom_widget_manager": {
                  "url": "https://ssl.gstatic.com/colaboratory-static/widgets/colab-cdn-widget-manager/d2e234f7cc04bf79/manager.min.js"
                }
              }
            }
          }
        }
      ]
    },
    {
      "cell_type": "markdown",
      "source": [
        "#GIF (Ocean Surface Temperature)"
      ],
      "metadata": {
        "id": "g45V6vzheGnb"
      }
    },
    {
      "cell_type": "markdown",
      "source": [
        "**In this section, I create a GIF that shows ocean surface temp monthly over 3 years as recorded by Pathfinder.** \n",
        "\n",
        "The primary step is to call the \"create_timelapse\" function, and populate the arguments with data we've already defined. There are more arguments to mess with if you choose, but not all are listed here. "
      ],
      "metadata": {
        "id": "N7HdiMX4eyI0"
      }
    },
    {
      "cell_type": "code",
      "source": [
        "gif = timelapse.create_timelapse(tenYrAvgEN, \"2010-03-01\", \"2013-12-31\", \\\n",
        "                                 frequency=\"month\", \\\n",
        "                                 reducer='median', \\\n",
        "                                 palette=palette, \\\n",
        "                                 region=ee.Geometry.Polygon([[-250, 50], [-250, -50], [-80, -50], [-80, 50]]), \\\n",
        "                                 bands=\"sea_surface_temperature\", \\\n",
        "                                 dimensions=768, \\\n",
        "                                 font_size=35, \\\n",
        "                                 add_colorbar=True, \\\n",
        "                                 colorbar_orientation='horizontal', \n",
        "                                 )"
      ],
      "metadata": {
        "colab": {
          "base_uri": "https://localhost:8080/"
        },
        "id": "YvdoGcQwuHYz",
        "outputId": "886e31ec-bd59-4ec1-b1b3-875f93e4d277"
      },
      "execution_count": 68,
      "outputs": [
        {
          "output_type": "stream",
          "name": "stdout",
          "text": [
            "Generating URL...\n",
            "Downloading GIF image from https://earthengine.googleapis.com/v1alpha/projects/earthengine-legacy/videoThumbnails/68d5a046aaa94de5f0d38c5bb2ba1399-a5562a9c07ccbaa25023e027fcc45fd6:getPixels\n",
            "Please wait ...\n",
            "The GIF image has been saved to: /tmp/094147ab-6953-4028-aa97-0d6309c8c391.gif\n"
          ]
        }
      ]
    },
    {
      "cell_type": "markdown",
      "source": [
        "Finally, you may choose to convert to an mp4 using the function below."
      ],
      "metadata": {
        "id": "qXKky1dPflqS"
      }
    },
    {
      "cell_type": "code",
      "source": [
        "timelapse.gif_to_mp4(gif, \"gif_mp4\")"
      ],
      "metadata": {
        "id": "Zs0TUErxf0Do"
      },
      "execution_count": 69,
      "outputs": []
    }
  ]
}