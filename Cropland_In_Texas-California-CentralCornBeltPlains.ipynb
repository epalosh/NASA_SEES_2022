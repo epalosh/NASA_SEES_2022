{
  "nbformat": 4,
  "nbformat_minor": 0,
  "metadata": {
    "colab": {
      "name": "Copy of [2.2] Ethan Palosh: Cropland in Texas!!",
      "provenance": [],
      "collapsed_sections": [],
      "authorship_tag": "ABX9TyNktXQ15oGfgMT1MPWacKsz",
      "include_colab_link": true
    },
    "kernelspec": {
      "name": "python3",
      "display_name": "Python 3"
    },
    "language_info": {
      "name": "python"
    },
    "widgets": {
      "application/vnd.jupyter.widget-state+json": {
        "0c6dd930cf224776bf7550f872eebf1c": {
          "model_module": "jupyter-leaflet",
          "model_name": "LeafletMapModel",
          "model_module_version": "^0.17.0",
          "state": {
            "_dom_classes": [],
            "_model_module": "jupyter-leaflet",
            "_model_module_version": "^0.17.0",
            "_model_name": "LeafletMapModel",
            "_view_count": null,
            "_view_module": "jupyter-leaflet",
            "_view_module_version": "^0.17.0",
            "_view_name": "LeafletMapView",
            "bottom": 1967,
            "bounce_at_zoom_limits": true,
            "box_zoom": true,
            "center": [
              31.71,
              -97.55
            ],
            "close_popup_on_click": true,
            "controls": [
              "IPY_MODEL_b37eac2509b04e3791c7724bc8473d7a",
              "IPY_MODEL_7145a1ede187426ebcdd54fb0096307e",
              "IPY_MODEL_64e578509ddc4581bdb52c5b95984dd6",
              "IPY_MODEL_d37a5d5ed9d143a19e35db1cc175af6b",
              "IPY_MODEL_a420de5398694564bc1763ef6931ad62",
              "IPY_MODEL_b6f91cd99562471486936c48a410a8a5",
              "IPY_MODEL_306f1d01970448e08e006a013ab0f9b4",
              "IPY_MODEL_436946c7f95240cca7763ef0ea1c07e2",
              "IPY_MODEL_3212900aed144cc491d87ce73e943716"
            ],
            "crs": {
              "name": "EPSG3857",
              "custom": false
            },
            "default_style": "IPY_MODEL_1078e8eb0f344094b24f234009ca4198",
            "double_click_zoom": true,
            "dragging": true,
            "dragging_style": "IPY_MODEL_f399a25eed0d4616abe5c207ae896c1b",
            "east": -18.720703125000004,
            "fullscreen": false,
            "inertia": true,
            "inertia_deceleration": 3000,
            "inertia_max_speed": 1500,
            "interpolation": "bilinear",
            "keyboard": true,
            "keyboard_pan_offset": 80,
            "keyboard_zoom_offset": 1,
            "layers": [
              "IPY_MODEL_770c6acf929d4cf3817212f62971f092",
              "IPY_MODEL_e2a46d54f6b74c09a3506684a2315725",
              "IPY_MODEL_7af6ed679115459c99b7ec399d2fe899",
              "IPY_MODEL_bae09a8401de49cc821ec0c0ac21ffbf",
              "IPY_MODEL_759aff9457374b598d33b28f12abfa56",
              "IPY_MODEL_b725e2276663475eba9f2aa522e0997b",
              "IPY_MODEL_669a756d695c42e09e62dd3f115b507c"
            ],
            "layout": "IPY_MODEL_da4dedfb27cb4e35b6be04d683864619",
            "left": 41,
            "max_zoom": 24,
            "min_zoom": null,
            "modisdate": "2022-07-29",
            "north": 51.23440735163461,
            "options": [
              "bounce_at_zoom_limits",
              "box_zoom",
              "center",
              "close_popup_on_click",
              "double_click_zoom",
              "dragging",
              "fullscreen",
              "inertia",
              "inertia_deceleration",
              "inertia_max_speed",
              "interpolation",
              "keyboard",
              "keyboard_pan_offset",
              "keyboard_zoom_offset",
              "max_zoom",
              "min_zoom",
              "prefer_canvas",
              "scroll_wheel_zoom",
              "tap",
              "tap_tolerance",
              "touch_zoom",
              "world_copy_jump",
              "zoom",
              "zoom_animation_threshold",
              "zoom_delta",
              "zoom_snap"
            ],
            "panes": {},
            "prefer_canvas": false,
            "right": 1835,
            "scroll_wheel_zoom": true,
            "south": 7.100892668623654,
            "style": "IPY_MODEL_763bf411accf4069b12fb5a00770836a",
            "tap": true,
            "tap_tolerance": 15,
            "top": 1367,
            "touch_zoom": true,
            "west": -176.396484375,
            "window_url": "https://i0eipt3vi4-496ff2e9c6d22116-0-colab.googleusercontent.com/outputframe.html?vrz=colab-20220728-060048-RC00_463807217",
            "world_copy_jump": false,
            "zoom": 4,
            "zoom_animation_threshold": 4,
            "zoom_delta": 1,
            "zoom_snap": 1
          }
        },
        "b37eac2509b04e3791c7724bc8473d7a": {
          "model_module": "jupyter-leaflet",
          "model_name": "LeafletWidgetControlModel",
          "model_module_version": "^0.17.0",
          "state": {
            "_model_module": "jupyter-leaflet",
            "_model_module_version": "^0.17.0",
            "_model_name": "LeafletWidgetControlModel",
            "_view_count": null,
            "_view_module": "jupyter-leaflet",
            "_view_module_version": "^0.17.0",
            "_view_name": "LeafletWidgetControlView",
            "max_height": null,
            "max_width": null,
            "min_height": null,
            "min_width": null,
            "options": [
              "position",
              "transparent_bg"
            ],
            "position": "topleft",
            "transparent_bg": false,
            "widget": "IPY_MODEL_b6a5ce15a94c470b8a5d7ca31d54ff05"
          }
        },
        "7145a1ede187426ebcdd54fb0096307e": {
          "model_module": "jupyter-leaflet",
          "model_name": "LeafletZoomControlModel",
          "model_module_version": "^0.17.0",
          "state": {
            "_model_module": "jupyter-leaflet",
            "_model_module_version": "^0.17.0",
            "_model_name": "LeafletZoomControlModel",
            "_view_count": null,
            "_view_module": "jupyter-leaflet",
            "_view_module_version": "^0.17.0",
            "_view_name": "LeafletZoomControlView",
            "options": [
              "position",
              "zoom_in_text",
              "zoom_in_title",
              "zoom_out_text",
              "zoom_out_title"
            ],
            "position": "topleft",
            "zoom_in_text": "+",
            "zoom_in_title": "Zoom in",
            "zoom_out_text": "-",
            "zoom_out_title": "Zoom out"
          }
        },
        "64e578509ddc4581bdb52c5b95984dd6": {
          "model_module": "jupyter-leaflet",
          "model_name": "LeafletScaleControlModel",
          "model_module_version": "^0.17.0",
          "state": {
            "_model_module": "jupyter-leaflet",
            "_model_module_version": "^0.17.0",
            "_model_name": "LeafletScaleControlModel",
            "_view_count": null,
            "_view_module": "jupyter-leaflet",
            "_view_module_version": "^0.17.0",
            "_view_name": "LeafletScaleControlView",
            "imperial": true,
            "max_width": 100,
            "metric": true,
            "options": [
              "imperial",
              "max_width",
              "metric",
              "position",
              "update_when_idle"
            ],
            "position": "bottomleft",
            "update_when_idle": false
          }
        },
        "d37a5d5ed9d143a19e35db1cc175af6b": {
          "model_module": "jupyter-leaflet",
          "model_name": "LeafletFullScreenControlModel",
          "model_module_version": "^0.17.0",
          "state": {
            "_model_module": "jupyter-leaflet",
            "_model_module_version": "^0.17.0",
            "_model_name": "LeafletFullScreenControlModel",
            "_view_count": null,
            "_view_module": "jupyter-leaflet",
            "_view_module_version": "^0.17.0",
            "_view_name": "LeafletFullScreenControlView",
            "options": [
              "position"
            ],
            "position": "topleft"
          }
        },
        "a420de5398694564bc1763ef6931ad62": {
          "model_module": "jupyter-leaflet",
          "model_name": "LeafletMeasureControlModel",
          "model_module_version": "^0.17.0",
          "state": {
            "_custom_units": {},
            "_model_module": "jupyter-leaflet",
            "_model_module_version": "^0.17.0",
            "_model_name": "LeafletMeasureControlModel",
            "_view_count": null,
            "_view_module": "jupyter-leaflet",
            "_view_module_version": "^0.17.0",
            "_view_name": "LeafletMeasureControlView",
            "active_color": "orange",
            "capture_z_index": 10000,
            "completed_color": "#C8F2BE",
            "options": [
              "active_color",
              "capture_z_index",
              "completed_color",
              "popup_options",
              "position",
              "primary_area_unit",
              "primary_length_unit",
              "secondary_area_unit",
              "secondary_length_unit"
            ],
            "popup_options": {
              "className": "leaflet-measure-resultpopup",
              "autoPanPadding": [
                10,
                10
              ]
            },
            "position": "bottomleft",
            "primary_area_unit": "acres",
            "primary_length_unit": "kilometers",
            "secondary_area_unit": null,
            "secondary_length_unit": null
          }
        },
        "b6f91cd99562471486936c48a410a8a5": {
          "model_module": "jupyter-leaflet",
          "model_name": "LeafletAttributionControlModel",
          "model_module_version": "^0.17.0",
          "state": {
            "_model_module": "jupyter-leaflet",
            "_model_module_version": "^0.17.0",
            "_model_name": "LeafletAttributionControlModel",
            "_view_count": null,
            "_view_module": "jupyter-leaflet",
            "_view_module_version": "^0.17.0",
            "_view_name": "LeafletAttributionControlView",
            "options": [
              "position",
              "prefix"
            ],
            "position": "bottomright",
            "prefix": "ipyleaflet"
          }
        },
        "306f1d01970448e08e006a013ab0f9b4": {
          "model_module": "jupyter-leaflet",
          "model_name": "LeafletDrawControlModel",
          "model_module_version": "^0.17.0",
          "state": {
            "_model_module": "jupyter-leaflet",
            "_model_module_version": "^0.17.0",
            "_model_name": "LeafletDrawControlModel",
            "_view_count": null,
            "_view_module": "jupyter-leaflet",
            "_view_module_version": "^0.17.0",
            "_view_name": "LeafletDrawControlView",
            "circle": {
              "shapeOptions": {
                "color": "#3388ff"
              }
            },
            "circlemarker": {},
            "data": [],
            "edit": true,
            "marker": {
              "shapeOptions": {
                "color": "#3388ff"
              }
            },
            "options": [
              "position"
            ],
            "polygon": {
              "shapeOptions": {}
            },
            "polyline": {
              "shapeOptions": {}
            },
            "position": "topleft",
            "rectangle": {
              "shapeOptions": {
                "color": "#3388ff"
              }
            },
            "remove": true
          }
        },
        "436946c7f95240cca7763ef0ea1c07e2": {
          "model_module": "jupyter-leaflet",
          "model_name": "LeafletWidgetControlModel",
          "model_module_version": "^0.17.0",
          "state": {
            "_model_module": "jupyter-leaflet",
            "_model_module_version": "^0.17.0",
            "_model_name": "LeafletWidgetControlModel",
            "_view_count": null,
            "_view_module": "jupyter-leaflet",
            "_view_module_version": "^0.17.0",
            "_view_name": "LeafletWidgetControlView",
            "max_height": null,
            "max_width": null,
            "min_height": null,
            "min_width": null,
            "options": [
              "position",
              "transparent_bg"
            ],
            "position": "topright",
            "transparent_bg": false,
            "widget": "IPY_MODEL_cd33aad22f434446a364af2565bf0821"
          }
        },
        "3212900aed144cc491d87ce73e943716": {
          "model_module": "jupyter-leaflet",
          "model_name": "LeafletWidgetControlModel",
          "model_module_version": "^0.17.0",
          "state": {
            "_model_module": "jupyter-leaflet",
            "_model_module_version": "^0.17.0",
            "_model_name": "LeafletWidgetControlModel",
            "_view_count": null,
            "_view_module": "jupyter-leaflet",
            "_view_module_version": "^0.17.0",
            "_view_name": "LeafletWidgetControlView",
            "max_height": null,
            "max_width": null,
            "min_height": null,
            "min_width": null,
            "options": [
              "position",
              "transparent_bg"
            ],
            "position": "bottomright",
            "transparent_bg": false,
            "widget": "IPY_MODEL_50df4a187e414aada0718f49b871af01"
          }
        },
        "1078e8eb0f344094b24f234009ca4198": {
          "model_module": "jupyter-leaflet",
          "model_name": "LeafletMapStyleModel",
          "model_module_version": "^0.17.0",
          "state": {
            "_model_module": "jupyter-leaflet",
            "_model_module_version": "^0.17.0",
            "_model_name": "LeafletMapStyleModel",
            "_view_count": null,
            "_view_module": "@jupyter-widgets/base",
            "_view_module_version": "1.2.0",
            "_view_name": "StyleView",
            "cursor": "grab"
          }
        },
        "f399a25eed0d4616abe5c207ae896c1b": {
          "model_module": "jupyter-leaflet",
          "model_name": "LeafletMapStyleModel",
          "model_module_version": "^0.17.0",
          "state": {
            "_model_module": "jupyter-leaflet",
            "_model_module_version": "^0.17.0",
            "_model_name": "LeafletMapStyleModel",
            "_view_count": null,
            "_view_module": "@jupyter-widgets/base",
            "_view_module_version": "1.2.0",
            "_view_name": "StyleView",
            "cursor": "move"
          }
        },
        "770c6acf929d4cf3817212f62971f092": {
          "model_module": "jupyter-leaflet",
          "model_name": "LeafletTileLayerModel",
          "model_module_version": "^0.17.0",
          "state": {
            "_model_module": "jupyter-leaflet",
            "_model_module_version": "^0.17.0",
            "_model_name": "LeafletTileLayerModel",
            "_view_count": null,
            "_view_module": "jupyter-leaflet",
            "_view_module_version": "^0.17.0",
            "_view_name": "LeafletTileLayerView",
            "attribution": "&copy; <a href=\"https://www.openstreetmap.org/copyright\">OpenStreetMap</a> contributors",
            "base": true,
            "bottom": true,
            "bounds": null,
            "detect_retina": false,
            "loading": false,
            "max_native_zoom": null,
            "max_zoom": 19,
            "min_native_zoom": null,
            "min_zoom": 1,
            "name": "OpenStreetMap.Mapnik",
            "no_wrap": false,
            "opacity": 1,
            "options": [
              "attribution",
              "bounds",
              "detect_retina",
              "max_native_zoom",
              "max_zoom",
              "min_native_zoom",
              "min_zoom",
              "no_wrap",
              "tile_size",
              "tms"
            ],
            "pane": "",
            "popup": null,
            "popup_max_height": null,
            "popup_max_width": 300,
            "popup_min_width": 50,
            "show_loading": false,
            "tile_size": 256,
            "tms": false,
            "url": "https://a.tile.openstreetmap.org/{z}/{x}/{y}.png",
            "visible": true
          }
        },
        "e2a46d54f6b74c09a3506684a2315725": {
          "model_module": "jupyter-leaflet",
          "model_name": "LeafletTileLayerModel",
          "model_module_version": "^0.17.0",
          "state": {
            "_model_module": "jupyter-leaflet",
            "_model_module_version": "^0.17.0",
            "_model_name": "LeafletTileLayerModel",
            "_view_count": null,
            "_view_module": "jupyter-leaflet",
            "_view_module_version": "^0.17.0",
            "_view_name": "LeafletTileLayerView",
            "attribution": "Google",
            "base": false,
            "bottom": true,
            "bounds": null,
            "detect_retina": false,
            "loading": false,
            "max_native_zoom": null,
            "max_zoom": 22,
            "min_native_zoom": null,
            "min_zoom": 0,
            "name": "Google Maps",
            "no_wrap": false,
            "opacity": 1,
            "options": [
              "attribution",
              "bounds",
              "detect_retina",
              "max_native_zoom",
              "max_zoom",
              "min_native_zoom",
              "min_zoom",
              "no_wrap",
              "tile_size",
              "tms"
            ],
            "pane": "",
            "popup": null,
            "popup_max_height": null,
            "popup_max_width": 300,
            "popup_min_width": 50,
            "show_loading": false,
            "tile_size": 256,
            "tms": false,
            "url": "https://mt1.google.com/vt/lyrs=m&x={x}&y={y}&z={z}",
            "visible": true
          }
        },
        "7af6ed679115459c99b7ec399d2fe899": {
          "model_module": "jupyter-leaflet",
          "model_name": "LeafletTileLayerModel",
          "model_module_version": "^0.17.0",
          "state": {
            "_model_module": "jupyter-leaflet",
            "_model_module_version": "^0.17.0",
            "_model_name": "LeafletTileLayerModel",
            "_view_count": null,
            "_view_module": "jupyter-leaflet",
            "_view_module_version": "^0.17.0",
            "_view_name": "LeafletTileLayerView",
            "attribution": "Google Earth Engine",
            "base": false,
            "bottom": true,
            "bounds": null,
            "detect_retina": false,
            "loading": false,
            "max_native_zoom": null,
            "max_zoom": 24,
            "min_native_zoom": null,
            "min_zoom": 0,
            "name": "Texas",
            "no_wrap": false,
            "opacity": 1,
            "options": [
              "attribution",
              "bounds",
              "detect_retina",
              "max_native_zoom",
              "max_zoom",
              "min_native_zoom",
              "min_zoom",
              "no_wrap",
              "tile_size",
              "tms"
            ],
            "pane": "",
            "popup": null,
            "popup_max_height": null,
            "popup_max_width": 300,
            "popup_min_width": 50,
            "show_loading": false,
            "tile_size": 256,
            "tms": false,
            "url": "https://earthengine.googleapis.com/v1alpha/projects/earthengine-legacy/maps/fc1ddc4726a44629abd7a07cf9336c83-068fd6d070984343221522144b0ade47/tiles/{z}/{x}/{y}",
            "visible": true
          }
        },
        "bae09a8401de49cc821ec0c0ac21ffbf": {
          "model_module": "jupyter-leaflet",
          "model_name": "LeafletTileLayerModel",
          "model_module_version": "^0.17.0",
          "state": {
            "_model_module": "jupyter-leaflet",
            "_model_module_version": "^0.17.0",
            "_model_name": "LeafletTileLayerModel",
            "_view_count": null,
            "_view_module": "jupyter-leaflet",
            "_view_module_version": "^0.17.0",
            "_view_name": "LeafletTileLayerView",
            "attribution": "Google Earth Engine",
            "base": false,
            "bottom": true,
            "bounds": null,
            "detect_retina": false,
            "loading": false,
            "max_native_zoom": null,
            "max_zoom": 24,
            "min_native_zoom": null,
            "min_zoom": 0,
            "name": "California",
            "no_wrap": false,
            "opacity": 1,
            "options": [
              "attribution",
              "bounds",
              "detect_retina",
              "max_native_zoom",
              "max_zoom",
              "min_native_zoom",
              "min_zoom",
              "no_wrap",
              "tile_size",
              "tms"
            ],
            "pane": "",
            "popup": null,
            "popup_max_height": null,
            "popup_max_width": 300,
            "popup_min_width": 50,
            "show_loading": false,
            "tile_size": 256,
            "tms": false,
            "url": "https://earthengine.googleapis.com/v1alpha/projects/earthengine-legacy/maps/06d03b8e42013e20078435460e6e78e2-7f1633ee929ef4b4116b1b27693ade7b/tiles/{z}/{x}/{y}",
            "visible": true
          }
        },
        "759aff9457374b598d33b28f12abfa56": {
          "model_module": "jupyter-leaflet",
          "model_name": "LeafletTileLayerModel",
          "model_module_version": "^0.17.0",
          "state": {
            "_model_module": "jupyter-leaflet",
            "_model_module_version": "^0.17.0",
            "_model_name": "LeafletTileLayerModel",
            "_view_count": null,
            "_view_module": "jupyter-leaflet",
            "_view_module_version": "^0.17.0",
            "_view_name": "LeafletTileLayerView",
            "attribution": "Google Earth Engine",
            "base": false,
            "bottom": true,
            "bounds": null,
            "detect_retina": false,
            "loading": false,
            "max_native_zoom": null,
            "max_zoom": 24,
            "min_native_zoom": null,
            "min_zoom": 0,
            "name": "Central Corn Belt Plains",
            "no_wrap": false,
            "opacity": 1,
            "options": [
              "attribution",
              "bounds",
              "detect_retina",
              "max_native_zoom",
              "max_zoom",
              "min_native_zoom",
              "min_zoom",
              "no_wrap",
              "tile_size",
              "tms"
            ],
            "pane": "",
            "popup": null,
            "popup_max_height": null,
            "popup_max_width": 300,
            "popup_min_width": 50,
            "show_loading": false,
            "tile_size": 256,
            "tms": false,
            "url": "https://earthengine.googleapis.com/v1alpha/projects/earthengine-legacy/maps/bd9c2e78aedbf414954df2033b603f13-2a278a635dd4e2343baf6a78b895503a/tiles/{z}/{x}/{y}",
            "visible": true
          }
        },
        "b725e2276663475eba9f2aa522e0997b": {
          "model_module": "jupyter-leaflet",
          "model_name": "LeafletTileLayerModel",
          "model_module_version": "^0.17.0",
          "state": {
            "_model_module": "jupyter-leaflet",
            "_model_module_version": "^0.17.0",
            "_model_name": "LeafletTileLayerModel",
            "_view_count": null,
            "_view_module": "jupyter-leaflet",
            "_view_module_version": "^0.17.0",
            "_view_name": "LeafletTileLayerView",
            "attribution": "Google Earth Engine",
            "base": false,
            "bottom": true,
            "bounds": null,
            "detect_retina": false,
            "loading": false,
            "max_native_zoom": null,
            "max_zoom": 24,
            "min_native_zoom": null,
            "min_zoom": 0,
            "name": "Travis County",
            "no_wrap": false,
            "opacity": 1,
            "options": [
              "attribution",
              "bounds",
              "detect_retina",
              "max_native_zoom",
              "max_zoom",
              "min_native_zoom",
              "min_zoom",
              "no_wrap",
              "tile_size",
              "tms"
            ],
            "pane": "",
            "popup": null,
            "popup_max_height": null,
            "popup_max_width": 300,
            "popup_min_width": 50,
            "show_loading": false,
            "tile_size": 256,
            "tms": false,
            "url": "https://earthengine.googleapis.com/v1alpha/projects/earthengine-legacy/maps/c178ff06b2d89ea594b445de3bcd53f5-15ad80865a79838caf71f60075d58657/tiles/{z}/{x}/{y}",
            "visible": true
          }
        },
        "669a756d695c42e09e62dd3f115b507c": {
          "model_module": "jupyter-leaflet",
          "model_name": "LeafletTileLayerModel",
          "model_module_version": "^0.17.0",
          "state": {
            "_model_module": "jupyter-leaflet",
            "_model_module_version": "^0.17.0",
            "_model_name": "LeafletTileLayerModel",
            "_view_count": null,
            "_view_module": "jupyter-leaflet",
            "_view_module_version": "^0.17.0",
            "_view_name": "LeafletTileLayerView",
            "attribution": "Google Earth Engine",
            "base": false,
            "bottom": true,
            "bounds": null,
            "detect_retina": false,
            "loading": false,
            "max_native_zoom": null,
            "max_zoom": 24,
            "min_native_zoom": null,
            "min_zoom": 0,
            "name": "Counties In Texas",
            "no_wrap": false,
            "opacity": 1,
            "options": [
              "attribution",
              "bounds",
              "detect_retina",
              "max_native_zoom",
              "max_zoom",
              "min_native_zoom",
              "min_zoom",
              "no_wrap",
              "tile_size",
              "tms"
            ],
            "pane": "",
            "popup": null,
            "popup_max_height": null,
            "popup_max_width": 300,
            "popup_min_width": 50,
            "show_loading": false,
            "tile_size": 256,
            "tms": false,
            "url": "https://earthengine.googleapis.com/v1alpha/projects/earthengine-legacy/maps/ba444c2a92c10839120a626f492453a6-52e8795aa45d4ca2ca3baa51342c5c6e/tiles/{z}/{x}/{y}",
            "visible": true
          }
        },
        "da4dedfb27cb4e35b6be04d683864619": {
          "model_module": "@jupyter-widgets/base",
          "model_name": "LayoutModel",
          "model_module_version": "1.2.0",
          "state": {
            "_model_module": "@jupyter-widgets/base",
            "_model_module_version": "1.2.0",
            "_model_name": "LayoutModel",
            "_view_count": null,
            "_view_module": "@jupyter-widgets/base",
            "_view_module_version": "1.2.0",
            "_view_name": "LayoutView",
            "align_content": null,
            "align_items": null,
            "align_self": null,
            "border": null,
            "bottom": null,
            "display": null,
            "flex": null,
            "flex_flow": null,
            "grid_area": null,
            "grid_auto_columns": null,
            "grid_auto_flow": null,
            "grid_auto_rows": null,
            "grid_column": null,
            "grid_gap": null,
            "grid_row": null,
            "grid_template_areas": null,
            "grid_template_columns": null,
            "grid_template_rows": null,
            "height": "600px",
            "justify_content": null,
            "justify_items": null,
            "left": null,
            "margin": null,
            "max_height": null,
            "max_width": null,
            "min_height": null,
            "min_width": null,
            "object_fit": null,
            "object_position": null,
            "order": null,
            "overflow": null,
            "overflow_x": null,
            "overflow_y": null,
            "padding": null,
            "right": null,
            "top": null,
            "visibility": null,
            "width": null
          }
        },
        "763bf411accf4069b12fb5a00770836a": {
          "model_module": "jupyter-leaflet",
          "model_name": "LeafletMapStyleModel",
          "model_module_version": "^0.17.0",
          "state": {
            "_model_module": "jupyter-leaflet",
            "_model_module_version": "^0.17.0",
            "_model_name": "LeafletMapStyleModel",
            "_view_count": null,
            "_view_module": "@jupyter-widgets/base",
            "_view_module_version": "1.2.0",
            "_view_name": "StyleView",
            "cursor": "grab"
          }
        },
        "b6a5ce15a94c470b8a5d7ca31d54ff05": {
          "model_module": "@jupyter-widgets/controls",
          "model_name": "HBoxModel",
          "model_module_version": "1.5.0",
          "state": {
            "_dom_classes": [],
            "_model_module": "@jupyter-widgets/controls",
            "_model_module_version": "1.5.0",
            "_model_name": "HBoxModel",
            "_view_count": null,
            "_view_module": "@jupyter-widgets/controls",
            "_view_module_version": "1.5.0",
            "_view_name": "HBoxView",
            "box_style": "",
            "children": [
              "IPY_MODEL_1d3c368ddd164e20be743b3df3886899"
            ],
            "layout": "IPY_MODEL_9528d813a4414cf9994bac4bf897b28c"
          }
        },
        "cd33aad22f434446a364af2565bf0821": {
          "model_module": "@jupyter-widgets/controls",
          "model_name": "VBoxModel",
          "model_module_version": "1.5.0",
          "state": {
            "_dom_classes": [],
            "_model_module": "@jupyter-widgets/controls",
            "_model_module_version": "1.5.0",
            "_model_name": "VBoxModel",
            "_view_count": null,
            "_view_module": "@jupyter-widgets/controls",
            "_view_module_version": "1.5.0",
            "_view_name": "VBoxView",
            "box_style": "",
            "children": [
              "IPY_MODEL_f532c2c8ef69451ba398abd7d63125a4"
            ],
            "layout": "IPY_MODEL_90664db58aa4489ebed540e77282fe2b"
          }
        },
        "50df4a187e414aada0718f49b871af01": {
          "model_module": "@jupyter-widgets/output",
          "model_name": "OutputModel",
          "model_module_version": "1.0.0",
          "state": {
            "_dom_classes": [],
            "_model_module": "@jupyter-widgets/output",
            "_model_module_version": "1.0.0",
            "_model_name": "OutputModel",
            "_view_count": null,
            "_view_module": "@jupyter-widgets/output",
            "_view_module_version": "1.0.0",
            "_view_name": "OutputView",
            "layout": "IPY_MODEL_e1545715a1784ff69f09b486f0a95ae6",
            "msg_id": "",
            "outputs": [
              {
                "output_type": "display_data",
                "data": {
                  "text/plain": "HTML(value=\"<html>\\n<body>\\n  <div class='my-legend'>\\n  <div class='legend-title'>Legend</div>\\n  <div class=…",
                  "application/vnd.jupyter.widget-view+json": {
                    "version_major": 2,
                    "version_minor": 0,
                    "model_id": "67eea99910cc47658ac758ffa21fa542"
                  }
                },
                "metadata": {
                  "application/vnd.jupyter.widget-view+json": {
                    "colab": {
                      "custom_widget_manager": {
                        "url": "https://ssl.gstatic.com/colaboratory-static/widgets/colab-cdn-widget-manager/d2e234f7cc04bf79/manager.min.js"
                      }
                    }
                  }
                }
              }
            ]
          }
        },
        "1d3c368ddd164e20be743b3df3886899": {
          "model_module": "@jupyter-widgets/controls",
          "model_name": "ToggleButtonModel",
          "model_module_version": "1.5.0",
          "state": {
            "_dom_classes": [],
            "_model_module": "@jupyter-widgets/controls",
            "_model_module_version": "1.5.0",
            "_model_name": "ToggleButtonModel",
            "_view_count": null,
            "_view_module": "@jupyter-widgets/controls",
            "_view_module_version": "1.5.0",
            "_view_name": "ToggleButtonView",
            "button_style": "",
            "description": "",
            "description_tooltip": null,
            "disabled": false,
            "icon": "globe",
            "layout": "IPY_MODEL_6ceb64f8f5194b899ea4af02c7f58015",
            "style": "IPY_MODEL_ea382c1526a642f480a9e28831efe2e0",
            "tooltip": "Search location/data",
            "value": false
          }
        },
        "9528d813a4414cf9994bac4bf897b28c": {
          "model_module": "@jupyter-widgets/base",
          "model_name": "LayoutModel",
          "model_module_version": "1.2.0",
          "state": {
            "_model_module": "@jupyter-widgets/base",
            "_model_module_version": "1.2.0",
            "_model_name": "LayoutModel",
            "_view_count": null,
            "_view_module": "@jupyter-widgets/base",
            "_view_module_version": "1.2.0",
            "_view_name": "LayoutView",
            "align_content": null,
            "align_items": null,
            "align_self": null,
            "border": null,
            "bottom": null,
            "display": null,
            "flex": null,
            "flex_flow": null,
            "grid_area": null,
            "grid_auto_columns": null,
            "grid_auto_flow": null,
            "grid_auto_rows": null,
            "grid_column": null,
            "grid_gap": null,
            "grid_row": null,
            "grid_template_areas": null,
            "grid_template_columns": null,
            "grid_template_rows": null,
            "height": null,
            "justify_content": null,
            "justify_items": null,
            "left": null,
            "margin": null,
            "max_height": null,
            "max_width": null,
            "min_height": null,
            "min_width": null,
            "object_fit": null,
            "object_position": null,
            "order": null,
            "overflow": null,
            "overflow_x": null,
            "overflow_y": null,
            "padding": null,
            "right": null,
            "top": null,
            "visibility": null,
            "width": null
          }
        },
        "f532c2c8ef69451ba398abd7d63125a4": {
          "model_module": "@jupyter-widgets/controls",
          "model_name": "ToggleButtonModel",
          "model_module_version": "1.5.0",
          "state": {
            "_dom_classes": [],
            "_model_module": "@jupyter-widgets/controls",
            "_model_module_version": "1.5.0",
            "_model_name": "ToggleButtonModel",
            "_view_count": null,
            "_view_module": "@jupyter-widgets/controls",
            "_view_module_version": "1.5.0",
            "_view_name": "ToggleButtonView",
            "button_style": "",
            "description": "",
            "description_tooltip": null,
            "disabled": false,
            "icon": "wrench",
            "layout": "IPY_MODEL_903e4f4f60724160b7d0e287583d2a93",
            "style": "IPY_MODEL_5233852cf7cb40ce860ad3c8cb776993",
            "tooltip": "Toolbar",
            "value": false
          }
        },
        "90664db58aa4489ebed540e77282fe2b": {
          "model_module": "@jupyter-widgets/base",
          "model_name": "LayoutModel",
          "model_module_version": "1.2.0",
          "state": {
            "_model_module": "@jupyter-widgets/base",
            "_model_module_version": "1.2.0",
            "_model_name": "LayoutModel",
            "_view_count": null,
            "_view_module": "@jupyter-widgets/base",
            "_view_module_version": "1.2.0",
            "_view_name": "LayoutView",
            "align_content": null,
            "align_items": null,
            "align_self": null,
            "border": null,
            "bottom": null,
            "display": null,
            "flex": null,
            "flex_flow": null,
            "grid_area": null,
            "grid_auto_columns": null,
            "grid_auto_flow": null,
            "grid_auto_rows": null,
            "grid_column": null,
            "grid_gap": null,
            "grid_row": null,
            "grid_template_areas": null,
            "grid_template_columns": null,
            "grid_template_rows": null,
            "height": null,
            "justify_content": null,
            "justify_items": null,
            "left": null,
            "margin": null,
            "max_height": null,
            "max_width": null,
            "min_height": null,
            "min_width": null,
            "object_fit": null,
            "object_position": null,
            "order": null,
            "overflow": null,
            "overflow_x": null,
            "overflow_y": null,
            "padding": null,
            "right": null,
            "top": null,
            "visibility": null,
            "width": null
          }
        },
        "e1545715a1784ff69f09b486f0a95ae6": {
          "model_module": "@jupyter-widgets/base",
          "model_name": "LayoutModel",
          "model_module_version": "1.2.0",
          "state": {
            "_model_module": "@jupyter-widgets/base",
            "_model_module_version": "1.2.0",
            "_model_name": "LayoutModel",
            "_view_count": null,
            "_view_module": "@jupyter-widgets/base",
            "_view_module_version": "1.2.0",
            "_view_name": "LayoutView",
            "align_content": null,
            "align_items": null,
            "align_self": null,
            "border": null,
            "bottom": null,
            "display": null,
            "flex": null,
            "flex_flow": null,
            "grid_area": null,
            "grid_auto_columns": null,
            "grid_auto_flow": null,
            "grid_auto_rows": null,
            "grid_column": null,
            "grid_gap": null,
            "grid_row": null,
            "grid_template_areas": null,
            "grid_template_columns": null,
            "grid_template_rows": null,
            "height": null,
            "justify_content": null,
            "justify_items": null,
            "left": null,
            "margin": null,
            "max_height": "400px",
            "max_width": "300px",
            "min_height": null,
            "min_width": null,
            "object_fit": null,
            "object_position": null,
            "order": null,
            "overflow": "scroll",
            "overflow_x": null,
            "overflow_y": null,
            "padding": null,
            "right": null,
            "top": null,
            "visibility": null,
            "width": null
          }
        },
        "6ceb64f8f5194b899ea4af02c7f58015": {
          "model_module": "@jupyter-widgets/base",
          "model_name": "LayoutModel",
          "model_module_version": "1.2.0",
          "state": {
            "_model_module": "@jupyter-widgets/base",
            "_model_module_version": "1.2.0",
            "_model_name": "LayoutModel",
            "_view_count": null,
            "_view_module": "@jupyter-widgets/base",
            "_view_module_version": "1.2.0",
            "_view_name": "LayoutView",
            "align_content": null,
            "align_items": null,
            "align_self": null,
            "border": null,
            "bottom": null,
            "display": null,
            "flex": null,
            "flex_flow": null,
            "grid_area": null,
            "grid_auto_columns": null,
            "grid_auto_flow": null,
            "grid_auto_rows": null,
            "grid_column": null,
            "grid_gap": null,
            "grid_row": null,
            "grid_template_areas": null,
            "grid_template_columns": null,
            "grid_template_rows": null,
            "height": "28px",
            "justify_content": null,
            "justify_items": null,
            "left": null,
            "margin": null,
            "max_height": null,
            "max_width": null,
            "min_height": null,
            "min_width": null,
            "object_fit": null,
            "object_position": null,
            "order": null,
            "overflow": null,
            "overflow_x": null,
            "overflow_y": null,
            "padding": "0px 0px 0px 4px",
            "right": null,
            "top": null,
            "visibility": null,
            "width": "28px"
          }
        },
        "ea382c1526a642f480a9e28831efe2e0": {
          "model_module": "@jupyter-widgets/controls",
          "model_name": "DescriptionStyleModel",
          "model_module_version": "1.5.0",
          "state": {
            "_model_module": "@jupyter-widgets/controls",
            "_model_module_version": "1.5.0",
            "_model_name": "DescriptionStyleModel",
            "_view_count": null,
            "_view_module": "@jupyter-widgets/base",
            "_view_module_version": "1.2.0",
            "_view_name": "StyleView",
            "description_width": ""
          }
        },
        "903e4f4f60724160b7d0e287583d2a93": {
          "model_module": "@jupyter-widgets/base",
          "model_name": "LayoutModel",
          "model_module_version": "1.2.0",
          "state": {
            "_model_module": "@jupyter-widgets/base",
            "_model_module_version": "1.2.0",
            "_model_name": "LayoutModel",
            "_view_count": null,
            "_view_module": "@jupyter-widgets/base",
            "_view_module_version": "1.2.0",
            "_view_name": "LayoutView",
            "align_content": null,
            "align_items": null,
            "align_self": null,
            "border": null,
            "bottom": null,
            "display": null,
            "flex": null,
            "flex_flow": null,
            "grid_area": null,
            "grid_auto_columns": null,
            "grid_auto_flow": null,
            "grid_auto_rows": null,
            "grid_column": null,
            "grid_gap": null,
            "grid_row": null,
            "grid_template_areas": null,
            "grid_template_columns": null,
            "grid_template_rows": null,
            "height": "28px",
            "justify_content": null,
            "justify_items": null,
            "left": null,
            "margin": null,
            "max_height": null,
            "max_width": null,
            "min_height": null,
            "min_width": null,
            "object_fit": null,
            "object_position": null,
            "order": null,
            "overflow": null,
            "overflow_x": null,
            "overflow_y": null,
            "padding": "0px 0px 0px 4px",
            "right": null,
            "top": null,
            "visibility": null,
            "width": "28px"
          }
        },
        "5233852cf7cb40ce860ad3c8cb776993": {
          "model_module": "@jupyter-widgets/controls",
          "model_name": "DescriptionStyleModel",
          "model_module_version": "1.5.0",
          "state": {
            "_model_module": "@jupyter-widgets/controls",
            "_model_module_version": "1.5.0",
            "_model_name": "DescriptionStyleModel",
            "_view_count": null,
            "_view_module": "@jupyter-widgets/base",
            "_view_module_version": "1.2.0",
            "_view_name": "StyleView",
            "description_width": ""
          }
        },
        "67eea99910cc47658ac758ffa21fa542": {
          "model_module": "@jupyter-widgets/controls",
          "model_name": "HTMLModel",
          "model_module_version": "1.5.0",
          "state": {
            "_dom_classes": [],
            "_model_module": "@jupyter-widgets/controls",
            "_model_module_version": "1.5.0",
            "_model_name": "HTMLModel",
            "_view_count": null,
            "_view_module": "@jupyter-widgets/controls",
            "_view_module_version": "1.5.0",
            "_view_name": "HTMLView",
            "description": "",
            "description_tooltip": null,
            "layout": "IPY_MODEL_629cd0e8474f431591eb710d7f6b6e2d",
            "placeholder": "​",
            "style": "IPY_MODEL_94595fac889f4fb0a2901d98c8eb95dc",
            "value": "<html>\n<body>\n  <div class='my-legend'>\n  <div class='legend-title'>Legend</div>\n  <div class='legend-scale'>\n    <ul class='legend-labels'>\n      <li><span style='background:#ffd300;'></span>1 Corn</li>\n      <li><span style='background:#ff2626;'></span>2 Cotton</li>\n      <li><span style='background:#00a8e2;'></span>3 Rice</li>\n      <li><span style='background:#ff9e0a;'></span>4 Sorghum</li>\n      <li><span style='background:#267000;'></span>5 Soybeans</li>\n      <li><span style='background:#ffff00;'></span>6 Sunflower</li>\n      <li><span style='background:#70a500;'></span>10 Peanuts</li>\n      <li><span style='background:#00af49;'></span>11 Tobacco</li>\n      <li><span style='background:#dda50a;'></span>12 Sweet Corn</li>\n      <li><span style='background:#dda50a;'></span>13 Pop or Orn Corn</li>\n      <li><span style='background:#7cd3ff;'></span>14 Mint</li>\n      <li><span style='background:#e2007c;'></span>21 Barley</li>\n      <li><span style='background:#896054;'></span>22 Durum Wheat</li>\n      <li><span style='background:#d8b56b;'></span>23 Spring Wheat</li>\n      <li><span style='background:#a57000;'></span>24 Winter Wheat</li>\n      <li><span style='background:#d69ebc;'></span>25 Other Small Grains</li>\n      <li><span style='background:#707000;'></span>26 Dbl Crop WinWht/Soybeans</li>\n      <li><span style='background:#aa007c;'></span>27 Rye</li>\n      <li><span style='background:#a05989;'></span>28 Oats</li>\n      <li><span style='background:#700049;'></span>29 Millet</li>\n      <li><span style='background:#d69ebc;'></span>30 Speltz</li>\n      <li><span style='background:#d1ff00;'></span>31 Canola</li>\n      <li><span style='background:#7c99ff;'></span>32 Flaxseed</li>\n      <li><span style='background:#d6d600;'></span>33 Safflower</li>\n      <li><span style='background:#d1ff00;'></span>34 Rape Seed</li>\n      <li><span style='background:#00af49;'></span>35 Mustard</li>\n      <li><span style='background:#ffa5e2;'></span>36 Alfalfa</li>\n      <li><span style='background:#a5f28c;'></span>37 Other Hay/Non Alfalfa</li>\n      <li><span style='background:#00af49;'></span>38 Camelina</li>\n      <li><span style='background:#d69ebc;'></span>39 Buckwheat</li>\n      <li><span style='background:#a800e2;'></span>41 Sugarbeets</li>\n      <li><span style='background:#a50000;'></span>42 Dry Beans</li>\n      <li><span style='background:#702600;'></span>43 Potatoes</li>\n      <li><span style='background:#00af49;'></span>44 Other Crops</li>\n      <li><span style='background:#af7cff;'></span>45 Sugarcane</li>\n      <li><span style='background:#702600;'></span>46 Sweet Potatoes</li>\n      <li><span style='background:#ff6666;'></span>47 Misc Vegs & Fruits</li>\n      <li><span style='background:#ff6666;'></span>48 Watermelons</li>\n      <li><span style='background:#ffcc66;'></span>49 Onions</li>\n      <li><span style='background:#ff6666;'></span>50 Cucumbers</li>\n      <li><span style='background:#00af49;'></span>51 Chick Peas</li>\n      <li><span style='background:#00ddaf;'></span>52 Lentils</li>\n      <li><span style='background:#54ff00;'></span>53 Peas</li>\n      <li><span style='background:#f2a377;'></span>54 Tomatoes</li>\n      <li><span style='background:#ff6666;'></span>55 Caneberries</li>\n      <li><span style='background:#00af49;'></span>56 Hops</li>\n      <li><span style='background:#7cd3ff;'></span>57 Herbs</li>\n      <li><span style='background:#e8bfff;'></span>58 Clover/Wildflowers</li>\n      <li><span style='background:#afffdd;'></span>59 Sod/Grass Seed</li>\n      <li><span style='background:#00af49;'></span>60 Switchgrass</li>\n      <li><span style='background:#bfbf77;'></span>61 Fallow/Idle Cropland</li>\n      <li><span style='background:#93cc93;'></span>63 Forest</li>\n      <li><span style='background:#c6d69e;'></span>64 Shrubland</li>\n      <li><span style='background:#ccbfa3;'></span>65 Barren</li>\n      <li><span style='background:#ff00ff;'></span>66 Cherries</li>\n      <li><span style='background:#ff8eaa;'></span>67 Peaches</li>\n      <li><span style='background:#ba004f;'></span>68 Apples</li>\n      <li><span style='background:#704489;'></span>69 Grapes</li>\n      <li><span style='background:#007777;'></span>70 Christmas Trees</li>\n      <li><span style='background:#af9970;'></span>71 Other Tree Crops</li>\n      <li><span style='background:#ffff7c;'></span>72 Citrus</li>\n      <li><span style='background:#b5705b;'></span>74 Pecans</li>\n      <li><span style='background:#00a582;'></span>75 Almonds</li>\n      <li><span style='background:#e8d6af;'></span>76 Walnuts</li>\n      <li><span style='background:#af9970;'></span>77 Pears</li>\n      <li><span style='background:#f2f2f2;'></span>81 Clouds/No Data</li>\n      <li><span style='background:#999999;'></span>82 Developed</li>\n      <li><span style='background:#4970a3;'></span>83 Water</li>\n      <li><span style='background:#7cafaf;'></span>87 Wetlands</li>\n      <li><span style='background:#e8ffbf;'></span>88 Nonag/Undefined</li>\n      <li><span style='background:#00ffff;'></span>92 Aquaculture</li>\n      <li><span style='background:#4970a3;'></span>111 Open Water</li>\n      <li><span style='background:#d3e2f9;'></span>112 Perennial Ice/Snow</li>\n      <li><span style='background:#999999;'></span>121 Developed/Open Space</li>\n      <li><span style='background:#999999;'></span>122 Developed/Low Intensity</li>\n      <li><span style='background:#999999;'></span>123 Developed/Med Intensity</li>\n      <li><span style='background:#999999;'></span>124 Developed/High Intensity</li>\n      <li><span style='background:#ccbfa3;'></span>131 Barren</li>\n      <li><span style='background:#93cc93;'></span>141 Deciduous Forest</li>\n      <li><span style='background:#93cc93;'></span>142 Evergreen Forest</li>\n      <li><span style='background:#93cc93;'></span>143 Mixed Forest</li>\n      <li><span style='background:#c6d69e;'></span>152 Shrubland</li>\n      <li><span style='background:#e8ffbf;'></span>176 Grassland/Pasture</li>\n      <li><span style='background:#7cafaf;'></span>190 Woody Wetlands</li>\n      <li><span style='background:#7cafaf;'></span>195 Herbaceous Wetlands</li>\n      <li><span style='background:#00ff8c;'></span>204 Pistachios</li>\n      <li><span style='background:#d69ebc;'></span>205 Triticale</li>\n      <li><span style='background:#ff6666;'></span>206 Carrots</li>\n      <li><span style='background:#ff6666;'></span>207 Asparagus</li>\n      <li><span style='background:#ff6666;'></span>208 Garlic</li>\n      <li><span style='background:#ff6666;'></span>209 Cantaloupes</li>\n      <li><span style='background:#ff8eaa;'></span>210 Prunes</li>\n      <li><span style='background:#334933;'></span>211 Olives</li>\n      <li><span style='background:#e27026;'></span>212 Oranges</li>\n      <li><span style='background:#ff6666;'></span>213 Honeydew Melons</li>\n      <li><span style='background:#ff6666;'></span>214 Broccoli</li>\n      <li><span style='background:#ff6666;'></span>216 Peppers</li>\n      <li><span style='background:#af9970;'></span>217 Pomegranates</li>\n      <li><span style='background:#ff8eaa;'></span>218 Nectarines</li>\n      <li><span style='background:#ff6666;'></span>219 Greens</li>\n      <li><span style='background:#ff8eaa;'></span>220 Plums</li>\n      <li><span style='background:#ff6666;'></span>221 Strawberries</li>\n      <li><span style='background:#ff6666;'></span>222 Squash</li>\n      <li><span style='background:#ff8eaa;'></span>223 Apricots</li>\n      <li><span style='background:#00af49;'></span>224 Vetch</li>\n      <li><span style='background:#ffd300;'></span>225 Dbl Crop WinWht/Corn</li>\n      <li><span style='background:#ffd300;'></span>226 Dbl Crop Oats/Corn</li>\n      <li><span style='background:#ff6666;'></span>227 Lettuce</li>\n      <li><span style='background:#ff6666;'></span>229 Pumpkins</li>\n      <li><span style='background:#896054;'></span>230 Dbl Crop Lettuce/Durum Wht</li>\n      <li><span style='background:#ff6666;'></span>231 Dbl Crop Lettuce/Cantaloupe</li>\n      <li><span style='background:#ff2626;'></span>232 Dbl Crop Lettuce/Cotton</li>\n      <li><span style='background:#e2007c;'></span>233 Dbl Crop Lettuce/Barley</li>\n      <li><span style='background:#ff9e0a;'></span>234 Dbl Crop Durum Wht/Sorghum</li>\n      <li><span style='background:#ff9e0a;'></span>235 Dbl Crop Barley/Sorghum</li>\n      <li><span style='background:#a57000;'></span>236 Dbl Crop WinWht/Sorghum</li>\n      <li><span style='background:#ffd300;'></span>237 Dbl Crop Barley/Corn</li>\n      <li><span style='background:#a57000;'></span>238 Dbl Crop WinWht/Cotton</li>\n      <li><span style='background:#267000;'></span>239 Dbl Crop Soybeans/Cotton</li>\n      <li><span style='background:#267000;'></span>240 Dbl Crop Soybeans/Oats</li>\n      <li><span style='background:#ffd300;'></span>241 Dbl Crop Corn/Soybeans</li>\n      <li><span style='background:#000099;'></span>242 Blueberries</li>\n      <li><span style='background:#ff6666;'></span>243 Cabbage</li>\n      <li><span style='background:#ff6666;'></span>244 Cauliflower</li>\n      <li><span style='background:#ff6666;'></span>245 Celery</li>\n      <li><span style='background:#ff6666;'></span>246 Radishes</li>\n      <li><span style='background:#ff6666;'></span>247 Turnips</li>\n      <li><span style='background:#ff6666;'></span>248 Eggplants</li>\n      <li><span style='background:#ff6666;'></span>249 Gourds</li>\n      <li><span style='background:#ff6666;'></span>250 Cranberries</li>\n      <li><span style='background:#267000;'></span>254 Dbl Crop Barley/Soybeans</li>\n    </ul>\n  </div>\n  </div>\n\n  <style type='text/css'>\n    .my-legend .legend-title {\n      text-align: left;\n      margin-bottom: 2px;\n      margin-left: 2px;\n      font-weight: bold;\n      font-size: 90%;\n      }\n    .my-legend .legend-scale ul {\n      margin: 0;\n      margin-bottom: 5px;\n      padding: 0;\n      float: left;\n      list-style: none;\n      }\n    .my-legend .legend-scale ul li {\n      font-size: 80%;\n      list-style: none;\n      margin-left: 1px;\n      line-height: 18px;\n      margin-bottom: 2px;\n      }\n    .my-legend ul.legend-labels li span {\n      display: block;\n      float: left;\n      height: 16px;\n      width: 30px;\n      margin-right: 5px;\n      margin-left: 2px;\n      border: 1px solid #999;\n      }\n    .my-legend .legend-source {\n      font-size: 70%;\n      color: #999;\n      clear: both;\n      }\n    .my-legend a {\n      color: #777;\n      }\n  </style>\n</body>\n</html>\n"
          }
        },
        "629cd0e8474f431591eb710d7f6b6e2d": {
          "model_module": "@jupyter-widgets/base",
          "model_name": "LayoutModel",
          "model_module_version": "1.2.0",
          "state": {
            "_model_module": "@jupyter-widgets/base",
            "_model_module_version": "1.2.0",
            "_model_name": "LayoutModel",
            "_view_count": null,
            "_view_module": "@jupyter-widgets/base",
            "_view_module_version": "1.2.0",
            "_view_name": "LayoutView",
            "align_content": null,
            "align_items": null,
            "align_self": null,
            "border": null,
            "bottom": null,
            "display": null,
            "flex": null,
            "flex_flow": null,
            "grid_area": null,
            "grid_auto_columns": null,
            "grid_auto_flow": null,
            "grid_auto_rows": null,
            "grid_column": null,
            "grid_gap": null,
            "grid_row": null,
            "grid_template_areas": null,
            "grid_template_columns": null,
            "grid_template_rows": null,
            "height": null,
            "justify_content": null,
            "justify_items": null,
            "left": null,
            "margin": null,
            "max_height": null,
            "max_width": null,
            "min_height": null,
            "min_width": null,
            "object_fit": null,
            "object_position": null,
            "order": null,
            "overflow": null,
            "overflow_x": null,
            "overflow_y": null,
            "padding": null,
            "right": null,
            "top": null,
            "visibility": null,
            "width": null
          }
        },
        "94595fac889f4fb0a2901d98c8eb95dc": {
          "model_module": "@jupyter-widgets/controls",
          "model_name": "DescriptionStyleModel",
          "model_module_version": "1.5.0",
          "state": {
            "_model_module": "@jupyter-widgets/controls",
            "_model_module_version": "1.5.0",
            "_model_name": "DescriptionStyleModel",
            "_view_count": null,
            "_view_module": "@jupyter-widgets/base",
            "_view_module_version": "1.2.0",
            "_view_name": "StyleView",
            "description_width": ""
          }
        }
      }
    }
  },
  "cells": [
    {
      "cell_type": "markdown",
      "metadata": {
        "id": "view-in-github",
        "colab_type": "text"
      },
      "source": [
        "<a href=\"https://colab.research.google.com/github/epalosh/SEES-2022/blob/main/Cropland_In_Texas-California-CentralCornBeltPlains.ipynb\" target=\"_parent\"><img src=\"https://colab.research.google.com/assets/colab-badge.svg\" alt=\"Open In Colab\"/></a>"
      ]
    },
    {
      "cell_type": "markdown",
      "source": [
        "Welcome! This notebook, we will be exporing cropland plots in Texas. Let's go!"
      ],
      "metadata": {
        "id": "5Ww__2J8zsA1"
      }
    },
    {
      "cell_type": "code",
      "execution_count": 1,
      "metadata": {
        "id": "iIqeOq6Ryj79"
      },
      "outputs": [],
      "source": [
        "import ee"
      ]
    },
    {
      "cell_type": "code",
      "source": [
        "#Authenticate and Initialize Earth Engine!\n",
        "ee.Authenticate()\n",
        "ee.Initialize()"
      ],
      "metadata": {
        "colab": {
          "base_uri": "https://localhost:8080/"
        },
        "id": "laZXZY4IzO23",
        "outputId": "7860fdad-5c07-44c7-d864-c4a713ab2474"
      },
      "execution_count": 2,
      "outputs": [
        {
          "output_type": "stream",
          "name": "stdout",
          "text": [
            "To authorize access needed by Earth Engine, open the following URL in a web browser and follow the instructions. If the web browser does not start automatically, please manually browse the URL below.\n",
            "\n",
            "    https://code.earthengine.google.com/client-auth?scopes=https%3A//www.googleapis.com/auth/earthengine%20https%3A//www.googleapis.com/auth/devstorage.full_control&request_id=SN7cm3Ue2XJChsTPkosY58SRmkFB0AejWYYfPMZ-6pE&tc=b8LL2H-7c1MJZf5l2fI2krghIS7hbNojDAANxMzvQ5U&cc=k6It88C0zr6BE3R2p2bOw-vACufN6AQXG_TQ6S9fX08\n",
            "\n",
            "The authorization workflow will generate a code, which you should paste in the box below.\n",
            "Enter verification code: 4/1AdQt8qjg04mMc8tE2kEeKqWjVhfFBfQjZSRx31btefgL4TQbEnQQJRzp25Y\n",
            "\n",
            "Successfully saved authorization token.\n"
          ]
        }
      ]
    },
    {
      "cell_type": "code",
      "source": [
        "# Installs geemap package\n",
        "import subprocess\n",
        "\n",
        "try:\n",
        "    import geemap\n",
        "    print(\"geemap is imported and ready to use in Colab\")\n",
        "except ImportError:\n",
        "    print('geemap package not installed. Installing ...')\n",
        "    subprocess.check_call([\"python\", '-m', 'pip', 'install', 'geemap'])\n",
        "    import geemap\n",
        "    print(\"geemap is now installed, imported and ready to use in Colab\") "
      ],
      "metadata": {
        "colab": {
          "base_uri": "https://localhost:8080/",
          "height": 52
        },
        "id": "V9OWSDJE0HT-",
        "outputId": "29e9ef09-cdf4-4ccb-f27c-5a1a7cffdc34"
      },
      "execution_count": 3,
      "outputs": [
        {
          "output_type": "stream",
          "name": "stdout",
          "text": [
            "geemap package not installed. Installing ...\n",
            "geemap is now installed, imported and ready to use in Colab\n"
          ]
        }
      ]
    },
    {
      "cell_type": "markdown",
      "source": [
        "To begin this plot, I create a variable to store the location. In this example, I will be clipping the plot to Texas only by utilizing the TIGER dataset.\n",
        "\n",
        "Define the feature collection and filter for the desired parameter. In this case, I filter for the state \"Texas.\""
      ],
      "metadata": {
        "id": "szOO0VX1p32J"
      }
    },
    {
      "cell_type": "code",
      "source": [
        "Texas = ee.FeatureCollection('TIGER/2018/States') \\\n",
        "    .filter(ee.Filter.eq(\"NAME\", \"Texas\"))"
      ],
      "metadata": {
        "id": "xtqzvvOi0y-e"
      },
      "execution_count": 4,
      "outputs": []
    },
    {
      "cell_type": "markdown",
      "source": [
        "Add some more!"
      ],
      "metadata": {
        "id": "l1ozr9g2PAf_"
      }
    },
    {
      "cell_type": "code",
      "source": [
        "California = ee.FeatureCollection('TIGER/2018/States') \\\n",
        "    .filter(ee.Filter.eq(\"NAME\", \"California\"))\n",
        "\n",
        "CCornBeltPlains = ee.FeatureCollection('EPA/Ecoregions/2013/L3') \\\n",
        "    .filter(ee.Filter.eq(\"na_l3code\", \"8.2.3\"))\n",
        "\n",
        "TravisCounty = ee.FeatureCollection(\"TIGER/2018/Counties\") \\\n",
        "    .filter(ee.Filter.eq(\"COUNTYFP\", \"453\"))\n",
        "\n",
        "CountiesInTexas = ee.FeatureCollection('TIGER/2018/Counties') \\\n",
        "    .filter(ee.Filter.eq(\"STATEFP\", \"48\"))"
      ],
      "metadata": {
        "id": "RH-FtGcGPDr7"
      },
      "execution_count": 5,
      "outputs": []
    },
    {
      "cell_type": "markdown",
      "source": [
        "Next, I will import the data we are looking to map and name it \"image.\" I am utilizing the USDA NASS Cropland Data Layers dataset."
      ],
      "metadata": {
        "id": "57ZCT9STrD6W"
      }
    },
    {
      "cell_type": "code",
      "source": [
        "image = ee.ImageCollection(\"USDA/NASS/CDL\")"
      ],
      "metadata": {
        "id": "rpZGb8ZDrCH2"
      },
      "execution_count": 6,
      "outputs": []
    },
    {
      "cell_type": "markdown",
      "source": [
        "Next, I'm taking the sum of two date ranges. The ranges span the year of 2021. Then, I filter the image by this sum."
      ],
      "metadata": {
        "id": "GSBohoH-st85"
      }
    },
    {
      "cell_type": "code",
      "source": [
        "sum1 = ee.Filter.date('2021-01-01','2021-06-30')\n",
        "sum2 = ee.Filter.date('2021-06-30','2021-12-31')\n",
        "\n",
        "SumFilter = ee.Filter.Or(sum1, sum2)\n",
        "\n",
        "allsum = image.filter(SumFilter)"
      ],
      "metadata": {
        "id": "7c2ulg9nWP7s"
      },
      "execution_count": 7,
      "outputs": []
    },
    {
      "cell_type": "markdown",
      "source": [
        "Create a variable called composite that reduces the collection of images.\n",
        "\n",
        "first() selects the first image from the collection (reduces it to a single image)\n",
        "\n",
        "clip() clips the image to a defined area.\n",
        "\n",
        "paint() paints something on the map. In this case, it is the county lines."
      ],
      "metadata": {
        "id": "7j7W7_rqtuVT"
      }
    },
    {
      "cell_type": "code",
      "source": [
        "composite = allsum \\\n",
        "            .first()\n",
        "\n",
        "TX = composite.clip(Texas)\n",
        "CA = composite.clip(California)\n",
        "CCBP = composite.clip(CCornBeltPlains)\n",
        "TC = composite.clip(TravisCounty)\n",
        "\n",
        "CIT = ee.Image().paint(CountiesInTexas, 0, 1)"
      ],
      "metadata": {
        "id": "3KmUy_pdWVMo"
      },
      "execution_count": 8,
      "outputs": []
    },
    {
      "cell_type": "markdown",
      "source": [
        "Finally, map it!!"
      ],
      "metadata": {
        "id": "GBY0QX1Cu1Fn"
      }
    },
    {
      "cell_type": "code",
      "source": [
        "Map = geemap.Map()   \n",
        "cropLandcover = image.select('cropland') #Select the band 'cropland'\n",
        "Map.setCenter(-97.55, 31.71, 4) #set the center point and zoom values\n",
        "\n",
        "Map.addLayer(TX.select(\"cropland\"), {}, 'Texas') #add the layer of Texas\n",
        "Map.addLayer(CA.select(\"cropland\"), {}, 'California') #add the layer of California\n",
        "Map.addLayer(CCBP.select(\"cropland\"), {}, 'Central Corn Belt Plains') #add the layer of the Central Corn Belt Plains Region\n",
        "Map.addLayer(TC.select(\"cropland\"), {}, 'Travis County') #add the layer of Travis County, TX\n",
        "Map.addLayer(CIT, {}, 'Counties In Texas') #Add county boundries in Texas\n",
        "\n",
        "Map.add_legend(builtin_legend='USDA/NASS/CDL') #Add a legend to identify crop types\n",
        "\n",
        "Map"
      ],
      "metadata": {
        "colab": {
          "base_uri": "https://localhost:8080/",
          "height": 621,
          "referenced_widgets": [
            "0c6dd930cf224776bf7550f872eebf1c",
            "b37eac2509b04e3791c7724bc8473d7a",
            "7145a1ede187426ebcdd54fb0096307e",
            "64e578509ddc4581bdb52c5b95984dd6",
            "d37a5d5ed9d143a19e35db1cc175af6b",
            "a420de5398694564bc1763ef6931ad62",
            "b6f91cd99562471486936c48a410a8a5",
            "306f1d01970448e08e006a013ab0f9b4",
            "436946c7f95240cca7763ef0ea1c07e2",
            "3212900aed144cc491d87ce73e943716",
            "1078e8eb0f344094b24f234009ca4198",
            "f399a25eed0d4616abe5c207ae896c1b",
            "770c6acf929d4cf3817212f62971f092",
            "e2a46d54f6b74c09a3506684a2315725",
            "7af6ed679115459c99b7ec399d2fe899",
            "bae09a8401de49cc821ec0c0ac21ffbf",
            "759aff9457374b598d33b28f12abfa56",
            "b725e2276663475eba9f2aa522e0997b",
            "669a756d695c42e09e62dd3f115b507c",
            "da4dedfb27cb4e35b6be04d683864619",
            "763bf411accf4069b12fb5a00770836a",
            "b6a5ce15a94c470b8a5d7ca31d54ff05",
            "cd33aad22f434446a364af2565bf0821",
            "50df4a187e414aada0718f49b871af01",
            "1d3c368ddd164e20be743b3df3886899",
            "9528d813a4414cf9994bac4bf897b28c",
            "f532c2c8ef69451ba398abd7d63125a4",
            "90664db58aa4489ebed540e77282fe2b",
            "e1545715a1784ff69f09b486f0a95ae6",
            "6ceb64f8f5194b899ea4af02c7f58015",
            "ea382c1526a642f480a9e28831efe2e0",
            "903e4f4f60724160b7d0e287583d2a93",
            "5233852cf7cb40ce860ad3c8cb776993",
            "67eea99910cc47658ac758ffa21fa542",
            "629cd0e8474f431591eb710d7f6b6e2d",
            "94595fac889f4fb0a2901d98c8eb95dc"
          ]
        },
        "id": "ZA1gGMnK9gBK",
        "outputId": "a1d1a939-909f-475e-b273-e1feda6f7fd9"
      },
      "execution_count": 9,
      "outputs": [
        {
          "output_type": "display_data",
          "data": {
            "text/plain": [
              "Map(center=[31.71, -97.55], controls=(WidgetControl(options=['position', 'transparent_bg'], widget=HBox(childr…"
            ],
            "application/vnd.jupyter.widget-view+json": {
              "version_major": 2,
              "version_minor": 0,
              "model_id": "0c6dd930cf224776bf7550f872eebf1c"
            }
          },
          "metadata": {
            "application/vnd.jupyter.widget-view+json": {
              "colab": {
                "custom_widget_manager": {
                  "url": "https://ssl.gstatic.com/colaboratory-static/widgets/colab-cdn-widget-manager/d2e234f7cc04bf79/manager.min.js"
                }
              }
            }
          }
        }
      ]
    },
    {
      "cell_type": "code",
      "source": [
        ""
      ],
      "metadata": {
        "id": "YMxYtzd78aWC"
      },
      "execution_count": null,
      "outputs": []
    }
  ]
}